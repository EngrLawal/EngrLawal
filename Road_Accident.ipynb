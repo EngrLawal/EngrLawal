{
  "nbformat": 4,
  "nbformat_minor": 0,
  "metadata": {
    "colab": {
      "provenance": [],
      "collapsed_sections": [
        "tAEG2Z7AXp9c"
      ],
      "toc_visible": true,
      "include_colab_link": true
    },
    "kernelspec": {
      "name": "python3",
      "display_name": "Python 3"
    },
    "language_info": {
      "name": "python"
    }
  },
  "cells": [
    {
      "cell_type": "markdown",
      "metadata": {
        "id": "view-in-github",
        "colab_type": "text"
      },
      "source": [
        "<a href=\"https://colab.research.google.com/github/EngrLawal/EngrLawal/blob/main/Road_Accident.ipynb\" target=\"_parent\"><img src=\"https://colab.research.google.com/assets/colab-badge.svg\" alt=\"Open In Colab\"/></a>"
      ]
    },
    {
      "cell_type": "code",
      "source": [
        "from google.colab import drive\n",
        "drive.mount('/content/drive')"
      ],
      "metadata": {
        "colab": {
          "base_uri": "https://localhost:8080/"
        },
        "id": "JLCT8wmYZpkZ",
        "outputId": "5182c022-617a-45f5-ee6c-80d5ce54c261"
      },
      "execution_count": 1,
      "outputs": [
        {
          "output_type": "stream",
          "name": "stdout",
          "text": [
            "Mounted at /content/drive\n"
          ]
        }
      ]
    },
    {
      "cell_type": "code",
      "execution_count": null,
      "metadata": {
        "id": "Zm7FYSBP6fVP",
        "colab": {
          "base_uri": "https://localhost:8080/"
        },
        "outputId": "d6b74fc9-6e2d-4d50-bb66-913bcd86954d"
      },
      "outputs": [
        {
          "output_type": "stream",
          "name": "stdout",
          "text": [
            "Looking in indexes: https://pypi.org/simple, https://us-python.pkg.dev/colab-wheels/public/simple/\n",
            "Collecting geopandas\n",
            "  Downloading geopandas-0.10.2-py2.py3-none-any.whl (1.0 MB)\n",
            "\u001b[K     |████████████████████████████████| 1.0 MB 5.0 MB/s \n",
            "\u001b[?25hRequirement already satisfied: shapely>=1.6 in /usr/local/lib/python3.7/dist-packages (from geopandas) (1.8.2)\n",
            "Requirement already satisfied: pandas>=0.25.0 in /usr/local/lib/python3.7/dist-packages (from geopandas) (1.3.5)\n",
            "Collecting fiona>=1.8\n",
            "  Downloading Fiona-1.8.21-cp37-cp37m-manylinux2014_x86_64.whl (16.7 MB)\n",
            "\u001b[K     |████████████████████████████████| 16.7 MB 355 kB/s \n",
            "\u001b[?25hCollecting pyproj>=2.2.0\n",
            "  Downloading pyproj-3.2.1-cp37-cp37m-manylinux2010_x86_64.whl (6.3 MB)\n",
            "\u001b[K     |████████████████████████████████| 6.3 MB 29.0 MB/s \n",
            "\u001b[?25hCollecting cligj>=0.5\n",
            "  Downloading cligj-0.7.2-py3-none-any.whl (7.1 kB)\n",
            "Requirement already satisfied: certifi in /usr/local/lib/python3.7/dist-packages (from fiona>=1.8->geopandas) (2022.6.15)\n",
            "Requirement already satisfied: attrs>=17 in /usr/local/lib/python3.7/dist-packages (from fiona>=1.8->geopandas) (21.4.0)\n",
            "Collecting click-plugins>=1.0\n",
            "  Downloading click_plugins-1.1.1-py2.py3-none-any.whl (7.5 kB)\n",
            "Requirement already satisfied: click>=4.0 in /usr/local/lib/python3.7/dist-packages (from fiona>=1.8->geopandas) (7.1.2)\n",
            "Collecting munch\n",
            "  Downloading munch-2.5.0-py2.py3-none-any.whl (10 kB)\n",
            "Requirement already satisfied: setuptools in /usr/local/lib/python3.7/dist-packages (from fiona>=1.8->geopandas) (57.4.0)\n",
            "Requirement already satisfied: six>=1.7 in /usr/local/lib/python3.7/dist-packages (from fiona>=1.8->geopandas) (1.15.0)\n",
            "Requirement already satisfied: pytz>=2017.3 in /usr/local/lib/python3.7/dist-packages (from pandas>=0.25.0->geopandas) (2022.1)\n",
            "Requirement already satisfied: numpy>=1.17.3 in /usr/local/lib/python3.7/dist-packages (from pandas>=0.25.0->geopandas) (1.21.6)\n",
            "Requirement already satisfied: python-dateutil>=2.7.3 in /usr/local/lib/python3.7/dist-packages (from pandas>=0.25.0->geopandas) (2.8.2)\n",
            "Installing collected packages: munch, cligj, click-plugins, pyproj, fiona, geopandas\n",
            "Successfully installed click-plugins-1.1.1 cligj-0.7.2 fiona-1.8.21 geopandas-0.10.2 munch-2.5.0 pyproj-3.2.1\n"
          ]
        }
      ],
      "source": [
        "!pip install geopandas\n",
        "import pandas as pd\n",
        "import csv\n",
        "import numpy as np\n",
        "from pandas_profiling import ProfileReport\n",
        "import matplotlib.pyplot as plt\n",
        "import datetime as dt\n",
        "import seaborn as sns\n",
        "import warnings\n",
        "import folium\n",
        "import geopy.distance\n",
        "import geopandas as gpd\n",
        "%matplotlib inline\n",
        "\n",
        "\n",
        "from geopandas import GeoDataFrame\n",
        "from shapely.geometry import Point\n",
        "from numpy import mean\n",
        "from numpy import std\n",
        "from sklearn.cluster import KMeans\n",
        "from sklearn.model_selection import cross_val_score\n",
        "from sklearn.model_selection import RepeatedStratifiedKFold\n",
        "from sklearn.linear_model import LogisticRegression\n",
        "from sklearn.neighbors import KNeighborsClassifier\n",
        "from sklearn.tree import DecisionTreeClassifier\n",
        "from sklearn.naive_bayes import GaussianNB\n",
        "from matplotlib import pyplot\n",
        "from geopy.distance import Distance\n",
        "from folium import plugins\n",
        "warnings.filterwarnings(\"ignore\")"
      ]
    },
    {
      "cell_type": "markdown",
      "source": [
        "# Try to Understand Data by checking Columns and few rows"
      ],
      "metadata": {
        "id": "ya0LhlE5TNTi"
      }
    },
    {
      "cell_type": "code",
      "source": [
        "acc_df = pd.read_csv('/content/drive/MyDrive/Big_data/Road Safety Data - Accidents 2019.csv', dtype = {'Accident_Index': \"string\"})\n",
        "cas_df = pd.read_csv('/content/drive/MyDrive/Big_data/Road Safety Data - Casualties 2019.csv', dtype = {'Accident_Index': \"string\"})\n",
        "veh_df = pd.read_csv('/content/drive/MyDrive/Big_data/Road Safety Data- Vehicles 2019.csv', dtype = {'Accident_Index': \"string\"})"
      ],
      "metadata": {
        "id": "1XMDrsDgfKs3"
      },
      "execution_count": null,
      "outputs": []
    },
    {
      "cell_type": "code",
      "source": [
        "acc_df.head(2)"
      ],
      "metadata": {
        "colab": {
          "base_uri": "https://localhost:8080/",
          "height": 223
        },
        "id": "pd71vUSeUg2d",
        "outputId": "e4733755-2a8f-4d72-bbe6-c876acaf4f2c"
      },
      "execution_count": null,
      "outputs": [
        {
          "output_type": "execute_result",
          "data": {
            "text/plain": [
              "  Accident_Index  Location_Easting_OSGR  Location_Northing_OSGR  Longitude  \\\n",
              "0  2019010128300               528218.0                180407.0  -0.153842   \n",
              "1  2019010152270               530219.0                172463.0  -0.127949   \n",
              "\n",
              "    Latitude  Police_Force  Accident_Severity  Number_of_Vehicles  \\\n",
              "0  51.508057             1                  3                   2   \n",
              "1  51.436208             1                  3                   2   \n",
              "\n",
              "   Number_of_Casualties        Date  ...  Pedestrian_Crossing-Human_Control  \\\n",
              "0                     3  18/02/2019  ...                                  0   \n",
              "1                     1  15/01/2019  ...                                 -1   \n",
              "\n",
              "  Pedestrian_Crossing-Physical_Facilities  Light_Conditions  \\\n",
              "0                                       5                 1   \n",
              "1                                      -1                 4   \n",
              "\n",
              "  Weather_Conditions  Road_Surface_Conditions  Special_Conditions_at_Site  \\\n",
              "0                  1                        1                           0   \n",
              "1                  1                        1                           0   \n",
              "\n",
              "   Carriageway_Hazards  Urban_or_Rural_Area  \\\n",
              "0                    0                    1   \n",
              "1                    0                    1   \n",
              "\n",
              "   Did_Police_Officer_Attend_Scene_of_Accident  LSOA_of_Accident_Location  \n",
              "0                                            3                  E01004762  \n",
              "1                                            3                  E01003117  \n",
              "\n",
              "[2 rows x 32 columns]"
            ],
            "text/html": [
              "\n",
              "  <div id=\"df-ef37ccf8-9ca1-4091-aa39-97ad93eed8d8\">\n",
              "    <div class=\"colab-df-container\">\n",
              "      <div>\n",
              "<style scoped>\n",
              "    .dataframe tbody tr th:only-of-type {\n",
              "        vertical-align: middle;\n",
              "    }\n",
              "\n",
              "    .dataframe tbody tr th {\n",
              "        vertical-align: top;\n",
              "    }\n",
              "\n",
              "    .dataframe thead th {\n",
              "        text-align: right;\n",
              "    }\n",
              "</style>\n",
              "<table border=\"1\" class=\"dataframe\">\n",
              "  <thead>\n",
              "    <tr style=\"text-align: right;\">\n",
              "      <th></th>\n",
              "      <th>Accident_Index</th>\n",
              "      <th>Location_Easting_OSGR</th>\n",
              "      <th>Location_Northing_OSGR</th>\n",
              "      <th>Longitude</th>\n",
              "      <th>Latitude</th>\n",
              "      <th>Police_Force</th>\n",
              "      <th>Accident_Severity</th>\n",
              "      <th>Number_of_Vehicles</th>\n",
              "      <th>Number_of_Casualties</th>\n",
              "      <th>Date</th>\n",
              "      <th>...</th>\n",
              "      <th>Pedestrian_Crossing-Human_Control</th>\n",
              "      <th>Pedestrian_Crossing-Physical_Facilities</th>\n",
              "      <th>Light_Conditions</th>\n",
              "      <th>Weather_Conditions</th>\n",
              "      <th>Road_Surface_Conditions</th>\n",
              "      <th>Special_Conditions_at_Site</th>\n",
              "      <th>Carriageway_Hazards</th>\n",
              "      <th>Urban_or_Rural_Area</th>\n",
              "      <th>Did_Police_Officer_Attend_Scene_of_Accident</th>\n",
              "      <th>LSOA_of_Accident_Location</th>\n",
              "    </tr>\n",
              "  </thead>\n",
              "  <tbody>\n",
              "    <tr>\n",
              "      <th>0</th>\n",
              "      <td>2019010128300</td>\n",
              "      <td>528218.0</td>\n",
              "      <td>180407.0</td>\n",
              "      <td>-0.153842</td>\n",
              "      <td>51.508057</td>\n",
              "      <td>1</td>\n",
              "      <td>3</td>\n",
              "      <td>2</td>\n",
              "      <td>3</td>\n",
              "      <td>18/02/2019</td>\n",
              "      <td>...</td>\n",
              "      <td>0</td>\n",
              "      <td>5</td>\n",
              "      <td>1</td>\n",
              "      <td>1</td>\n",
              "      <td>1</td>\n",
              "      <td>0</td>\n",
              "      <td>0</td>\n",
              "      <td>1</td>\n",
              "      <td>3</td>\n",
              "      <td>E01004762</td>\n",
              "    </tr>\n",
              "    <tr>\n",
              "      <th>1</th>\n",
              "      <td>2019010152270</td>\n",
              "      <td>530219.0</td>\n",
              "      <td>172463.0</td>\n",
              "      <td>-0.127949</td>\n",
              "      <td>51.436208</td>\n",
              "      <td>1</td>\n",
              "      <td>3</td>\n",
              "      <td>2</td>\n",
              "      <td>1</td>\n",
              "      <td>15/01/2019</td>\n",
              "      <td>...</td>\n",
              "      <td>-1</td>\n",
              "      <td>-1</td>\n",
              "      <td>4</td>\n",
              "      <td>1</td>\n",
              "      <td>1</td>\n",
              "      <td>0</td>\n",
              "      <td>0</td>\n",
              "      <td>1</td>\n",
              "      <td>3</td>\n",
              "      <td>E01003117</td>\n",
              "    </tr>\n",
              "  </tbody>\n",
              "</table>\n",
              "<p>2 rows × 32 columns</p>\n",
              "</div>\n",
              "      <button class=\"colab-df-convert\" onclick=\"convertToInteractive('df-ef37ccf8-9ca1-4091-aa39-97ad93eed8d8')\"\n",
              "              title=\"Convert this dataframe to an interactive table.\"\n",
              "              style=\"display:none;\">\n",
              "        \n",
              "  <svg xmlns=\"http://www.w3.org/2000/svg\" height=\"24px\"viewBox=\"0 0 24 24\"\n",
              "       width=\"24px\">\n",
              "    <path d=\"M0 0h24v24H0V0z\" fill=\"none\"/>\n",
              "    <path d=\"M18.56 5.44l.94 2.06.94-2.06 2.06-.94-2.06-.94-.94-2.06-.94 2.06-2.06.94zm-11 1L8.5 8.5l.94-2.06 2.06-.94-2.06-.94L8.5 2.5l-.94 2.06-2.06.94zm10 10l.94 2.06.94-2.06 2.06-.94-2.06-.94-.94-2.06-.94 2.06-2.06.94z\"/><path d=\"M17.41 7.96l-1.37-1.37c-.4-.4-.92-.59-1.43-.59-.52 0-1.04.2-1.43.59L10.3 9.45l-7.72 7.72c-.78.78-.78 2.05 0 2.83L4 21.41c.39.39.9.59 1.41.59.51 0 1.02-.2 1.41-.59l7.78-7.78 2.81-2.81c.8-.78.8-2.07 0-2.86zM5.41 20L4 18.59l7.72-7.72 1.47 1.35L5.41 20z\"/>\n",
              "  </svg>\n",
              "      </button>\n",
              "      \n",
              "  <style>\n",
              "    .colab-df-container {\n",
              "      display:flex;\n",
              "      flex-wrap:wrap;\n",
              "      gap: 12px;\n",
              "    }\n",
              "\n",
              "    .colab-df-convert {\n",
              "      background-color: #E8F0FE;\n",
              "      border: none;\n",
              "      border-radius: 50%;\n",
              "      cursor: pointer;\n",
              "      display: none;\n",
              "      fill: #1967D2;\n",
              "      height: 32px;\n",
              "      padding: 0 0 0 0;\n",
              "      width: 32px;\n",
              "    }\n",
              "\n",
              "    .colab-df-convert:hover {\n",
              "      background-color: #E2EBFA;\n",
              "      box-shadow: 0px 1px 2px rgba(60, 64, 67, 0.3), 0px 1px 3px 1px rgba(60, 64, 67, 0.15);\n",
              "      fill: #174EA6;\n",
              "    }\n",
              "\n",
              "    [theme=dark] .colab-df-convert {\n",
              "      background-color: #3B4455;\n",
              "      fill: #D2E3FC;\n",
              "    }\n",
              "\n",
              "    [theme=dark] .colab-df-convert:hover {\n",
              "      background-color: #434B5C;\n",
              "      box-shadow: 0px 1px 3px 1px rgba(0, 0, 0, 0.15);\n",
              "      filter: drop-shadow(0px 1px 2px rgba(0, 0, 0, 0.3));\n",
              "      fill: #FFFFFF;\n",
              "    }\n",
              "  </style>\n",
              "\n",
              "      <script>\n",
              "        const buttonEl =\n",
              "          document.querySelector('#df-ef37ccf8-9ca1-4091-aa39-97ad93eed8d8 button.colab-df-convert');\n",
              "        buttonEl.style.display =\n",
              "          google.colab.kernel.accessAllowed ? 'block' : 'none';\n",
              "\n",
              "        async function convertToInteractive(key) {\n",
              "          const element = document.querySelector('#df-ef37ccf8-9ca1-4091-aa39-97ad93eed8d8');\n",
              "          const dataTable =\n",
              "            await google.colab.kernel.invokeFunction('convertToInteractive',\n",
              "                                                     [key], {});\n",
              "          if (!dataTable) return;\n",
              "\n",
              "          const docLinkHtml = 'Like what you see? Visit the ' +\n",
              "            '<a target=\"_blank\" href=https://colab.research.google.com/notebooks/data_table.ipynb>data table notebook</a>'\n",
              "            + ' to learn more about interactive tables.';\n",
              "          element.innerHTML = '';\n",
              "          dataTable['output_type'] = 'display_data';\n",
              "          await google.colab.output.renderOutput(dataTable, element);\n",
              "          const docLink = document.createElement('div');\n",
              "          docLink.innerHTML = docLinkHtml;\n",
              "          element.appendChild(docLink);\n",
              "        }\n",
              "      </script>\n",
              "    </div>\n",
              "  </div>\n",
              "  "
            ]
          },
          "metadata": {},
          "execution_count": 4
        }
      ]
    },
    {
      "cell_type": "code",
      "source": [
        "cas_df.head(2)"
      ],
      "metadata": {
        "colab": {
          "base_uri": "https://localhost:8080/",
          "height": 176
        },
        "id": "rsZtwsUTtdoM",
        "outputId": "70fda50f-650c-4c11-911b-0c69026a67b7"
      },
      "execution_count": null,
      "outputs": [
        {
          "output_type": "execute_result",
          "data": {
            "text/plain": [
              "  Accident_Index  Vehicle_Reference  Casualty_Reference  Casualty_Class  \\\n",
              "0  2019010128300                  1                   1               1   \n",
              "1  2019010128300                  1                   2               2   \n",
              "\n",
              "   Sex_of_Casualty  Age_of_Casualty  Age_Band_of_Casualty  Casualty_Severity  \\\n",
              "0                1               58                     9                  3   \n",
              "1                2               -1                    -1                  3   \n",
              "\n",
              "   Pedestrian_Location  Pedestrian_Movement  Car_Passenger  \\\n",
              "0                    0                    0              0   \n",
              "1                    0                    0              1   \n",
              "\n",
              "   Bus_or_Coach_Passenger  Pedestrian_Road_Maintenance_Worker  Casualty_Type  \\\n",
              "0                       0                                   0              9   \n",
              "1                       0                                   0              9   \n",
              "\n",
              "   Casualty_Home_Area_Type  Casualty_IMD_Decile  \n",
              "0                        1                    2  \n",
              "1                        1                    5  "
            ],
            "text/html": [
              "\n",
              "  <div id=\"df-4d3caee0-1234-477a-b3f6-0aa86014c114\">\n",
              "    <div class=\"colab-df-container\">\n",
              "      <div>\n",
              "<style scoped>\n",
              "    .dataframe tbody tr th:only-of-type {\n",
              "        vertical-align: middle;\n",
              "    }\n",
              "\n",
              "    .dataframe tbody tr th {\n",
              "        vertical-align: top;\n",
              "    }\n",
              "\n",
              "    .dataframe thead th {\n",
              "        text-align: right;\n",
              "    }\n",
              "</style>\n",
              "<table border=\"1\" class=\"dataframe\">\n",
              "  <thead>\n",
              "    <tr style=\"text-align: right;\">\n",
              "      <th></th>\n",
              "      <th>Accident_Index</th>\n",
              "      <th>Vehicle_Reference</th>\n",
              "      <th>Casualty_Reference</th>\n",
              "      <th>Casualty_Class</th>\n",
              "      <th>Sex_of_Casualty</th>\n",
              "      <th>Age_of_Casualty</th>\n",
              "      <th>Age_Band_of_Casualty</th>\n",
              "      <th>Casualty_Severity</th>\n",
              "      <th>Pedestrian_Location</th>\n",
              "      <th>Pedestrian_Movement</th>\n",
              "      <th>Car_Passenger</th>\n",
              "      <th>Bus_or_Coach_Passenger</th>\n",
              "      <th>Pedestrian_Road_Maintenance_Worker</th>\n",
              "      <th>Casualty_Type</th>\n",
              "      <th>Casualty_Home_Area_Type</th>\n",
              "      <th>Casualty_IMD_Decile</th>\n",
              "    </tr>\n",
              "  </thead>\n",
              "  <tbody>\n",
              "    <tr>\n",
              "      <th>0</th>\n",
              "      <td>2019010128300</td>\n",
              "      <td>1</td>\n",
              "      <td>1</td>\n",
              "      <td>1</td>\n",
              "      <td>1</td>\n",
              "      <td>58</td>\n",
              "      <td>9</td>\n",
              "      <td>3</td>\n",
              "      <td>0</td>\n",
              "      <td>0</td>\n",
              "      <td>0</td>\n",
              "      <td>0</td>\n",
              "      <td>0</td>\n",
              "      <td>9</td>\n",
              "      <td>1</td>\n",
              "      <td>2</td>\n",
              "    </tr>\n",
              "    <tr>\n",
              "      <th>1</th>\n",
              "      <td>2019010128300</td>\n",
              "      <td>1</td>\n",
              "      <td>2</td>\n",
              "      <td>2</td>\n",
              "      <td>2</td>\n",
              "      <td>-1</td>\n",
              "      <td>-1</td>\n",
              "      <td>3</td>\n",
              "      <td>0</td>\n",
              "      <td>0</td>\n",
              "      <td>1</td>\n",
              "      <td>0</td>\n",
              "      <td>0</td>\n",
              "      <td>9</td>\n",
              "      <td>1</td>\n",
              "      <td>5</td>\n",
              "    </tr>\n",
              "  </tbody>\n",
              "</table>\n",
              "</div>\n",
              "      <button class=\"colab-df-convert\" onclick=\"convertToInteractive('df-4d3caee0-1234-477a-b3f6-0aa86014c114')\"\n",
              "              title=\"Convert this dataframe to an interactive table.\"\n",
              "              style=\"display:none;\">\n",
              "        \n",
              "  <svg xmlns=\"http://www.w3.org/2000/svg\" height=\"24px\"viewBox=\"0 0 24 24\"\n",
              "       width=\"24px\">\n",
              "    <path d=\"M0 0h24v24H0V0z\" fill=\"none\"/>\n",
              "    <path d=\"M18.56 5.44l.94 2.06.94-2.06 2.06-.94-2.06-.94-.94-2.06-.94 2.06-2.06.94zm-11 1L8.5 8.5l.94-2.06 2.06-.94-2.06-.94L8.5 2.5l-.94 2.06-2.06.94zm10 10l.94 2.06.94-2.06 2.06-.94-2.06-.94-.94-2.06-.94 2.06-2.06.94z\"/><path d=\"M17.41 7.96l-1.37-1.37c-.4-.4-.92-.59-1.43-.59-.52 0-1.04.2-1.43.59L10.3 9.45l-7.72 7.72c-.78.78-.78 2.05 0 2.83L4 21.41c.39.39.9.59 1.41.59.51 0 1.02-.2 1.41-.59l7.78-7.78 2.81-2.81c.8-.78.8-2.07 0-2.86zM5.41 20L4 18.59l7.72-7.72 1.47 1.35L5.41 20z\"/>\n",
              "  </svg>\n",
              "      </button>\n",
              "      \n",
              "  <style>\n",
              "    .colab-df-container {\n",
              "      display:flex;\n",
              "      flex-wrap:wrap;\n",
              "      gap: 12px;\n",
              "    }\n",
              "\n",
              "    .colab-df-convert {\n",
              "      background-color: #E8F0FE;\n",
              "      border: none;\n",
              "      border-radius: 50%;\n",
              "      cursor: pointer;\n",
              "      display: none;\n",
              "      fill: #1967D2;\n",
              "      height: 32px;\n",
              "      padding: 0 0 0 0;\n",
              "      width: 32px;\n",
              "    }\n",
              "\n",
              "    .colab-df-convert:hover {\n",
              "      background-color: #E2EBFA;\n",
              "      box-shadow: 0px 1px 2px rgba(60, 64, 67, 0.3), 0px 1px 3px 1px rgba(60, 64, 67, 0.15);\n",
              "      fill: #174EA6;\n",
              "    }\n",
              "\n",
              "    [theme=dark] .colab-df-convert {\n",
              "      background-color: #3B4455;\n",
              "      fill: #D2E3FC;\n",
              "    }\n",
              "\n",
              "    [theme=dark] .colab-df-convert:hover {\n",
              "      background-color: #434B5C;\n",
              "      box-shadow: 0px 1px 3px 1px rgba(0, 0, 0, 0.15);\n",
              "      filter: drop-shadow(0px 1px 2px rgba(0, 0, 0, 0.3));\n",
              "      fill: #FFFFFF;\n",
              "    }\n",
              "  </style>\n",
              "\n",
              "      <script>\n",
              "        const buttonEl =\n",
              "          document.querySelector('#df-4d3caee0-1234-477a-b3f6-0aa86014c114 button.colab-df-convert');\n",
              "        buttonEl.style.display =\n",
              "          google.colab.kernel.accessAllowed ? 'block' : 'none';\n",
              "\n",
              "        async function convertToInteractive(key) {\n",
              "          const element = document.querySelector('#df-4d3caee0-1234-477a-b3f6-0aa86014c114');\n",
              "          const dataTable =\n",
              "            await google.colab.kernel.invokeFunction('convertToInteractive',\n",
              "                                                     [key], {});\n",
              "          if (!dataTable) return;\n",
              "\n",
              "          const docLinkHtml = 'Like what you see? Visit the ' +\n",
              "            '<a target=\"_blank\" href=https://colab.research.google.com/notebooks/data_table.ipynb>data table notebook</a>'\n",
              "            + ' to learn more about interactive tables.';\n",
              "          element.innerHTML = '';\n",
              "          dataTable['output_type'] = 'display_data';\n",
              "          await google.colab.output.renderOutput(dataTable, element);\n",
              "          const docLink = document.createElement('div');\n",
              "          docLink.innerHTML = docLinkHtml;\n",
              "          element.appendChild(docLink);\n",
              "        }\n",
              "      </script>\n",
              "    </div>\n",
              "  </div>\n",
              "  "
            ]
          },
          "metadata": {},
          "execution_count": 5
        }
      ]
    },
    {
      "cell_type": "code",
      "source": [
        "veh_df.head(2)"
      ],
      "metadata": {
        "colab": {
          "base_uri": "https://localhost:8080/",
          "height": 223
        },
        "id": "sl7au6MqUs6r",
        "outputId": "abbff472-23b3-4192-eed7-a1b759d8dc9c"
      },
      "execution_count": null,
      "outputs": [
        {
          "output_type": "execute_result",
          "data": {
            "text/plain": [
              "  Accident_Index  Vehicle_Reference  Vehicle_Type  Towing_and_Articulation  \\\n",
              "0  2019010128300                  1             9                        0   \n",
              "1  2019010128300                  2             9                        0   \n",
              "\n",
              "   Vehicle_Manoeuvre  Vehicle_Location-Restricted_Lane  Junction_Location  \\\n",
              "0                 -1                                -1                 -1   \n",
              "1                 -1                                -1                 -1   \n",
              "\n",
              "   Skidding_and_Overturning  Hit_Object_in_Carriageway  \\\n",
              "0                        -1                         -1   \n",
              "1                        -1                         -1   \n",
              "\n",
              "   Vehicle_Leaving_Carriageway  ...  Journey_Purpose_of_Driver  Sex_of_Driver  \\\n",
              "0                           -1  ...                          6              1   \n",
              "1                           -1  ...                          6              3   \n",
              "\n",
              "   Age_of_Driver  Age_Band_of_Driver  Engine_Capacity_(CC)  Propulsion_Code  \\\n",
              "0             58                   9                    -1               -1   \n",
              "1             -1                  -1                    -1               -1   \n",
              "\n",
              "   Age_of_Vehicle  Driver_IMD_Decile  Driver_Home_Area_Type  \\\n",
              "0              -1                  2                      1   \n",
              "1              -1                  2                      1   \n",
              "\n",
              "   Vehicle_IMD_Decile  \n",
              "0                   2  \n",
              "1                   2  \n",
              "\n",
              "[2 rows x 23 columns]"
            ],
            "text/html": [
              "\n",
              "  <div id=\"df-12616c4a-60f7-479d-9b65-230efc632585\">\n",
              "    <div class=\"colab-df-container\">\n",
              "      <div>\n",
              "<style scoped>\n",
              "    .dataframe tbody tr th:only-of-type {\n",
              "        vertical-align: middle;\n",
              "    }\n",
              "\n",
              "    .dataframe tbody tr th {\n",
              "        vertical-align: top;\n",
              "    }\n",
              "\n",
              "    .dataframe thead th {\n",
              "        text-align: right;\n",
              "    }\n",
              "</style>\n",
              "<table border=\"1\" class=\"dataframe\">\n",
              "  <thead>\n",
              "    <tr style=\"text-align: right;\">\n",
              "      <th></th>\n",
              "      <th>Accident_Index</th>\n",
              "      <th>Vehicle_Reference</th>\n",
              "      <th>Vehicle_Type</th>\n",
              "      <th>Towing_and_Articulation</th>\n",
              "      <th>Vehicle_Manoeuvre</th>\n",
              "      <th>Vehicle_Location-Restricted_Lane</th>\n",
              "      <th>Junction_Location</th>\n",
              "      <th>Skidding_and_Overturning</th>\n",
              "      <th>Hit_Object_in_Carriageway</th>\n",
              "      <th>Vehicle_Leaving_Carriageway</th>\n",
              "      <th>...</th>\n",
              "      <th>Journey_Purpose_of_Driver</th>\n",
              "      <th>Sex_of_Driver</th>\n",
              "      <th>Age_of_Driver</th>\n",
              "      <th>Age_Band_of_Driver</th>\n",
              "      <th>Engine_Capacity_(CC)</th>\n",
              "      <th>Propulsion_Code</th>\n",
              "      <th>Age_of_Vehicle</th>\n",
              "      <th>Driver_IMD_Decile</th>\n",
              "      <th>Driver_Home_Area_Type</th>\n",
              "      <th>Vehicle_IMD_Decile</th>\n",
              "    </tr>\n",
              "  </thead>\n",
              "  <tbody>\n",
              "    <tr>\n",
              "      <th>0</th>\n",
              "      <td>2019010128300</td>\n",
              "      <td>1</td>\n",
              "      <td>9</td>\n",
              "      <td>0</td>\n",
              "      <td>-1</td>\n",
              "      <td>-1</td>\n",
              "      <td>-1</td>\n",
              "      <td>-1</td>\n",
              "      <td>-1</td>\n",
              "      <td>-1</td>\n",
              "      <td>...</td>\n",
              "      <td>6</td>\n",
              "      <td>1</td>\n",
              "      <td>58</td>\n",
              "      <td>9</td>\n",
              "      <td>-1</td>\n",
              "      <td>-1</td>\n",
              "      <td>-1</td>\n",
              "      <td>2</td>\n",
              "      <td>1</td>\n",
              "      <td>2</td>\n",
              "    </tr>\n",
              "    <tr>\n",
              "      <th>1</th>\n",
              "      <td>2019010128300</td>\n",
              "      <td>2</td>\n",
              "      <td>9</td>\n",
              "      <td>0</td>\n",
              "      <td>-1</td>\n",
              "      <td>-1</td>\n",
              "      <td>-1</td>\n",
              "      <td>-1</td>\n",
              "      <td>-1</td>\n",
              "      <td>-1</td>\n",
              "      <td>...</td>\n",
              "      <td>6</td>\n",
              "      <td>3</td>\n",
              "      <td>-1</td>\n",
              "      <td>-1</td>\n",
              "      <td>-1</td>\n",
              "      <td>-1</td>\n",
              "      <td>-1</td>\n",
              "      <td>2</td>\n",
              "      <td>1</td>\n",
              "      <td>2</td>\n",
              "    </tr>\n",
              "  </tbody>\n",
              "</table>\n",
              "<p>2 rows × 23 columns</p>\n",
              "</div>\n",
              "      <button class=\"colab-df-convert\" onclick=\"convertToInteractive('df-12616c4a-60f7-479d-9b65-230efc632585')\"\n",
              "              title=\"Convert this dataframe to an interactive table.\"\n",
              "              style=\"display:none;\">\n",
              "        \n",
              "  <svg xmlns=\"http://www.w3.org/2000/svg\" height=\"24px\"viewBox=\"0 0 24 24\"\n",
              "       width=\"24px\">\n",
              "    <path d=\"M0 0h24v24H0V0z\" fill=\"none\"/>\n",
              "    <path d=\"M18.56 5.44l.94 2.06.94-2.06 2.06-.94-2.06-.94-.94-2.06-.94 2.06-2.06.94zm-11 1L8.5 8.5l.94-2.06 2.06-.94-2.06-.94L8.5 2.5l-.94 2.06-2.06.94zm10 10l.94 2.06.94-2.06 2.06-.94-2.06-.94-.94-2.06-.94 2.06-2.06.94z\"/><path d=\"M17.41 7.96l-1.37-1.37c-.4-.4-.92-.59-1.43-.59-.52 0-1.04.2-1.43.59L10.3 9.45l-7.72 7.72c-.78.78-.78 2.05 0 2.83L4 21.41c.39.39.9.59 1.41.59.51 0 1.02-.2 1.41-.59l7.78-7.78 2.81-2.81c.8-.78.8-2.07 0-2.86zM5.41 20L4 18.59l7.72-7.72 1.47 1.35L5.41 20z\"/>\n",
              "  </svg>\n",
              "      </button>\n",
              "      \n",
              "  <style>\n",
              "    .colab-df-container {\n",
              "      display:flex;\n",
              "      flex-wrap:wrap;\n",
              "      gap: 12px;\n",
              "    }\n",
              "\n",
              "    .colab-df-convert {\n",
              "      background-color: #E8F0FE;\n",
              "      border: none;\n",
              "      border-radius: 50%;\n",
              "      cursor: pointer;\n",
              "      display: none;\n",
              "      fill: #1967D2;\n",
              "      height: 32px;\n",
              "      padding: 0 0 0 0;\n",
              "      width: 32px;\n",
              "    }\n",
              "\n",
              "    .colab-df-convert:hover {\n",
              "      background-color: #E2EBFA;\n",
              "      box-shadow: 0px 1px 2px rgba(60, 64, 67, 0.3), 0px 1px 3px 1px rgba(60, 64, 67, 0.15);\n",
              "      fill: #174EA6;\n",
              "    }\n",
              "\n",
              "    [theme=dark] .colab-df-convert {\n",
              "      background-color: #3B4455;\n",
              "      fill: #D2E3FC;\n",
              "    }\n",
              "\n",
              "    [theme=dark] .colab-df-convert:hover {\n",
              "      background-color: #434B5C;\n",
              "      box-shadow: 0px 1px 3px 1px rgba(0, 0, 0, 0.15);\n",
              "      filter: drop-shadow(0px 1px 2px rgba(0, 0, 0, 0.3));\n",
              "      fill: #FFFFFF;\n",
              "    }\n",
              "  </style>\n",
              "\n",
              "      <script>\n",
              "        const buttonEl =\n",
              "          document.querySelector('#df-12616c4a-60f7-479d-9b65-230efc632585 button.colab-df-convert');\n",
              "        buttonEl.style.display =\n",
              "          google.colab.kernel.accessAllowed ? 'block' : 'none';\n",
              "\n",
              "        async function convertToInteractive(key) {\n",
              "          const element = document.querySelector('#df-12616c4a-60f7-479d-9b65-230efc632585');\n",
              "          const dataTable =\n",
              "            await google.colab.kernel.invokeFunction('convertToInteractive',\n",
              "                                                     [key], {});\n",
              "          if (!dataTable) return;\n",
              "\n",
              "          const docLinkHtml = 'Like what you see? Visit the ' +\n",
              "            '<a target=\"_blank\" href=https://colab.research.google.com/notebooks/data_table.ipynb>data table notebook</a>'\n",
              "            + ' to learn more about interactive tables.';\n",
              "          element.innerHTML = '';\n",
              "          dataTable['output_type'] = 'display_data';\n",
              "          await google.colab.output.renderOutput(dataTable, element);\n",
              "          const docLink = document.createElement('div');\n",
              "          docLink.innerHTML = docLinkHtml;\n",
              "          element.appendChild(docLink);\n",
              "        }\n",
              "      </script>\n",
              "    </div>\n",
              "  </div>\n",
              "  "
            ]
          },
          "metadata": {},
          "execution_count": 6
        }
      ]
    },
    {
      "cell_type": "code",
      "source": [
        "print('Accident Features: ',acc_df.columns)\n",
        "print('Casualty Features: ',cas_df.columns)\n",
        "print('Vehicle Features: ',veh_df.columns)"
      ],
      "metadata": {
        "colab": {
          "base_uri": "https://localhost:8080/"
        },
        "id": "0XecYE6BU4gt",
        "outputId": "f4112c0b-8c74-4588-801e-4653f22c95f3"
      },
      "execution_count": null,
      "outputs": [
        {
          "output_type": "stream",
          "name": "stdout",
          "text": [
            "Accident Features:  Index(['Accident_Index', 'Location_Easting_OSGR', 'Location_Northing_OSGR',\n",
            "       'Longitude', 'Latitude', 'Police_Force', 'Accident_Severity',\n",
            "       'Number_of_Vehicles', 'Number_of_Casualties', 'Date', 'Day_of_Week',\n",
            "       'Time', 'Local_Authority_(District)', 'Local_Authority_(Highway)',\n",
            "       '1st_Road_Class', '1st_Road_Number', 'Road_Type', 'Speed_limit',\n",
            "       'Junction_Detail', 'Junction_Control', '2nd_Road_Class',\n",
            "       '2nd_Road_Number', 'Pedestrian_Crossing-Human_Control',\n",
            "       'Pedestrian_Crossing-Physical_Facilities', 'Light_Conditions',\n",
            "       'Weather_Conditions', 'Road_Surface_Conditions',\n",
            "       'Special_Conditions_at_Site', 'Carriageway_Hazards',\n",
            "       'Urban_or_Rural_Area', 'Did_Police_Officer_Attend_Scene_of_Accident',\n",
            "       'LSOA_of_Accident_Location'],\n",
            "      dtype='object')\n",
            "Casualty Features:  Index(['Accident_Index', 'Vehicle_Reference', 'Casualty_Reference',\n",
            "       'Casualty_Class', 'Sex_of_Casualty', 'Age_of_Casualty',\n",
            "       'Age_Band_of_Casualty', 'Casualty_Severity', 'Pedestrian_Location',\n",
            "       'Pedestrian_Movement', 'Car_Passenger', 'Bus_or_Coach_Passenger',\n",
            "       'Pedestrian_Road_Maintenance_Worker', 'Casualty_Type',\n",
            "       'Casualty_Home_Area_Type', 'Casualty_IMD_Decile'],\n",
            "      dtype='object')\n",
            "Vehicle Features:  Index(['Accident_Index', 'Vehicle_Reference', 'Vehicle_Type',\n",
            "       'Towing_and_Articulation', 'Vehicle_Manoeuvre',\n",
            "       'Vehicle_Location-Restricted_Lane', 'Junction_Location',\n",
            "       'Skidding_and_Overturning', 'Hit_Object_in_Carriageway',\n",
            "       'Vehicle_Leaving_Carriageway', 'Hit_Object_off_Carriageway',\n",
            "       '1st_Point_of_Impact', 'Was_Vehicle_Left_Hand_Drive?',\n",
            "       'Journey_Purpose_of_Driver', 'Sex_of_Driver', 'Age_of_Driver',\n",
            "       'Age_Band_of_Driver', 'Engine_Capacity_(CC)', 'Propulsion_Code',\n",
            "       'Age_of_Vehicle', 'Driver_IMD_Decile', 'Driver_Home_Area_Type',\n",
            "       'Vehicle_IMD_Decile'],\n",
            "      dtype='object')\n"
          ]
        }
      ]
    },
    {
      "cell_type": "markdown",
      "source": [
        "###Relationship and connection of the dataset\n",
        "- Accident data gives details about the accident that happened on how, when and where it happened\n",
        "- Casualty data gives details about the personality of the people invoved in the accident and how severe the accident is\n",
        "- Vehicle data gives detail about the vehicles involved in a particular accident\n",
        "-Accident index is the primary key that connects all the the three data\n",
        "- There is a vehicle reference column in casualty table which is a foreign key that linked it to vehicle table"
      ],
      "metadata": {
        "id": "tAEG2Z7AXp9c"
      }
    },
    {
      "cell_type": "markdown",
      "source": [
        "#Exploratory Data Analysis"
      ],
      "metadata": {
        "id": "8tWizQyYaFZO"
      }
    },
    {
      "cell_type": "markdown",
      "source": [
        "##Casualty data"
      ],
      "metadata": {
        "id": "1cXOtCRLu4wL"
      }
    },
    {
      "cell_type": "code",
      "source": [
        "print(cas_df.shape)\n",
        "cas_df.info()"
      ],
      "metadata": {
        "colab": {
          "base_uri": "https://localhost:8080/"
        },
        "id": "z685PReRtxqu",
        "outputId": "a5f4d319-d783-4798-aafe-c89c3c2ec6f6"
      },
      "execution_count": null,
      "outputs": [
        {
          "output_type": "stream",
          "name": "stdout",
          "text": [
            "(153158, 16)\n",
            "<class 'pandas.core.frame.DataFrame'>\n",
            "RangeIndex: 153158 entries, 0 to 153157\n",
            "Data columns (total 16 columns):\n",
            " #   Column                              Non-Null Count   Dtype \n",
            "---  ------                              --------------   ----- \n",
            " 0   Accident_Index                      153158 non-null  string\n",
            " 1   Vehicle_Reference                   153158 non-null  int64 \n",
            " 2   Casualty_Reference                  153158 non-null  int64 \n",
            " 3   Casualty_Class                      153158 non-null  int64 \n",
            " 4   Sex_of_Casualty                     153158 non-null  int64 \n",
            " 5   Age_of_Casualty                     153158 non-null  int64 \n",
            " 6   Age_Band_of_Casualty                153158 non-null  int64 \n",
            " 7   Casualty_Severity                   153158 non-null  int64 \n",
            " 8   Pedestrian_Location                 153158 non-null  int64 \n",
            " 9   Pedestrian_Movement                 153158 non-null  int64 \n",
            " 10  Car_Passenger                       153158 non-null  int64 \n",
            " 11  Bus_or_Coach_Passenger              153158 non-null  int64 \n",
            " 12  Pedestrian_Road_Maintenance_Worker  153158 non-null  int64 \n",
            " 13  Casualty_Type                       153158 non-null  int64 \n",
            " 14  Casualty_Home_Area_Type             153158 non-null  int64 \n",
            " 15  Casualty_IMD_Decile                 153158 non-null  int64 \n",
            "dtypes: int64(15), string(1)\n",
            "memory usage: 18.7 MB\n"
          ]
        }
      ]
    },
    {
      "cell_type": "markdown",
      "source": [
        "- Casualties data has 153,158 observations (rows) and 16 features (columns)\n",
        "- 15 features are integer (int64) and only 1 categorical variable\n",
        "- seems that there is no missing value but further checks is required to be sure"
      ],
      "metadata": {
        "id": "0q0MeHBkvKM-"
      }
    },
    {
      "cell_type": "code",
      "source": [
        "missing_values = cas_df.replace(-1, np.nan)\n",
        "missing_values.isna().sum()"
      ],
      "metadata": {
        "colab": {
          "base_uri": "https://localhost:8080/"
        },
        "id": "5p4W-9FynxFB",
        "outputId": "109dd436-e76c-4fd1-d255-b180a3fcb9b7"
      },
      "execution_count": null,
      "outputs": [
        {
          "output_type": "execute_result",
          "data": {
            "text/plain": [
              "Accident_Index                            0\n",
              "Vehicle_Reference                         0\n",
              "Casualty_Reference                        0\n",
              "Casualty_Class                            0\n",
              "Sex_of_Casualty                         733\n",
              "Age_of_Casualty                        3255\n",
              "Age_Band_of_Casualty                   3255\n",
              "Casualty_Severity                         0\n",
              "Pedestrian_Location                       1\n",
              "Pedestrian_Movement                       0\n",
              "Car_Passenger                           589\n",
              "Bus_or_Coach_Passenger                   84\n",
              "Pedestrian_Road_Maintenance_Worker       74\n",
              "Casualty_Type                             5\n",
              "Casualty_Home_Area_Type               17381\n",
              "Casualty_IMD_Decile                   15372\n",
              "dtype: int64"
            ]
          },
          "metadata": {},
          "execution_count": 9
        }
      ]
    },
    {
      "cell_type": "markdown",
      "source": [
        "- Thorogh checks on variable look up sheet gave us insight on some features with -1 being either missing values or outliers"
      ],
      "metadata": {
        "id": "Dh-GUlWxr3IR"
      }
    },
    {
      "cell_type": "markdown",
      "source": [
        "### Review all the features in the casualties dataframe and clean appropriately"
      ],
      "metadata": {
        "id": "xRyyw5g6Bvze"
      }
    },
    {
      "cell_type": "code",
      "source": [
        "cas_df.Sex_of_Casualty.unique()\n",
        "## Sex_of_Casualty has a -1 as value"
      ],
      "metadata": {
        "colab": {
          "base_uri": "https://localhost:8080/"
        },
        "id": "GlMdX0PRxIbX",
        "outputId": "a0858ab7-dc43-4f48-ccd4-8574649aa811"
      },
      "execution_count": null,
      "outputs": [
        {
          "output_type": "execute_result",
          "data": {
            "text/plain": [
              "array([ 1,  2, -1])"
            ]
          },
          "metadata": {},
          "execution_count": 10
        }
      ]
    },
    {
      "cell_type": "code",
      "source": [
        "print(cas_df['Sex_of_Casualty'].mode())\n",
        "print(cas_df['Sex_of_Casualty'].median())\n",
        "print(cas_df['Sex_of_Casualty'].mean())\n",
        "# from the outcome, it is observed that 1 is most commonly occuring 'Sex_of_Casualty'."
      ],
      "metadata": {
        "colab": {
          "base_uri": "https://localhost:8080/"
        },
        "id": "-60dzigTzCU-",
        "outputId": "8694f5f2-546a-40df-b4ee-a1d699349009"
      },
      "execution_count": null,
      "outputs": [
        {
          "output_type": "stream",
          "name": "stdout",
          "text": [
            "0    1\n",
            "dtype: int64\n",
            "1.0\n",
            "1.3897543713028375\n"
          ]
        }
      ]
    },
    {
      "cell_type": "code",
      "source": [
        "#Replace -1 with 1 in the 'Sex_of_Casualty'\n",
        "cas_df['Sex_of_Casualty'].replace(-1, 1, inplace= True)"
      ],
      "metadata": {
        "id": "9OuwX4Lr68Pb"
      },
      "execution_count": null,
      "outputs": []
    },
    {
      "cell_type": "code",
      "source": [
        "cas_df.Age_of_Casualty.unique()\n",
        "## Age_of_Casualty has a value of -1"
      ],
      "metadata": {
        "colab": {
          "base_uri": "https://localhost:8080/"
        },
        "id": "Ol-G502t1hrA",
        "outputId": "da5ef437-92b3-4bd4-f7f8-52f8f9a2734b"
      },
      "execution_count": null,
      "outputs": [
        {
          "output_type": "execute_result",
          "data": {
            "text/plain": [
              "array([ 58,  -1,  24,  21,  68,  47,  16,  20,  41,  25,  40,  28,  74,\n",
              "        34,  23,  38,  37,  29,  22,  30,  26,  35,  19,  27,  63,  17,\n",
              "        65,  12,  36,  33,  42,  45,  49,  32,  44,  46,   3,  79,  78,\n",
              "        67,  50,  60,  31,   2,  11,  18,  52,   9,  57,  53,  70,  14,\n",
              "        48,  59,   6,  62,  13,  10,  71,  76,  77,  55,  69,  54,  81,\n",
              "        15,  56,  43,  39,   5,  90,   8,  51,   0,   1,   7,  61,  75,\n",
              "         4,  82,  64,  66,  83,  73,  85,  72,  94,  80,  91,  84,  86,\n",
              "        88,  92,  89,  87,  96,  93,  95,  98,  99,  97, 102, 101])"
            ]
          },
          "metadata": {},
          "execution_count": 13
        }
      ]
    },
    {
      "cell_type": "code",
      "source": [
        "print(cas_df['Age_of_Casualty'].mode())\n",
        "print(cas_df['Age_of_Casualty'].median())\n",
        "print(cas_df['Age_of_Casualty'].mean())"
      ],
      "metadata": {
        "colab": {
          "base_uri": "https://localhost:8080/"
        },
        "id": "Dn9IbN0g2Hf4",
        "outputId": "cdcac19f-8e13-43a4-c9f9-768a4c8e3cf9"
      },
      "execution_count": null,
      "outputs": [
        {
          "output_type": "stream",
          "name": "stdout",
          "text": [
            "0    30\n",
            "dtype: int64\n",
            "34.0\n",
            "36.93261207380613\n"
          ]
        }
      ]
    },
    {
      "cell_type": "code",
      "source": [
        "#Replace -1 with 30 in the 'Age_of_Casualty'\n",
        "cas_df['Age_of_Casualty'].replace(-1, 34, inplace= True)"
      ],
      "metadata": {
        "id": "YiGJz10O7AK8"
      },
      "execution_count": null,
      "outputs": []
    },
    {
      "cell_type": "code",
      "source": [
        "cas_df.Age_Band_of_Casualty.unique()\n",
        "# Age_Band_of_Casualty has a value of -1"
      ],
      "metadata": {
        "colab": {
          "base_uri": "https://localhost:8080/"
        },
        "id": "GMEbnzFC3W5J",
        "outputId": "de0c8765-41fe-4d24-d8ec-15807602374a"
      },
      "execution_count": null,
      "outputs": [
        {
          "output_type": "execute_result",
          "data": {
            "text/plain": [
              "array([ 9, -1,  5, 10,  8,  4,  7,  6,  3,  1, 11,  2])"
            ]
          },
          "metadata": {},
          "execution_count": 16
        }
      ]
    },
    {
      "cell_type": "code",
      "source": [
        "print(cas_df['Age_Band_of_Casualty'].mode())\n",
        "print(cas_df['Age_Band_of_Casualty'].median())\n",
        "print(cas_df['Age_Band_of_Casualty'].mean())\n",
        "# from the outcome, it is observed that 6 is most commonly occuring 'Age_Band_of_Casualty'."
      ],
      "metadata": {
        "colab": {
          "base_uri": "https://localhost:8080/"
        },
        "id": "t1mK1-Cx3qPq",
        "outputId": "6c82e7c2-35e9-4bd2-db73-f6b5ca29824b"
      },
      "execution_count": null,
      "outputs": [
        {
          "output_type": "stream",
          "name": "stdout",
          "text": [
            "0    6\n",
            "dtype: int64\n",
            "6.0\n",
            "6.322346857493569\n"
          ]
        }
      ]
    },
    {
      "cell_type": "code",
      "source": [
        "#Replace -1 with 6 in the 'Age_Band_of_Casualty'\n",
        "cas_df['Age_Band_of_Casualty'].replace(-1, 6, inplace= True)"
      ],
      "metadata": {
        "id": "7OwhlNC_7F5j"
      },
      "execution_count": null,
      "outputs": []
    },
    {
      "cell_type": "code",
      "source": [
        "cas_df.Pedestrian_Location.unique()\n",
        "# Pedestrian_Location has a value of -1"
      ],
      "metadata": {
        "colab": {
          "base_uri": "https://localhost:8080/"
        },
        "id": "g0jWsqoE4w0y",
        "outputId": "06fea6ed-f7da-46a6-f403-415a616a58ad"
      },
      "execution_count": null,
      "outputs": [
        {
          "output_type": "execute_result",
          "data": {
            "text/plain": [
              "array([ 0,  5,  1, 10,  9,  6,  4,  8,  3,  2,  7, -1])"
            ]
          },
          "metadata": {},
          "execution_count": 19
        }
      ]
    },
    {
      "cell_type": "code",
      "source": [
        "print(cas_df['Pedestrian_Location'].mode())\n",
        "print(cas_df['Pedestrian_Location'].median())\n",
        "print(cas_df['Pedestrian_Location'].mean())\n",
        "# from the outcome, it is observed that 0 is most commonly occuring 'Pedestrian_Location'."
      ],
      "metadata": {
        "colab": {
          "base_uri": "https://localhost:8080/"
        },
        "id": "nLTUVyyE49Vi",
        "outputId": "d1c6b672-e4dd-4671-cbb7-a5ab564b7610"
      },
      "execution_count": null,
      "outputs": [
        {
          "output_type": "stream",
          "name": "stdout",
          "text": [
            "0    0\n",
            "dtype: int64\n",
            "0.0\n",
            "0.760711161023257\n"
          ]
        }
      ]
    },
    {
      "cell_type": "code",
      "source": [
        "#Replace -1 with 0 in the 'Age_Band_of_Casualty'\n",
        "cas_df['Pedestrian_Location'].replace(-1, 0, inplace= True)"
      ],
      "metadata": {
        "id": "TiovbS2y7MgE"
      },
      "execution_count": null,
      "outputs": []
    },
    {
      "cell_type": "code",
      "source": [
        "cas_df.Car_Passenger.unique()\n",
        "# Car_Passenger has a value of -1"
      ],
      "metadata": {
        "colab": {
          "base_uri": "https://localhost:8080/"
        },
        "id": "9XS4NKZ16Z5q",
        "outputId": "4fb4d05f-603a-4103-b8bb-fbc65c1cf6d4"
      },
      "execution_count": null,
      "outputs": [
        {
          "output_type": "execute_result",
          "data": {
            "text/plain": [
              "array([ 0,  1,  2, -1])"
            ]
          },
          "metadata": {},
          "execution_count": 22
        }
      ]
    },
    {
      "cell_type": "code",
      "source": [
        "print(cas_df['Car_Passenger'].mode())\n",
        "print(cas_df['Car_Passenger'].median())\n",
        "print(cas_df['Car_Passenger'].mean())\n",
        "# from the outcome, it is observed that 0 is most commonly occuring 'Car_Passenger'."
      ],
      "metadata": {
        "colab": {
          "base_uri": "https://localhost:8080/"
        },
        "id": "S30H-EWV6osj",
        "outputId": "d6cbb759-0ecb-48a9-a1fc-953a24133271"
      },
      "execution_count": null,
      "outputs": [
        {
          "output_type": "stream",
          "name": "stdout",
          "text": [
            "0    0\n",
            "dtype: int64\n",
            "0.0\n",
            "0.23932148500241582\n"
          ]
        }
      ]
    },
    {
      "cell_type": "code",
      "source": [
        "#Replace -1 with 0 in the 'Car_Passenger'\n",
        "cas_df['Car_Passenger'].replace(-1, 0, inplace= True)"
      ],
      "metadata": {
        "id": "AmQyzX1f7Qo8"
      },
      "execution_count": null,
      "outputs": []
    },
    {
      "cell_type": "code",
      "source": [
        "cas_df.Bus_or_Coach_Passenger.unique()\n",
        "# Bus_or_Coach_Passenger has a value of -1"
      ],
      "metadata": {
        "colab": {
          "base_uri": "https://localhost:8080/"
        },
        "id": "tERClvLS93P8",
        "outputId": "0007e7bd-7865-4c6e-b325-0d086bfa4a0d"
      },
      "execution_count": null,
      "outputs": [
        {
          "output_type": "execute_result",
          "data": {
            "text/plain": [
              "array([ 0,  4,  3,  1,  2, -1])"
            ]
          },
          "metadata": {},
          "execution_count": 25
        }
      ]
    },
    {
      "cell_type": "code",
      "source": [
        "print(cas_df['Bus_or_Coach_Passenger'].mode())\n",
        "print(cas_df['Bus_or_Coach_Passenger'].median())\n",
        "print(cas_df['Bus_or_Coach_Passenger'].mean())\n",
        "# from the outcome, it is observed that 0 is most commonly occuring 'Bus_or_Coach_Passenger'."
      ],
      "metadata": {
        "colab": {
          "base_uri": "https://localhost:8080/"
        },
        "id": "6ITFy2Yw9_4U",
        "outputId": "6d96de77-e963-49db-cc55-5eec07157133"
      },
      "execution_count": null,
      "outputs": [
        {
          "output_type": "stream",
          "name": "stdout",
          "text": [
            "0    0\n",
            "dtype: int64\n",
            "0.0\n",
            "0.06266078167643871\n"
          ]
        }
      ]
    },
    {
      "cell_type": "code",
      "source": [
        "#Replace -1 with 0 in the 'Bus_or_Coach_Passenger'\n",
        "cas_df['Bus_or_Coach_Passenger'].replace(-1, 0, inplace= True)"
      ],
      "metadata": {
        "id": "iqtOaT32-WFU"
      },
      "execution_count": null,
      "outputs": []
    },
    {
      "cell_type": "code",
      "source": [
        "cas_df.Pedestrian_Road_Maintenance_Worker.unique()\n",
        "# Pedestrian_Road_Maintenance_Worker has a value of -1"
      ],
      "metadata": {
        "colab": {
          "base_uri": "https://localhost:8080/"
        },
        "id": "PaZRoQdf-so1",
        "outputId": "3ee42e4c-d92b-49ba-fcb5-46fb653c95cf"
      },
      "execution_count": null,
      "outputs": [
        {
          "output_type": "execute_result",
          "data": {
            "text/plain": [
              "array([ 0,  2,  1, -1])"
            ]
          },
          "metadata": {},
          "execution_count": 28
        }
      ]
    },
    {
      "cell_type": "code",
      "source": [
        "print(cas_df['Pedestrian_Road_Maintenance_Worker'].mode())\n",
        "print(cas_df['Pedestrian_Road_Maintenance_Worker'].median())\n",
        "print(cas_df['Pedestrian_Road_Maintenance_Worker'].mean())\n",
        "# from the outcome, it is observed that 0 is most commonly occuring 'Pedestrian_Road_Maintenance_Worker'."
      ],
      "metadata": {
        "colab": {
          "base_uri": "https://localhost:8080/"
        },
        "id": "9A-imSF3-6Ll",
        "outputId": "f988bd00-7ce4-4c46-aed6-8ad6af55d0a2"
      },
      "execution_count": null,
      "outputs": [
        {
          "output_type": "stream",
          "name": "stdout",
          "text": [
            "0    0\n",
            "dtype: int64\n",
            "0.0\n",
            "0.01658418104179997\n"
          ]
        }
      ]
    },
    {
      "cell_type": "code",
      "source": [
        "#Replace -1 with 0 in the 'Pedestrian_Road_Maintenance_Worker'\n",
        "cas_df['Pedestrian_Road_Maintenance_Worker'].replace(-1, 0, inplace= True)"
      ],
      "metadata": {
        "id": "Kv99Kszp_J3d"
      },
      "execution_count": null,
      "outputs": []
    },
    {
      "cell_type": "code",
      "source": [
        "cas_df.Casualty_Type.unique()\n",
        "# Casualty_Home_Area_Type has a value -1"
      ],
      "metadata": {
        "colab": {
          "base_uri": "https://localhost:8080/"
        },
        "id": "XknIr1M0ukQU",
        "outputId": "9c88c7c1-af98-44ec-ffe9-31dcc8a879bd"
      },
      "execution_count": null,
      "outputs": [
        {
          "output_type": "execute_result",
          "data": {
            "text/plain": [
              "array([ 9,  1,  0,  8,  4,  3,  5, 11,  2, 22, 23, 19, 90, 97, 98, 16, 20,\n",
              "       10, -1, 21, 17, 18])"
            ]
          },
          "metadata": {},
          "execution_count": 31
        }
      ]
    },
    {
      "cell_type": "code",
      "source": [
        "print(cas_df['Casualty_Type'].mode())\n",
        "print(cas_df['Casualty_Type'].median())\n",
        "print(cas_df['Casualty_Type'].mean())\n",
        "# from the outcome, it is observed that 9 is most commonly occuring 'Casualty_Type'."
      ],
      "metadata": {
        "colab": {
          "base_uri": "https://localhost:8080/"
        },
        "id": "TipPKvtCtz5X",
        "outputId": "92ea8dab-bf09-41d6-8e7b-cba20a6cf698"
      },
      "execution_count": null,
      "outputs": [
        {
          "output_type": "stream",
          "name": "stdout",
          "text": [
            "0    9\n",
            "dtype: int64\n",
            "9.0\n",
            "7.141148356599068\n"
          ]
        }
      ]
    },
    {
      "cell_type": "code",
      "source": [
        "#Replace -1 with 9 in the 'Casualty_Type'\n",
        "cas_df['Casualty_Type'].replace(-1, 9, inplace= True)"
      ],
      "metadata": {
        "id": "kJ3IKNkDu8MK"
      },
      "execution_count": null,
      "outputs": []
    },
    {
      "cell_type": "code",
      "source": [
        "cas_df.Casualty_Home_Area_Type.unique()\n",
        "# Casualty_Home_Area_Type has a value -1"
      ],
      "metadata": {
        "colab": {
          "base_uri": "https://localhost:8080/"
        },
        "id": "VC6VTnfY_xSc",
        "outputId": "00850d0f-06cf-4a46-8ac5-97876332cd8a"
      },
      "execution_count": null,
      "outputs": [
        {
          "output_type": "execute_result",
          "data": {
            "text/plain": [
              "array([ 1, -1,  3,  2])"
            ]
          },
          "metadata": {},
          "execution_count": 34
        }
      ]
    },
    {
      "cell_type": "code",
      "source": [
        "print(cas_df['Casualty_Home_Area_Type'].mode())\n",
        "print(cas_df['Casualty_Home_Area_Type'].median())\n",
        "print(cas_df['Casualty_Home_Area_Type'].mean())\n",
        "# from the outcome, it is observed that 1 is most commonly occuring 'Casualty_Home_Area_Type'."
      ],
      "metadata": {
        "colab": {
          "base_uri": "https://localhost:8080/"
        },
        "id": "a2T_NFbn__cN",
        "outputId": "8ab2364c-e10a-4f03-e4eb-5f614ebfc8be"
      },
      "execution_count": null,
      "outputs": [
        {
          "output_type": "stream",
          "name": "stdout",
          "text": [
            "0    1\n",
            "dtype: int64\n",
            "1.0\n",
            "1.0361260920095587\n"
          ]
        }
      ]
    },
    {
      "cell_type": "code",
      "source": [
        "#Replace -1 with 1 in the 'Casualty_Home_Area_Type'\n",
        "cas_df['Casualty_Home_Area_Type'].replace(-1, 1, inplace= True)"
      ],
      "metadata": {
        "id": "ujUSXqCtARQm"
      },
      "execution_count": null,
      "outputs": []
    },
    {
      "cell_type": "code",
      "source": [
        "cas_df.Casualty_IMD_Decile.unique()\n",
        "# Casualty_IMD_Decile has a value of -1"
      ],
      "metadata": {
        "colab": {
          "base_uri": "https://localhost:8080/"
        },
        "id": "wVnb5CpjA25s",
        "outputId": "eb35c5f5-c9a0-4ff5-c6f6-738abec03376"
      },
      "execution_count": null,
      "outputs": [
        {
          "output_type": "execute_result",
          "data": {
            "text/plain": [
              "array([ 2,  5,  3,  1,  4, -1,  6,  8, 10,  9,  7])"
            ]
          },
          "metadata": {},
          "execution_count": 37
        }
      ]
    },
    {
      "cell_type": "code",
      "source": [
        "print(cas_df['Casualty_IMD_Decile'].mode())\n",
        "print(cas_df['Casualty_IMD_Decile'].median())\n",
        "print(cas_df['Casualty_IMD_Decile'].mean())\n",
        "# from the outcome, it is observed that mean and median values are close to each other  'Casualty_IMD_Decile'."
      ],
      "metadata": {
        "colab": {
          "base_uri": "https://localhost:8080/"
        },
        "id": "-CiYkCWIA5c0",
        "outputId": "abd2bbf0-4c09-4300-fdb0-5f376c69f3ae"
      },
      "execution_count": null,
      "outputs": [
        {
          "output_type": "stream",
          "name": "stdout",
          "text": [
            "0    2\n",
            "dtype: int64\n",
            "4.0\n",
            "4.382435132346988\n"
          ]
        }
      ]
    },
    {
      "cell_type": "code",
      "source": [
        "#Replace -1 with 4 (median value) in the 'Casualty_IMD_Decile'\n",
        "cas_df['Casualty_IMD_Decile'].replace(-1, 4, inplace= True)"
      ],
      "metadata": {
        "id": "sGblzKtcA5hz"
      },
      "execution_count": null,
      "outputs": []
    },
    {
      "cell_type": "markdown",
      "source": [
        "## Vehicle Data"
      ],
      "metadata": {
        "id": "08VPb_B4vZ0k"
      }
    },
    {
      "cell_type": "code",
      "source": [
        "veh_df.info()"
      ],
      "metadata": {
        "colab": {
          "base_uri": "https://localhost:8080/"
        },
        "id": "pjI24sK9u0S-",
        "outputId": "f0869cc2-4674-4fc3-8c80-09a1f44706b2"
      },
      "execution_count": null,
      "outputs": [
        {
          "output_type": "stream",
          "name": "stdout",
          "text": [
            "<class 'pandas.core.frame.DataFrame'>\n",
            "RangeIndex: 216381 entries, 0 to 216380\n",
            "Data columns (total 23 columns):\n",
            " #   Column                            Non-Null Count   Dtype \n",
            "---  ------                            --------------   ----- \n",
            " 0   Accident_Index                    216381 non-null  string\n",
            " 1   Vehicle_Reference                 216381 non-null  int64 \n",
            " 2   Vehicle_Type                      216381 non-null  int64 \n",
            " 3   Towing_and_Articulation           216381 non-null  int64 \n",
            " 4   Vehicle_Manoeuvre                 216381 non-null  int64 \n",
            " 5   Vehicle_Location-Restricted_Lane  216381 non-null  int64 \n",
            " 6   Junction_Location                 216381 non-null  int64 \n",
            " 7   Skidding_and_Overturning          216381 non-null  int64 \n",
            " 8   Hit_Object_in_Carriageway         216381 non-null  int64 \n",
            " 9   Vehicle_Leaving_Carriageway       216381 non-null  int64 \n",
            " 10  Hit_Object_off_Carriageway        216381 non-null  int64 \n",
            " 11  1st_Point_of_Impact               216381 non-null  int64 \n",
            " 12  Was_Vehicle_Left_Hand_Drive?      216381 non-null  int64 \n",
            " 13  Journey_Purpose_of_Driver         216381 non-null  int64 \n",
            " 14  Sex_of_Driver                     216381 non-null  int64 \n",
            " 15  Age_of_Driver                     216381 non-null  int64 \n",
            " 16  Age_Band_of_Driver                216381 non-null  int64 \n",
            " 17  Engine_Capacity_(CC)              216381 non-null  int64 \n",
            " 18  Propulsion_Code                   216381 non-null  int64 \n",
            " 19  Age_of_Vehicle                    216381 non-null  int64 \n",
            " 20  Driver_IMD_Decile                 216381 non-null  int64 \n",
            " 21  Driver_Home_Area_Type             216381 non-null  int64 \n",
            " 22  Vehicle_IMD_Decile                216381 non-null  int64 \n",
            "dtypes: int64(22), string(1)\n",
            "memory usage: 38.0 MB\n"
          ]
        }
      ]
    },
    {
      "cell_type": "markdown",
      "source": [
        "- There are 216,381 entries (rows) and 23 features (columns)\n",
        "- 22 columns are integers (int64) and only 1 categorical variable\n",
        "- It appears there is null values but further checks is required to be certain"
      ],
      "metadata": {
        "id": "-QfaMk2eC2Pu"
      }
    },
    {
      "cell_type": "code",
      "source": [
        "missing_value = veh_df.replace(-1, np.nan)\n",
        "missing_value.isna().sum()"
      ],
      "metadata": {
        "colab": {
          "base_uri": "https://localhost:8080/"
        },
        "id": "JnTNRCNlwIxA",
        "outputId": "2d1ada44-58d9-40c2-f494-93e09ee9c9a0"
      },
      "execution_count": null,
      "outputs": [
        {
          "output_type": "execute_result",
          "data": {
            "text/plain": [
              "Accident_Index                          0\n",
              "Vehicle_Reference                       0\n",
              "Vehicle_Type                          309\n",
              "Towing_and_Articulation              4527\n",
              "Vehicle_Manoeuvre                   13063\n",
              "Vehicle_Location-Restricted_Lane    12746\n",
              "Junction_Location                    9531\n",
              "Skidding_and_Overturning            13361\n",
              "Hit_Object_in_Carriageway           13057\n",
              "Vehicle_Leaving_Carriageway         12916\n",
              "Hit_Object_off_Carriageway          12271\n",
              "1st_Point_of_Impact                  6681\n",
              "Was_Vehicle_Left_Hand_Drive?        11051\n",
              "Journey_Purpose_of_Driver              58\n",
              "Sex_of_Driver                           1\n",
              "Age_of_Driver                       29756\n",
              "Age_Band_of_Driver                  29756\n",
              "Engine_Capacity_(CC)                54958\n",
              "Propulsion_Code                     54447\n",
              "Age_of_Vehicle                      61755\n",
              "Driver_IMD_Decile                   42385\n",
              "Driver_Home_Area_Type               44869\n",
              "Vehicle_IMD_Decile                  42385\n",
              "dtype: int64"
            ]
          },
          "metadata": {},
          "execution_count": 41
        }
      ]
    },
    {
      "cell_type": "markdown",
      "source": [
        "Only Accident index and vehicle reference has no missing values"
      ],
      "metadata": {
        "id": "zCMw7wZEI5ix"
      }
    },
    {
      "cell_type": "markdown",
      "source": [
        "### Review all the features in the vehicle dataframe and clean appropriately"
      ],
      "metadata": {
        "id": "RPC9QomlCbI-"
      }
    },
    {
      "cell_type": "code",
      "source": [
        "veh_df = veh_df.astype({'Accident_Index': str})"
      ],
      "metadata": {
        "id": "B8CrHYozu0i9"
      },
      "execution_count": null,
      "outputs": []
    },
    {
      "cell_type": "markdown",
      "source": [
        "#### Reveiwing Vehicle Type"
      ],
      "metadata": {
        "id": "d1W2XgJGECDe"
      }
    },
    {
      "cell_type": "code",
      "source": [
        "# we then find the mode, mean and median vehicle type\n",
        "print(veh_df['Vehicle_Type'].mode())\n",
        "print(veh_df['Vehicle_Type'].median())\n",
        "print(veh_df['Vehicle_Type'].mean())\n",
        "# from the outcome we see that 9 which is Car is the most occuring in every category"
      ],
      "metadata": {
        "colab": {
          "base_uri": "https://localhost:8080/"
        },
        "id": "qzS2f_htu0pV",
        "outputId": "f4a90fe9-5a85-4ec7-b7fa-5c44c94d5567"
      },
      "execution_count": null,
      "outputs": [
        {
          "output_type": "stream",
          "name": "stdout",
          "text": [
            "0    9\n",
            "dtype: int64\n",
            "9.0\n",
            "9.706730258201969\n"
          ]
        }
      ]
    },
    {
      "cell_type": "code",
      "source": [
        "veh_df['Vehicle_Type'].replace(-1, 9, inplace= True)"
      ],
      "metadata": {
        "id": "yMjWd3dfu0st"
      },
      "execution_count": null,
      "outputs": []
    },
    {
      "cell_type": "markdown",
      "source": [
        "#### Reviewing Towing_and_Articulation"
      ],
      "metadata": {
        "id": "XHrz9h_ZEJAG"
      }
    },
    {
      "cell_type": "code",
      "source": [
        "print(veh_df['Towing_and_Articulation'].mode())\n",
        "print(veh_df['Towing_and_Articulation'].median())\n",
        "print(veh_df['Towing_and_Articulation'].mean())\n",
        "# from the outcome we see that 0 which is 'no Tow/Articulaltion' is the most occuring in every category"
      ],
      "metadata": {
        "colab": {
          "base_uri": "https://localhost:8080/"
        },
        "id": "AkjGR_K3EQLm",
        "outputId": "656df72b-291f-4621-b1d1-53bdb3322722"
      },
      "execution_count": null,
      "outputs": [
        {
          "output_type": "stream",
          "name": "stdout",
          "text": [
            "0    0\n",
            "dtype: int64\n",
            "0.0\n",
            "0.008591327334655076\n"
          ]
        }
      ]
    },
    {
      "cell_type": "code",
      "source": [
        "veh_df['Towing_and_Articulation'].replace(-1, 0, inplace= True)"
      ],
      "metadata": {
        "id": "haoqaprtEQOu"
      },
      "execution_count": null,
      "outputs": []
    },
    {
      "cell_type": "markdown",
      "source": [
        "#### Reviewing Vehicle_Manoeuvre"
      ],
      "metadata": {
        "id": "Yt4NPgLeEihO"
      }
    },
    {
      "cell_type": "code",
      "source": [
        "print(veh_df['Vehicle_Manoeuvre'].mode())\n",
        "print(veh_df['Vehicle_Manoeuvre'].median())\n",
        "print(veh_df['Vehicle_Manoeuvre'].mean())\n",
        "# I decide here to take the mode 18 which is the most occuring number in the column "
      ],
      "metadata": {
        "colab": {
          "base_uri": "https://localhost:8080/"
        },
        "id": "1jXTnhA7EQVU",
        "outputId": "8254b6d5-06c9-4429-ea25-d077dbe5360f"
      },
      "execution_count": null,
      "outputs": [
        {
          "output_type": "stream",
          "name": "stdout",
          "text": [
            "0    18\n",
            "dtype: int64\n",
            "17.0\n",
            "11.994897888446767\n"
          ]
        }
      ]
    },
    {
      "cell_type": "code",
      "source": [
        "veh_df['Vehicle_Manoeuvre'].replace(-1, 18, inplace= True)"
      ],
      "metadata": {
        "id": "11tvkEXqEQX4"
      },
      "execution_count": null,
      "outputs": []
    },
    {
      "cell_type": "markdown",
      "source": [
        "#### Reviewing Vehicle_Location-Restricted_Lane"
      ],
      "metadata": {
        "id": "GClCXjotFJVV"
      }
    },
    {
      "cell_type": "code",
      "source": [
        "print(veh_df['Vehicle_Location-Restricted_Lane'].mode())\n",
        "print(veh_df['Vehicle_Location-Restricted_Lane'].median())\n",
        "print(veh_df['Vehicle_Location-Restricted_Lane'].mean())"
      ],
      "metadata": {
        "colab": {
          "base_uri": "https://localhost:8080/"
        },
        "id": "2SVQP2ahEQdf",
        "outputId": "c11b8548-3514-4932-ec35-78e71293dc9f"
      },
      "execution_count": null,
      "outputs": [
        {
          "output_type": "stream",
          "name": "stdout",
          "text": [
            "0    0\n",
            "dtype: int64\n",
            "0.0\n",
            "0.12434548319861725\n"
          ]
        }
      ]
    },
    {
      "cell_type": "code",
      "source": [
        "veh_df['Vehicle_Location-Restricted_Lane'].replace(-1, 0, inplace= True)"
      ],
      "metadata": {
        "id": "rvWni9i-EQhb"
      },
      "execution_count": null,
      "outputs": []
    },
    {
      "cell_type": "markdown",
      "source": [
        "#### Reviewing Junction_Location"
      ],
      "metadata": {
        "id": "0cBR0edXFkUy"
      }
    },
    {
      "cell_type": "code",
      "source": [
        "print(veh_df['Junction_Location'].mode())\n",
        "print(veh_df['Junction_Location'].median())\n",
        "print(veh_df['Junction_Location'].mean())"
      ],
      "metadata": {
        "colab": {
          "base_uri": "https://localhost:8080/"
        },
        "id": "2jaV55nLEQ2t",
        "outputId": "8224a7cb-a7b4-4af3-f60d-15238b6cc0b8"
      },
      "execution_count": null,
      "outputs": [
        {
          "output_type": "stream",
          "name": "stdout",
          "text": [
            "0    0\n",
            "dtype: int64\n",
            "1.0\n",
            "2.072561823820021\n"
          ]
        }
      ]
    },
    {
      "cell_type": "code",
      "source": [
        "veh_df['Junction_Location'].replace(-1, 0, inplace= True)"
      ],
      "metadata": {
        "id": "oAyWtvOjEQ5h"
      },
      "execution_count": null,
      "outputs": []
    },
    {
      "cell_type": "markdown",
      "source": [
        "#### Reviewing Skidding_and_Overturning"
      ],
      "metadata": {
        "id": "fsD_ruqaF_jX"
      }
    },
    {
      "cell_type": "code",
      "source": [
        "print(veh_df['Skidding_and_Overturning'].mode())\n",
        "print(veh_df['Skidding_and_Overturning'].median())\n",
        "print(veh_df['Skidding_and_Overturning'].mean())\n",
        "print(veh_df['Skidding_and_Overturning'].unique())"
      ],
      "metadata": {
        "colab": {
          "base_uri": "https://localhost:8080/"
        },
        "id": "xwMM00fjEQ_E",
        "outputId": "39a1e643-f392-4ceb-9d50-94d92f482013"
      },
      "execution_count": null,
      "outputs": [
        {
          "output_type": "stream",
          "name": "stdout",
          "text": [
            "0    0\n",
            "dtype: int64\n",
            "0.0\n",
            "0.14336748605469057\n",
            "[-1  0  2  1  5  4  3]\n"
          ]
        }
      ]
    },
    {
      "cell_type": "code",
      "source": [
        "veh_df['Skidding_and_Overturning'].replace(-1, 0, inplace= True)"
      ],
      "metadata": {
        "id": "kHbeHx13GUzo"
      },
      "execution_count": null,
      "outputs": []
    },
    {
      "cell_type": "markdown",
      "source": [
        "#### Reviewing Hit_Object_in_Carriageway"
      ],
      "metadata": {
        "id": "NoZA84TMGiOH"
      }
    },
    {
      "cell_type": "code",
      "source": [
        "print(veh_df['Hit_Object_in_Carriageway'].mode())\n",
        "print(veh_df['Hit_Object_in_Carriageway'].median())\n",
        "print(veh_df['Hit_Object_in_Carriageway'].mean())\n",
        "print(veh_df['Hit_Object_in_Carriageway'].unique())\n",
        "\n",
        "# 0 is the most occuring number across the different parameters"
      ],
      "metadata": {
        "colab": {
          "base_uri": "https://localhost:8080/"
        },
        "id": "E-TPQmeEGjqX",
        "outputId": "f630e71c-7881-4152-997f-182382ce5038"
      },
      "execution_count": null,
      "outputs": [
        {
          "output_type": "stream",
          "name": "stdout",
          "text": [
            "0    0\n",
            "dtype: int64\n",
            "0.0\n",
            "0.25958841118212783\n",
            "[-1  0 11  4 12 10  7  9  8  6  2  1  5]\n"
          ]
        }
      ]
    },
    {
      "cell_type": "code",
      "source": [
        "veh_df['Hit_Object_in_Carriageway'].replace(-1, 0, inplace= True)"
      ],
      "metadata": {
        "id": "D1ikcTVoGjuP"
      },
      "execution_count": null,
      "outputs": []
    },
    {
      "cell_type": "markdown",
      "source": [
        "#### Reviewing Vehicle_Leaving_Carriageway"
      ],
      "metadata": {
        "id": "0zh6ijmXG-Ko"
      }
    },
    {
      "cell_type": "code",
      "source": [
        "print(veh_df['Vehicle_Leaving_Carriageway'].unique())\n",
        "print(veh_df['Vehicle_Leaving_Carriageway'].mode())\n",
        "print(veh_df['Vehicle_Leaving_Carriageway'].median())\n",
        "print(veh_df['Vehicle_Leaving_Carriageway'].mean())\n"
      ],
      "metadata": {
        "colab": {
          "base_uri": "https://localhost:8080/"
        },
        "id": "SgKlNXhtGj0V",
        "outputId": "c93629a7-a988-4583-bd45-103c7f98db01"
      },
      "execution_count": null,
      "outputs": [
        {
          "output_type": "stream",
          "name": "stdout",
          "text": [
            "[-1  0  3  1  7  2  4  6  8  5]\n",
            "0    0\n",
            "dtype: int64\n",
            "0.0\n",
            "0.252397391637898\n"
          ]
        }
      ]
    },
    {
      "cell_type": "code",
      "source": [
        "veh_df['Vehicle_Leaving_Carriageway'].replace(-1, 0, inplace= True)"
      ],
      "metadata": {
        "id": "0Z-hEVdhGj3l"
      },
      "execution_count": null,
      "outputs": []
    },
    {
      "cell_type": "markdown",
      "source": [
        "#### Reviewing Hit_Object_off_Carriageway"
      ],
      "metadata": {
        "id": "hDnaUYsKHjuo"
      }
    },
    {
      "cell_type": "code",
      "source": [
        "veh_df[veh_df['Hit_Object_off_Carriageway']==-1].head(2)"
      ],
      "metadata": {
        "colab": {
          "base_uri": "https://localhost:8080/",
          "height": 223
        },
        "id": "xt3nUBefGj6e",
        "outputId": "a068f343-f04a-4d96-9072-954a226314f0"
      },
      "execution_count": null,
      "outputs": [
        {
          "output_type": "execute_result",
          "data": {
            "text/plain": [
              "  Accident_Index  Vehicle_Reference  Vehicle_Type  Towing_and_Articulation  \\\n",
              "0  2019010128300                  1             9                        0   \n",
              "1  2019010128300                  2             9                        0   \n",
              "\n",
              "   Vehicle_Manoeuvre  Vehicle_Location-Restricted_Lane  Junction_Location  \\\n",
              "0                 18                                 0                  0   \n",
              "1                 18                                 0                  0   \n",
              "\n",
              "   Skidding_and_Overturning  Hit_Object_in_Carriageway  \\\n",
              "0                         0                          0   \n",
              "1                         0                          0   \n",
              "\n",
              "   Vehicle_Leaving_Carriageway  ...  Journey_Purpose_of_Driver  Sex_of_Driver  \\\n",
              "0                            0  ...                          6              1   \n",
              "1                            0  ...                          6              3   \n",
              "\n",
              "   Age_of_Driver  Age_Band_of_Driver  Engine_Capacity_(CC)  Propulsion_Code  \\\n",
              "0             58                   9                    -1               -1   \n",
              "1             -1                  -1                    -1               -1   \n",
              "\n",
              "   Age_of_Vehicle  Driver_IMD_Decile  Driver_Home_Area_Type  \\\n",
              "0              -1                  2                      1   \n",
              "1              -1                  2                      1   \n",
              "\n",
              "   Vehicle_IMD_Decile  \n",
              "0                   2  \n",
              "1                   2  \n",
              "\n",
              "[2 rows x 23 columns]"
            ],
            "text/html": [
              "\n",
              "  <div id=\"df-aa235fe7-e1dc-4a42-914b-69b9f0f92da5\">\n",
              "    <div class=\"colab-df-container\">\n",
              "      <div>\n",
              "<style scoped>\n",
              "    .dataframe tbody tr th:only-of-type {\n",
              "        vertical-align: middle;\n",
              "    }\n",
              "\n",
              "    .dataframe tbody tr th {\n",
              "        vertical-align: top;\n",
              "    }\n",
              "\n",
              "    .dataframe thead th {\n",
              "        text-align: right;\n",
              "    }\n",
              "</style>\n",
              "<table border=\"1\" class=\"dataframe\">\n",
              "  <thead>\n",
              "    <tr style=\"text-align: right;\">\n",
              "      <th></th>\n",
              "      <th>Accident_Index</th>\n",
              "      <th>Vehicle_Reference</th>\n",
              "      <th>Vehicle_Type</th>\n",
              "      <th>Towing_and_Articulation</th>\n",
              "      <th>Vehicle_Manoeuvre</th>\n",
              "      <th>Vehicle_Location-Restricted_Lane</th>\n",
              "      <th>Junction_Location</th>\n",
              "      <th>Skidding_and_Overturning</th>\n",
              "      <th>Hit_Object_in_Carriageway</th>\n",
              "      <th>Vehicle_Leaving_Carriageway</th>\n",
              "      <th>...</th>\n",
              "      <th>Journey_Purpose_of_Driver</th>\n",
              "      <th>Sex_of_Driver</th>\n",
              "      <th>Age_of_Driver</th>\n",
              "      <th>Age_Band_of_Driver</th>\n",
              "      <th>Engine_Capacity_(CC)</th>\n",
              "      <th>Propulsion_Code</th>\n",
              "      <th>Age_of_Vehicle</th>\n",
              "      <th>Driver_IMD_Decile</th>\n",
              "      <th>Driver_Home_Area_Type</th>\n",
              "      <th>Vehicle_IMD_Decile</th>\n",
              "    </tr>\n",
              "  </thead>\n",
              "  <tbody>\n",
              "    <tr>\n",
              "      <th>0</th>\n",
              "      <td>2019010128300</td>\n",
              "      <td>1</td>\n",
              "      <td>9</td>\n",
              "      <td>0</td>\n",
              "      <td>18</td>\n",
              "      <td>0</td>\n",
              "      <td>0</td>\n",
              "      <td>0</td>\n",
              "      <td>0</td>\n",
              "      <td>0</td>\n",
              "      <td>...</td>\n",
              "      <td>6</td>\n",
              "      <td>1</td>\n",
              "      <td>58</td>\n",
              "      <td>9</td>\n",
              "      <td>-1</td>\n",
              "      <td>-1</td>\n",
              "      <td>-1</td>\n",
              "      <td>2</td>\n",
              "      <td>1</td>\n",
              "      <td>2</td>\n",
              "    </tr>\n",
              "    <tr>\n",
              "      <th>1</th>\n",
              "      <td>2019010128300</td>\n",
              "      <td>2</td>\n",
              "      <td>9</td>\n",
              "      <td>0</td>\n",
              "      <td>18</td>\n",
              "      <td>0</td>\n",
              "      <td>0</td>\n",
              "      <td>0</td>\n",
              "      <td>0</td>\n",
              "      <td>0</td>\n",
              "      <td>...</td>\n",
              "      <td>6</td>\n",
              "      <td>3</td>\n",
              "      <td>-1</td>\n",
              "      <td>-1</td>\n",
              "      <td>-1</td>\n",
              "      <td>-1</td>\n",
              "      <td>-1</td>\n",
              "      <td>2</td>\n",
              "      <td>1</td>\n",
              "      <td>2</td>\n",
              "    </tr>\n",
              "  </tbody>\n",
              "</table>\n",
              "<p>2 rows × 23 columns</p>\n",
              "</div>\n",
              "      <button class=\"colab-df-convert\" onclick=\"convertToInteractive('df-aa235fe7-e1dc-4a42-914b-69b9f0f92da5')\"\n",
              "              title=\"Convert this dataframe to an interactive table.\"\n",
              "              style=\"display:none;\">\n",
              "        \n",
              "  <svg xmlns=\"http://www.w3.org/2000/svg\" height=\"24px\"viewBox=\"0 0 24 24\"\n",
              "       width=\"24px\">\n",
              "    <path d=\"M0 0h24v24H0V0z\" fill=\"none\"/>\n",
              "    <path d=\"M18.56 5.44l.94 2.06.94-2.06 2.06-.94-2.06-.94-.94-2.06-.94 2.06-2.06.94zm-11 1L8.5 8.5l.94-2.06 2.06-.94-2.06-.94L8.5 2.5l-.94 2.06-2.06.94zm10 10l.94 2.06.94-2.06 2.06-.94-2.06-.94-.94-2.06-.94 2.06-2.06.94z\"/><path d=\"M17.41 7.96l-1.37-1.37c-.4-.4-.92-.59-1.43-.59-.52 0-1.04.2-1.43.59L10.3 9.45l-7.72 7.72c-.78.78-.78 2.05 0 2.83L4 21.41c.39.39.9.59 1.41.59.51 0 1.02-.2 1.41-.59l7.78-7.78 2.81-2.81c.8-.78.8-2.07 0-2.86zM5.41 20L4 18.59l7.72-7.72 1.47 1.35L5.41 20z\"/>\n",
              "  </svg>\n",
              "      </button>\n",
              "      \n",
              "  <style>\n",
              "    .colab-df-container {\n",
              "      display:flex;\n",
              "      flex-wrap:wrap;\n",
              "      gap: 12px;\n",
              "    }\n",
              "\n",
              "    .colab-df-convert {\n",
              "      background-color: #E8F0FE;\n",
              "      border: none;\n",
              "      border-radius: 50%;\n",
              "      cursor: pointer;\n",
              "      display: none;\n",
              "      fill: #1967D2;\n",
              "      height: 32px;\n",
              "      padding: 0 0 0 0;\n",
              "      width: 32px;\n",
              "    }\n",
              "\n",
              "    .colab-df-convert:hover {\n",
              "      background-color: #E2EBFA;\n",
              "      box-shadow: 0px 1px 2px rgba(60, 64, 67, 0.3), 0px 1px 3px 1px rgba(60, 64, 67, 0.15);\n",
              "      fill: #174EA6;\n",
              "    }\n",
              "\n",
              "    [theme=dark] .colab-df-convert {\n",
              "      background-color: #3B4455;\n",
              "      fill: #D2E3FC;\n",
              "    }\n",
              "\n",
              "    [theme=dark] .colab-df-convert:hover {\n",
              "      background-color: #434B5C;\n",
              "      box-shadow: 0px 1px 3px 1px rgba(0, 0, 0, 0.15);\n",
              "      filter: drop-shadow(0px 1px 2px rgba(0, 0, 0, 0.3));\n",
              "      fill: #FFFFFF;\n",
              "    }\n",
              "  </style>\n",
              "\n",
              "      <script>\n",
              "        const buttonEl =\n",
              "          document.querySelector('#df-aa235fe7-e1dc-4a42-914b-69b9f0f92da5 button.colab-df-convert');\n",
              "        buttonEl.style.display =\n",
              "          google.colab.kernel.accessAllowed ? 'block' : 'none';\n",
              "\n",
              "        async function convertToInteractive(key) {\n",
              "          const element = document.querySelector('#df-aa235fe7-e1dc-4a42-914b-69b9f0f92da5');\n",
              "          const dataTable =\n",
              "            await google.colab.kernel.invokeFunction('convertToInteractive',\n",
              "                                                     [key], {});\n",
              "          if (!dataTable) return;\n",
              "\n",
              "          const docLinkHtml = 'Like what you see? Visit the ' +\n",
              "            '<a target=\"_blank\" href=https://colab.research.google.com/notebooks/data_table.ipynb>data table notebook</a>'\n",
              "            + ' to learn more about interactive tables.';\n",
              "          element.innerHTML = '';\n",
              "          dataTable['output_type'] = 'display_data';\n",
              "          await google.colab.output.renderOutput(dataTable, element);\n",
              "          const docLink = document.createElement('div');\n",
              "          docLink.innerHTML = docLinkHtml;\n",
              "          element.appendChild(docLink);\n",
              "        }\n",
              "      </script>\n",
              "    </div>\n",
              "  </div>\n",
              "  "
            ]
          },
          "metadata": {},
          "execution_count": 59
        }
      ]
    },
    {
      "cell_type": "code",
      "source": [
        "print(veh_df['Hit_Object_off_Carriageway'].unique())\n",
        "print(veh_df['Hit_Object_off_Carriageway'].mode())\n",
        "print(veh_df['Hit_Object_off_Carriageway'].median())\n",
        "print(veh_df['Hit_Object_off_Carriageway'].mean())"
      ],
      "metadata": {
        "colab": {
          "base_uri": "https://localhost:8080/"
        },
        "id": "e-apiiLYGj9q",
        "outputId": "8d78dc13-7a32-4228-bc33-3f6aeb6f0c8f"
      },
      "execution_count": null,
      "outputs": [
        {
          "output_type": "stream",
          "name": "stdout",
          "text": [
            "[-1  0  1 11 10  4  7  5  3  2  6  9  8]\n",
            "0    0\n",
            "dtype: int64\n",
            "0.0\n",
            "0.3454092549715548\n"
          ]
        }
      ]
    },
    {
      "cell_type": "code",
      "source": [
        "veh_df['Hit_Object_off_Carriageway'].replace(-1, 0, inplace= True)"
      ],
      "metadata": {
        "id": "mwwvJN4mGkCB"
      },
      "execution_count": null,
      "outputs": []
    },
    {
      "cell_type": "markdown",
      "source": [
        "#### Reviewing 1st_Point_of_Impact"
      ],
      "metadata": {
        "id": "xVFJPuDlIrQ0"
      }
    },
    {
      "cell_type": "code",
      "source": [
        "print(veh_df['1st_Point_of_Impact'].unique())\n",
        "print(veh_df['1st_Point_of_Impact'].mode())\n",
        "print(veh_df['1st_Point_of_Impact'].median())\n",
        "print(veh_df['1st_Point_of_Impact'].mean())\n",
        "# here we decide to replace the null values with the median as it seems more popular across the different parameters"
      ],
      "metadata": {
        "colab": {
          "base_uri": "https://localhost:8080/"
        },
        "id": "vquY3tIEHa1g",
        "outputId": "9edd40e0-5cff-4f08-81d3-bf7365481fba"
      },
      "execution_count": null,
      "outputs": [
        {
          "output_type": "stream",
          "name": "stdout",
          "text": [
            "[ 4 -1  1  2  0  3]\n",
            "0    1\n",
            "dtype: int64\n",
            "1.0\n",
            "1.6681316751470785\n"
          ]
        }
      ]
    },
    {
      "cell_type": "code",
      "source": [
        "veh_df['1st_Point_of_Impact'].replace(-1, 1 ,inplace= True)"
      ],
      "metadata": {
        "id": "hZZCcX9QHa_G"
      },
      "execution_count": null,
      "outputs": []
    },
    {
      "cell_type": "markdown",
      "source": [
        "#### Reviewing Was_Vehicle_Left_Hand_Drive?"
      ],
      "metadata": {
        "id": "pAXEcMHKJTf5"
      }
    },
    {
      "cell_type": "code",
      "source": [
        "print(veh_df['Was_Vehicle_Left_Hand_Drive?'].unique())\n",
        "print(veh_df['Was_Vehicle_Left_Hand_Drive?'].mode())\n",
        "print(veh_df['Was_Vehicle_Left_Hand_Drive?'].median())\n",
        "print(veh_df['Was_Vehicle_Left_Hand_Drive?'].mean())\n",
        "\n",
        "# the median and the mean parameters both tilt to 1"
      ],
      "metadata": {
        "colab": {
          "base_uri": "https://localhost:8080/"
        },
        "id": "RgJyFLKJHbYX",
        "outputId": "680e6b22-4b93-4776-da8d-7b57064b389a"
      },
      "execution_count": null,
      "outputs": [
        {
          "output_type": "stream",
          "name": "stdout",
          "text": [
            "[-1  1  2]\n",
            "0    1\n",
            "dtype: int64\n",
            "1.0\n",
            "0.9036375652206062\n"
          ]
        }
      ]
    },
    {
      "cell_type": "code",
      "source": [
        "veh_df['Was_Vehicle_Left_Hand_Drive?'].replace(-1, 1 ,inplace= True)"
      ],
      "metadata": {
        "id": "n3M7FBCrJymJ"
      },
      "execution_count": null,
      "outputs": []
    },
    {
      "cell_type": "markdown",
      "source": [
        "#### Reviewing:  Journey_Purpose_of_Driver"
      ],
      "metadata": {
        "id": "4Ls3bzEBKId0"
      }
    },
    {
      "cell_type": "code",
      "source": [
        "veh_df['Journey_Purpose_of_Driver'].unique()"
      ],
      "metadata": {
        "colab": {
          "base_uri": "https://localhost:8080/"
        },
        "id": "eNR_LY_6J9dq",
        "outputId": "647809f2-c1ce-4153-d0b3-7957e3666d17"
      },
      "execution_count": null,
      "outputs": [
        {
          "output_type": "execute_result",
          "data": {
            "text/plain": [
              "array([ 6,  1,  2,  3,  4, -1,  5])"
            ]
          },
          "metadata": {},
          "execution_count": 66
        }
      ]
    },
    {
      "cell_type": "code",
      "source": [
        "#I decide to replace the missing values with 6(Not known) as this is the most logical thing to do\n",
        "veh_df['Journey_Purpose_of_Driver'].replace(-1, 6 ,inplace= True)"
      ],
      "metadata": {
        "id": "KMOICfzZJ9h5"
      },
      "execution_count": null,
      "outputs": []
    },
    {
      "cell_type": "markdown",
      "source": [
        "#### Reviewing: Sex_of_Driver"
      ],
      "metadata": {
        "id": "BhhNUKX-MBJD"
      }
    },
    {
      "cell_type": "code",
      "source": [
        "print(veh_df['Sex_of_Driver'].unique())\n",
        "print(veh_df['Sex_of_Driver'].mode())"
      ],
      "metadata": {
        "id": "6mnAiMS3J9pT",
        "colab": {
          "base_uri": "https://localhost:8080/"
        },
        "outputId": "18696c05-6984-4075-9bad-793fde43b1cc"
      },
      "execution_count": null,
      "outputs": [
        {
          "output_type": "stream",
          "name": "stdout",
          "text": [
            "[ 1  3  2 -1]\n",
            "0    1\n",
            "dtype: int64\n"
          ]
        }
      ]
    },
    {
      "cell_type": "code",
      "source": [
        "veh_df['Sex_of_Driver'].replace(-1, 1,inplace= True) # we replace the missing data with 1(mode)"
      ],
      "metadata": {
        "id": "zHO3iBjroTly"
      },
      "execution_count": null,
      "outputs": []
    },
    {
      "cell_type": "markdown",
      "source": [
        "#### Reviewing: Age_of_Driver"
      ],
      "metadata": {
        "id": "j15Stcw8M4X9"
      }
    },
    {
      "cell_type": "code",
      "source": [
        "veh_df['Age_of_Driver'].unique()"
      ],
      "metadata": {
        "colab": {
          "base_uri": "https://localhost:8080/"
        },
        "id": "hp4mi5XOJ924",
        "outputId": "2c214bf9-acdd-411f-e78b-1bc7d2afd028"
      },
      "execution_count": null,
      "outputs": [
        {
          "output_type": "execute_result",
          "data": {
            "text/plain": [
              "array([ 58,  -1,  24,  45,  33,  32,  47,  25,  20,  65,  81,  34,  43,\n",
              "        28,  42,  30,  29,  26,  35,  19,  54,  63,  52,  23,  12,  31,\n",
              "        41,  49,  44,  55,  17,  48,  39,  40,  38,  22,  66,  37,  16,\n",
              "        50,  60,  18,  27,  51,  71,  57,  21,  70,  59,  36,  53,  62,\n",
              "        13,  76,  82,  64,  46,  56,  69,  68,  75,  78,  73,  11,  72,\n",
              "        61,  88,  74,  84,  80,  83,  79,  85,   7,  67,  95,  77,  15,\n",
              "        91,  10,  86,  87,   9,  14,  90,  92,   8,  89,   5,  94,  99,\n",
              "        93,   4,  98,   6,  96,   1,   3,   2,  97, 101, 102])"
            ]
          },
          "metadata": {},
          "execution_count": 70
        }
      ]
    },
    {
      "cell_type": "code",
      "source": [
        "list_of_values = [1,2,3,4,5,6,7,8,9,10,11, 12,13,14,15]\n",
        "\n",
        "Underaged_driver = veh_df[veh_df['Age_of_Driver'].isin(list_of_values)]\n",
        "#Underaged_driver \n",
        "# 2134 underaged drivers"
      ],
      "metadata": {
        "id": "_ivJXxLvJ-Aw"
      },
      "execution_count": null,
      "outputs": []
    },
    {
      "cell_type": "code",
      "source": [
        "Underaged_driver.Age_of_Driver.value_counts()"
      ],
      "metadata": {
        "colab": {
          "base_uri": "https://localhost:8080/"
        },
        "id": "AJNSIuKEOYp3",
        "outputId": "3461ff00-3f1f-4cd3-c751-4f801a6bc545"
      },
      "execution_count": null,
      "outputs": [
        {
          "output_type": "execute_result",
          "data": {
            "text/plain": [
              "15    411\n",
              "14    386\n",
              "13    351\n",
              "12    347\n",
              "11    232\n",
              "10    123\n",
              "9      87\n",
              "8      73\n",
              "7      52\n",
              "6      29\n",
              "5      18\n",
              "4      12\n",
              "3       7\n",
              "1       4\n",
              "2       2\n",
              "Name: Age_of_Driver, dtype: int64"
            ]
          },
          "metadata": {},
          "execution_count": 72
        }
      ]
    },
    {
      "cell_type": "code",
      "source": [
        "#print(veh_df['Was_Vehicle_Left_Hand_Drive?'].unique())\n",
        "print(veh_df['Age_of_Driver'].mode())\n",
        "print(veh_df['Age_of_Driver'].median())\n",
        "print(veh_df['Age_of_Driver'].mean())\n"
      ],
      "metadata": {
        "colab": {
          "base_uri": "https://localhost:8080/"
        },
        "id": "Nr07oHIrNsRv",
        "outputId": "09de0747-9bee-4184-c3f9-a0f3850bdd71"
      },
      "execution_count": null,
      "outputs": [
        {
          "output_type": "stream",
          "name": "stdout",
          "text": [
            "0   -1\n",
            "dtype: int64\n",
            "35.0\n",
            "35.09474491752973\n"
          ]
        }
      ]
    },
    {
      "cell_type": "code",
      "source": [
        "# Mean and Median Age_of_Driver ~~ 35, replace -1 with 35\n",
        "veh_df['Age_of_Driver'].replace(-1, 35,inplace= True)"
      ],
      "metadata": {
        "id": "i-Lg23tjNsWC"
      },
      "execution_count": null,
      "outputs": []
    },
    {
      "cell_type": "markdown",
      "source": [
        "#### Reviewing: Age_Band_of_Driver"
      ],
      "metadata": {
        "id": "mZ9ri69AbGIA"
      }
    },
    {
      "cell_type": "code",
      "source": [
        "print(veh_df['Age_Band_of_Driver'].unique())\n",
        "print(veh_df['Age_Band_of_Driver'].mode())\n",
        "print(veh_df['Age_Band_of_Driver'].median())\n",
        "print(veh_df['Age_Band_of_Driver'].mean())"
      ],
      "metadata": {
        "colab": {
          "base_uri": "https://localhost:8080/"
        },
        "id": "ZkBGPiHPbMXg",
        "outputId": "ae702a44-fdba-46ee-8552-4fa0501a9301"
      },
      "execution_count": null,
      "outputs": [
        {
          "output_type": "stream",
          "name": "stdout",
          "text": [
            "[ 9 -1  5  7  6  8  4 11  3 10  2  1]\n",
            "0    6\n",
            "dtype: int64\n",
            "6.0\n",
            "5.850106987212371\n"
          ]
        }
      ]
    },
    {
      "cell_type": "code",
      "source": [
        "# Mean and Median Age_of_Driver ~~ 35, replace -1 with 6\n",
        "veh_df['Age_Band_of_Driver'].replace(-1, 6,inplace= True)"
      ],
      "metadata": {
        "id": "TSxYqa9hbMi5"
      },
      "execution_count": null,
      "outputs": []
    },
    {
      "cell_type": "markdown",
      "source": [
        "#### Reviewing: Engine_Capacity_(CC) "
      ],
      "metadata": {
        "id": "rZglR7MqSHba"
      }
    },
    {
      "cell_type": "code",
      "source": [
        "print(veh_df['Engine_Capacity_(CC)'].unique())\n",
        "print(veh_df['Engine_Capacity_(CC)'].mode())\n",
        "print(veh_df['Engine_Capacity_(CC)'].median())\n",
        "print(veh_df['Engine_Capacity_(CC)'].mean())"
      ],
      "metadata": {
        "colab": {
          "base_uri": "https://localhost:8080/"
        },
        "id": "kfWw_i7oSGy7",
        "outputId": "56049396-1644-44b0-a8b0-3f86f3c2a513"
      },
      "execution_count": null,
      "outputs": [
        {
          "output_type": "stream",
          "name": "stdout",
          "text": [
            "[   -1  1242   998 ...  3564 10383  2900]\n",
            "0   -1\n",
            "dtype: int64\n",
            "1390.0\n",
            "1378.9495889195448\n"
          ]
        }
      ]
    },
    {
      "cell_type": "code",
      "source": [
        "# Mean and Median of Engine_Capacity_(CC) are close, replace -1 with 1390\n",
        "veh_df['Engine_Capacity_(CC)'].replace(-1, 1390,inplace= True)"
      ],
      "metadata": {
        "id": "iQq14Qe1Nsch"
      },
      "execution_count": null,
      "outputs": []
    },
    {
      "cell_type": "markdown",
      "source": [
        "#### Reviewing: Propulsion_Code"
      ],
      "metadata": {
        "id": "GUq8aMlnTA00"
      }
    },
    {
      "cell_type": "code",
      "source": [
        "print(veh_df['Propulsion_Code'].unique())\n",
        "print(veh_df['Propulsion_Code'].mode())\n",
        "print(veh_df['Propulsion_Code'].median())\n",
        "print(veh_df['Propulsion_Code'].mean())"
      ],
      "metadata": {
        "colab": {
          "base_uri": "https://localhost:8080/"
        },
        "id": "ANg5HxxHNsgc",
        "outputId": "665445aa-1542-4c64-e388-06033ee985ae"
      },
      "execution_count": null,
      "outputs": [
        {
          "output_type": "stream",
          "name": "stdout",
          "text": [
            "[-1  1  2  8  3  5 12  7  6  9  4]\n",
            "0    1\n",
            "dtype: int64\n",
            "1.0\n",
            "0.9780294942716782\n"
          ]
        }
      ]
    },
    {
      "cell_type": "code",
      "source": [
        "# Mean, Mode and Median of Propulsion_Code are close, replace -1 with 1\n",
        "veh_df['Propulsion_Code'].replace(-1, 1,inplace= True)"
      ],
      "metadata": {
        "id": "ZhIxmLuNNslp"
      },
      "execution_count": null,
      "outputs": []
    },
    {
      "cell_type": "markdown",
      "source": [
        "#### Reviewing: Age_of_Vehicle"
      ],
      "metadata": {
        "id": "mUpBUbTOUj4e"
      }
    },
    {
      "cell_type": "code",
      "source": [
        "print(veh_df['Age_of_Vehicle'].unique())\n",
        "print(veh_df['Age_of_Vehicle'].mode())\n",
        "print(veh_df['Age_of_Vehicle'].median())\n",
        "print(veh_df['Age_of_Vehicle'].mean())\t"
      ],
      "metadata": {
        "colab": {
          "base_uri": "https://localhost:8080/"
        },
        "id": "79WqA7p3UFq1",
        "outputId": "d0e95711-d7d9-47db-b196-9489ac3b14db"
      },
      "execution_count": null,
      "outputs": [
        {
          "output_type": "stream",
          "name": "stdout",
          "text": [
            "[-1  4  1 14  7 12 15 11  5  2 10 17  8 22  9  6 18  3 16 27 13 20 21 19\n",
            " 23 26 24 38 53 30 25 29 37 28 33 39 31 36 44 40 35 57 34 41 59 32 42 45\n",
            " 87 94 63 52 48 90 54 47 60 55 66 43 58 50 46 88 72 51 74 65 56 77 62 61\n",
            " 71 49 80]\n",
            "0   -1\n",
            "dtype: int64\n",
            "4.0\n",
            "5.597275176655991\n"
          ]
        }
      ]
    },
    {
      "cell_type": "code",
      "source": [
        "# Mean and Median of Age_of_Vehicle are close, replace -1 with 4\n",
        "veh_df['Age_of_Vehicle'].replace(-1, 6,inplace= True)"
      ],
      "metadata": {
        "id": "pwqAufwpVAhf"
      },
      "execution_count": null,
      "outputs": []
    },
    {
      "cell_type": "markdown",
      "source": [
        "#### Reviewing: Driver_IMD_Decile"
      ],
      "metadata": {
        "id": "vy3KNjkgVf4m"
      }
    },
    {
      "cell_type": "code",
      "source": [
        "print(veh_df['Driver_IMD_Decile'].unique())\n",
        "print(veh_df['Driver_IMD_Decile'].mode())\n",
        "print(veh_df['Driver_IMD_Decile'].median())\n",
        "print(veh_df['Driver_IMD_Decile'].mean())"
      ],
      "metadata": {
        "colab": {
          "base_uri": "https://localhost:8080/"
        },
        "id": "FUcpSKzPVupO",
        "outputId": "584f65f4-cba1-4cd4-8186-d996c81e233f"
      },
      "execution_count": null,
      "outputs": [
        {
          "output_type": "stream",
          "name": "stdout",
          "text": [
            "[ 2  3  6  4 -1  5  7  8  1  9 10]\n",
            "0   -1\n",
            "dtype: int64\n",
            "4.0\n",
            "3.922322200193178\n"
          ]
        }
      ]
    },
    {
      "cell_type": "code",
      "source": [
        "# Mean and Median of Driver_IMD_Decile are close, replace -1 with 4\n",
        "veh_df['Driver_IMD_Decile'].replace(-1, 4,inplace= True)"
      ],
      "metadata": {
        "id": "7mIIGewqVuyO"
      },
      "execution_count": null,
      "outputs": []
    },
    {
      "cell_type": "markdown",
      "source": [
        "#### Reviewing: Driver_Home_Area_Type"
      ],
      "metadata": {
        "id": "RjP7CnTgWQTe"
      }
    },
    {
      "cell_type": "code",
      "source": [
        "print(veh_df['Driver_Home_Area_Type'].unique())\n",
        "print(veh_df['Driver_Home_Area_Type'].mode())\n",
        "print(veh_df['Driver_Home_Area_Type'].median())\n",
        "print(veh_df['Driver_Home_Area_Type'].mean())"
      ],
      "metadata": {
        "colab": {
          "base_uri": "https://localhost:8080/"
        },
        "id": "7WsQL6J4Vu6G",
        "outputId": "8bb7ac5d-2d55-4301-88ab-b6b3aac5eea8"
      },
      "execution_count": null,
      "outputs": [
        {
          "output_type": "stream",
          "name": "stdout",
          "text": [
            "[ 1 -1  2  3]\n",
            "0    1\n",
            "dtype: int64\n",
            "1.0\n",
            "0.8320693591396657\n"
          ]
        }
      ]
    },
    {
      "cell_type": "code",
      "source": [
        "# Mode, Mean and Median of Driver_Home_Area_Type are close, replace -1 with 1\n",
        "veh_df['Driver_Home_Area_Type'].replace(-1, 1,inplace= True)"
      ],
      "metadata": {
        "id": "XLZ7IOQlVu_G"
      },
      "execution_count": null,
      "outputs": []
    },
    {
      "cell_type": "markdown",
      "source": [
        "#### Reviewing: Vehicle_IMD_Decile"
      ],
      "metadata": {
        "id": "VwByfA7OYBbP"
      }
    },
    {
      "cell_type": "code",
      "source": [
        "print(veh_df['Vehicle_IMD_Decile'].unique())\n",
        "print(veh_df['Vehicle_IMD_Decile'].mode())\n",
        "print(veh_df['Vehicle_IMD_Decile'].median())\n",
        "print(veh_df['Vehicle_IMD_Decile'].mean())"
      ],
      "metadata": {
        "colab": {
          "base_uri": "https://localhost:8080/"
        },
        "id": "QLaA2ZVJVvDV",
        "outputId": "40a05c2b-df72-419d-f61b-03089763b3a1"
      },
      "execution_count": null,
      "outputs": [
        {
          "output_type": "stream",
          "name": "stdout",
          "text": [
            "[ 2  3  6  4 -1  5  7  8  1  9 10]\n",
            "0   -1\n",
            "dtype: int64\n",
            "4.0\n",
            "3.922322200193178\n"
          ]
        }
      ]
    },
    {
      "cell_type": "code",
      "source": [
        "# Mean and Median of Vehicle_IMD_Decile are close, replace -1 with 4\n",
        "veh_df['Vehicle_IMD_Decile'].replace(-1, 4,inplace= True)"
      ],
      "metadata": {
        "id": "A-AZjSufVvIP"
      },
      "execution_count": null,
      "outputs": []
    },
    {
      "cell_type": "code",
      "source": [
        "veh_df.head(2)"
      ],
      "metadata": {
        "colab": {
          "base_uri": "https://localhost:8080/",
          "height": 223
        },
        "id": "hSmh1RDqZL8_",
        "outputId": "5456d70e-9f63-40c5-a92c-9e593bebca03"
      },
      "execution_count": null,
      "outputs": [
        {
          "output_type": "execute_result",
          "data": {
            "text/plain": [
              "  Accident_Index  Vehicle_Reference  Vehicle_Type  Towing_and_Articulation  \\\n",
              "0  2019010128300                  1             9                        0   \n",
              "1  2019010128300                  2             9                        0   \n",
              "\n",
              "   Vehicle_Manoeuvre  Vehicle_Location-Restricted_Lane  Junction_Location  \\\n",
              "0                 18                                 0                  0   \n",
              "1                 18                                 0                  0   \n",
              "\n",
              "   Skidding_and_Overturning  Hit_Object_in_Carriageway  \\\n",
              "0                         0                          0   \n",
              "1                         0                          0   \n",
              "\n",
              "   Vehicle_Leaving_Carriageway  ...  Journey_Purpose_of_Driver  Sex_of_Driver  \\\n",
              "0                            0  ...                          6              1   \n",
              "1                            0  ...                          6              3   \n",
              "\n",
              "   Age_of_Driver  Age_Band_of_Driver  Engine_Capacity_(CC)  Propulsion_Code  \\\n",
              "0             58                   9                  1390                1   \n",
              "1             35                   6                  1390                1   \n",
              "\n",
              "   Age_of_Vehicle  Driver_IMD_Decile  Driver_Home_Area_Type  \\\n",
              "0               6                  2                      1   \n",
              "1               6                  2                      1   \n",
              "\n",
              "   Vehicle_IMD_Decile  \n",
              "0                   2  \n",
              "1                   2  \n",
              "\n",
              "[2 rows x 23 columns]"
            ],
            "text/html": [
              "\n",
              "  <div id=\"df-edfb3dff-56be-4a28-a9f6-9ae1482e4002\">\n",
              "    <div class=\"colab-df-container\">\n",
              "      <div>\n",
              "<style scoped>\n",
              "    .dataframe tbody tr th:only-of-type {\n",
              "        vertical-align: middle;\n",
              "    }\n",
              "\n",
              "    .dataframe tbody tr th {\n",
              "        vertical-align: top;\n",
              "    }\n",
              "\n",
              "    .dataframe thead th {\n",
              "        text-align: right;\n",
              "    }\n",
              "</style>\n",
              "<table border=\"1\" class=\"dataframe\">\n",
              "  <thead>\n",
              "    <tr style=\"text-align: right;\">\n",
              "      <th></th>\n",
              "      <th>Accident_Index</th>\n",
              "      <th>Vehicle_Reference</th>\n",
              "      <th>Vehicle_Type</th>\n",
              "      <th>Towing_and_Articulation</th>\n",
              "      <th>Vehicle_Manoeuvre</th>\n",
              "      <th>Vehicle_Location-Restricted_Lane</th>\n",
              "      <th>Junction_Location</th>\n",
              "      <th>Skidding_and_Overturning</th>\n",
              "      <th>Hit_Object_in_Carriageway</th>\n",
              "      <th>Vehicle_Leaving_Carriageway</th>\n",
              "      <th>...</th>\n",
              "      <th>Journey_Purpose_of_Driver</th>\n",
              "      <th>Sex_of_Driver</th>\n",
              "      <th>Age_of_Driver</th>\n",
              "      <th>Age_Band_of_Driver</th>\n",
              "      <th>Engine_Capacity_(CC)</th>\n",
              "      <th>Propulsion_Code</th>\n",
              "      <th>Age_of_Vehicle</th>\n",
              "      <th>Driver_IMD_Decile</th>\n",
              "      <th>Driver_Home_Area_Type</th>\n",
              "      <th>Vehicle_IMD_Decile</th>\n",
              "    </tr>\n",
              "  </thead>\n",
              "  <tbody>\n",
              "    <tr>\n",
              "      <th>0</th>\n",
              "      <td>2019010128300</td>\n",
              "      <td>1</td>\n",
              "      <td>9</td>\n",
              "      <td>0</td>\n",
              "      <td>18</td>\n",
              "      <td>0</td>\n",
              "      <td>0</td>\n",
              "      <td>0</td>\n",
              "      <td>0</td>\n",
              "      <td>0</td>\n",
              "      <td>...</td>\n",
              "      <td>6</td>\n",
              "      <td>1</td>\n",
              "      <td>58</td>\n",
              "      <td>9</td>\n",
              "      <td>1390</td>\n",
              "      <td>1</td>\n",
              "      <td>6</td>\n",
              "      <td>2</td>\n",
              "      <td>1</td>\n",
              "      <td>2</td>\n",
              "    </tr>\n",
              "    <tr>\n",
              "      <th>1</th>\n",
              "      <td>2019010128300</td>\n",
              "      <td>2</td>\n",
              "      <td>9</td>\n",
              "      <td>0</td>\n",
              "      <td>18</td>\n",
              "      <td>0</td>\n",
              "      <td>0</td>\n",
              "      <td>0</td>\n",
              "      <td>0</td>\n",
              "      <td>0</td>\n",
              "      <td>...</td>\n",
              "      <td>6</td>\n",
              "      <td>3</td>\n",
              "      <td>35</td>\n",
              "      <td>6</td>\n",
              "      <td>1390</td>\n",
              "      <td>1</td>\n",
              "      <td>6</td>\n",
              "      <td>2</td>\n",
              "      <td>1</td>\n",
              "      <td>2</td>\n",
              "    </tr>\n",
              "  </tbody>\n",
              "</table>\n",
              "<p>2 rows × 23 columns</p>\n",
              "</div>\n",
              "      <button class=\"colab-df-convert\" onclick=\"convertToInteractive('df-edfb3dff-56be-4a28-a9f6-9ae1482e4002')\"\n",
              "              title=\"Convert this dataframe to an interactive table.\"\n",
              "              style=\"display:none;\">\n",
              "        \n",
              "  <svg xmlns=\"http://www.w3.org/2000/svg\" height=\"24px\"viewBox=\"0 0 24 24\"\n",
              "       width=\"24px\">\n",
              "    <path d=\"M0 0h24v24H0V0z\" fill=\"none\"/>\n",
              "    <path d=\"M18.56 5.44l.94 2.06.94-2.06 2.06-.94-2.06-.94-.94-2.06-.94 2.06-2.06.94zm-11 1L8.5 8.5l.94-2.06 2.06-.94-2.06-.94L8.5 2.5l-.94 2.06-2.06.94zm10 10l.94 2.06.94-2.06 2.06-.94-2.06-.94-.94-2.06-.94 2.06-2.06.94z\"/><path d=\"M17.41 7.96l-1.37-1.37c-.4-.4-.92-.59-1.43-.59-.52 0-1.04.2-1.43.59L10.3 9.45l-7.72 7.72c-.78.78-.78 2.05 0 2.83L4 21.41c.39.39.9.59 1.41.59.51 0 1.02-.2 1.41-.59l7.78-7.78 2.81-2.81c.8-.78.8-2.07 0-2.86zM5.41 20L4 18.59l7.72-7.72 1.47 1.35L5.41 20z\"/>\n",
              "  </svg>\n",
              "      </button>\n",
              "      \n",
              "  <style>\n",
              "    .colab-df-container {\n",
              "      display:flex;\n",
              "      flex-wrap:wrap;\n",
              "      gap: 12px;\n",
              "    }\n",
              "\n",
              "    .colab-df-convert {\n",
              "      background-color: #E8F0FE;\n",
              "      border: none;\n",
              "      border-radius: 50%;\n",
              "      cursor: pointer;\n",
              "      display: none;\n",
              "      fill: #1967D2;\n",
              "      height: 32px;\n",
              "      padding: 0 0 0 0;\n",
              "      width: 32px;\n",
              "    }\n",
              "\n",
              "    .colab-df-convert:hover {\n",
              "      background-color: #E2EBFA;\n",
              "      box-shadow: 0px 1px 2px rgba(60, 64, 67, 0.3), 0px 1px 3px 1px rgba(60, 64, 67, 0.15);\n",
              "      fill: #174EA6;\n",
              "    }\n",
              "\n",
              "    [theme=dark] .colab-df-convert {\n",
              "      background-color: #3B4455;\n",
              "      fill: #D2E3FC;\n",
              "    }\n",
              "\n",
              "    [theme=dark] .colab-df-convert:hover {\n",
              "      background-color: #434B5C;\n",
              "      box-shadow: 0px 1px 3px 1px rgba(0, 0, 0, 0.15);\n",
              "      filter: drop-shadow(0px 1px 2px rgba(0, 0, 0, 0.3));\n",
              "      fill: #FFFFFF;\n",
              "    }\n",
              "  </style>\n",
              "\n",
              "      <script>\n",
              "        const buttonEl =\n",
              "          document.querySelector('#df-edfb3dff-56be-4a28-a9f6-9ae1482e4002 button.colab-df-convert');\n",
              "        buttonEl.style.display =\n",
              "          google.colab.kernel.accessAllowed ? 'block' : 'none';\n",
              "\n",
              "        async function convertToInteractive(key) {\n",
              "          const element = document.querySelector('#df-edfb3dff-56be-4a28-a9f6-9ae1482e4002');\n",
              "          const dataTable =\n",
              "            await google.colab.kernel.invokeFunction('convertToInteractive',\n",
              "                                                     [key], {});\n",
              "          if (!dataTable) return;\n",
              "\n",
              "          const docLinkHtml = 'Like what you see? Visit the ' +\n",
              "            '<a target=\"_blank\" href=https://colab.research.google.com/notebooks/data_table.ipynb>data table notebook</a>'\n",
              "            + ' to learn more about interactive tables.';\n",
              "          element.innerHTML = '';\n",
              "          dataTable['output_type'] = 'display_data';\n",
              "          await google.colab.output.renderOutput(dataTable, element);\n",
              "          const docLink = document.createElement('div');\n",
              "          docLink.innerHTML = docLinkHtml;\n",
              "          element.appendChild(docLink);\n",
              "        }\n",
              "      </script>\n",
              "    </div>\n",
              "  </div>\n",
              "  "
            ]
          },
          "metadata": {},
          "execution_count": 89
        }
      ]
    },
    {
      "cell_type": "markdown",
      "source": [
        "##Accident Data"
      ],
      "metadata": {
        "id": "v8ckgo5FzUjX"
      }
    },
    {
      "cell_type": "markdown",
      "source": [
        "#### Reviewing Accident dataframe and clean appropriately"
      ],
      "metadata": {
        "id": "lLTJd8iUyfiq"
      }
    },
    {
      "cell_type": "code",
      "source": [
        "acc_df.info()"
      ],
      "metadata": {
        "colab": {
          "base_uri": "https://localhost:8080/"
        },
        "id": "iQ-IZwfKcXN7",
        "outputId": "17634e71-e055-4b6b-f1f7-2b5551f7f7bc"
      },
      "execution_count": null,
      "outputs": [
        {
          "output_type": "stream",
          "name": "stdout",
          "text": [
            "<class 'pandas.core.frame.DataFrame'>\n",
            "RangeIndex: 117536 entries, 0 to 117535\n",
            "Data columns (total 32 columns):\n",
            " #   Column                                       Non-Null Count   Dtype  \n",
            "---  ------                                       --------------   -----  \n",
            " 0   Accident_Index                               117536 non-null  string \n",
            " 1   Location_Easting_OSGR                        117508 non-null  float64\n",
            " 2   Location_Northing_OSGR                       117508 non-null  float64\n",
            " 3   Longitude                                    117508 non-null  float64\n",
            " 4   Latitude                                     117508 non-null  float64\n",
            " 5   Police_Force                                 117536 non-null  int64  \n",
            " 6   Accident_Severity                            117536 non-null  int64  \n",
            " 7   Number_of_Vehicles                           117536 non-null  int64  \n",
            " 8   Number_of_Casualties                         117536 non-null  int64  \n",
            " 9   Date                                         117536 non-null  object \n",
            " 10  Day_of_Week                                  117536 non-null  int64  \n",
            " 11  Time                                         117473 non-null  object \n",
            " 12  Local_Authority_(District)                   117536 non-null  int64  \n",
            " 13  Local_Authority_(Highway)                    117536 non-null  object \n",
            " 14  1st_Road_Class                               117536 non-null  int64  \n",
            " 15  1st_Road_Number                              117536 non-null  int64  \n",
            " 16  Road_Type                                    117536 non-null  int64  \n",
            " 17  Speed_limit                                  117536 non-null  int64  \n",
            " 18  Junction_Detail                              117536 non-null  int64  \n",
            " 19  Junction_Control                             117536 non-null  int64  \n",
            " 20  2nd_Road_Class                               117536 non-null  int64  \n",
            " 21  2nd_Road_Number                              117536 non-null  int64  \n",
            " 22  Pedestrian_Crossing-Human_Control            117536 non-null  int64  \n",
            " 23  Pedestrian_Crossing-Physical_Facilities      117536 non-null  int64  \n",
            " 24  Light_Conditions                             117536 non-null  int64  \n",
            " 25  Weather_Conditions                           117536 non-null  int64  \n",
            " 26  Road_Surface_Conditions                      117536 non-null  int64  \n",
            " 27  Special_Conditions_at_Site                   117536 non-null  int64  \n",
            " 28  Carriageway_Hazards                          117536 non-null  int64  \n",
            " 29  Urban_or_Rural_Area                          117536 non-null  int64  \n",
            " 30  Did_Police_Officer_Attend_Scene_of_Accident  117536 non-null  int64  \n",
            " 31  LSOA_of_Accident_Location                    111822 non-null  object \n",
            "dtypes: float64(4), int64(23), object(4), string(1)\n",
            "memory usage: 28.7+ MB\n"
          ]
        }
      ]
    },
    {
      "cell_type": "code",
      "source": [
        "acc_df.isnull().sum()"
      ],
      "metadata": {
        "colab": {
          "base_uri": "https://localhost:8080/"
        },
        "id": "Advw6V0v8IdC",
        "outputId": "312be4b4-ac50-4511-9fd6-9ab0a9cd5a03"
      },
      "execution_count": null,
      "outputs": [
        {
          "output_type": "execute_result",
          "data": {
            "text/plain": [
              "Accident_Index                                    0\n",
              "Location_Easting_OSGR                            28\n",
              "Location_Northing_OSGR                           28\n",
              "Longitude                                        28\n",
              "Latitude                                         28\n",
              "Police_Force                                      0\n",
              "Accident_Severity                                 0\n",
              "Number_of_Vehicles                                0\n",
              "Number_of_Casualties                              0\n",
              "Date                                              0\n",
              "Day_of_Week                                       0\n",
              "Time                                             63\n",
              "Local_Authority_(District)                        0\n",
              "Local_Authority_(Highway)                         0\n",
              "1st_Road_Class                                    0\n",
              "1st_Road_Number                                   0\n",
              "Road_Type                                         0\n",
              "Speed_limit                                       0\n",
              "Junction_Detail                                   0\n",
              "Junction_Control                                  0\n",
              "2nd_Road_Class                                    0\n",
              "2nd_Road_Number                                   0\n",
              "Pedestrian_Crossing-Human_Control                 0\n",
              "Pedestrian_Crossing-Physical_Facilities           0\n",
              "Light_Conditions                                  0\n",
              "Weather_Conditions                                0\n",
              "Road_Surface_Conditions                           0\n",
              "Special_Conditions_at_Site                        0\n",
              "Carriageway_Hazards                               0\n",
              "Urban_or_Rural_Area                               0\n",
              "Did_Police_Officer_Attend_Scene_of_Accident       0\n",
              "LSOA_of_Accident_Location                      5714\n",
              "dtype: int64"
            ]
          },
          "metadata": {},
          "execution_count": 91
        }
      ]
    },
    {
      "cell_type": "markdown",
      "source": [
        "- There are 117,536 entries (rows) and 32 features (columns)\n",
        "- 29 columns are numrical and only 1 categorical variable and 1 object\n",
        "- Five features has null values but further checks is required to be certain they are the only one"
      ],
      "metadata": {
        "id": "DF4oBWSD70eM"
      }
    },
    {
      "cell_type": "code",
      "source": [
        "missing_value = acc_df.replace(-1, np.nan)\n",
        "missing_value.isna().sum()"
      ],
      "metadata": {
        "colab": {
          "base_uri": "https://localhost:8080/"
        },
        "id": "67QyBRIU7yE6",
        "outputId": "8ea7ce03-ca60-40ef-c7ad-237845d4d9c1"
      },
      "execution_count": null,
      "outputs": [
        {
          "output_type": "execute_result",
          "data": {
            "text/plain": [
              "Accident_Index                                     0\n",
              "Location_Easting_OSGR                             28\n",
              "Location_Northing_OSGR                            28\n",
              "Longitude                                         28\n",
              "Latitude                                          28\n",
              "Police_Force                                       0\n",
              "Accident_Severity                                  0\n",
              "Number_of_Vehicles                                 0\n",
              "Number_of_Casualties                               0\n",
              "Date                                               0\n",
              "Day_of_Week                                        0\n",
              "Time                                              63\n",
              "Local_Authority_(District)                         0\n",
              "Local_Authority_(Highway)                          0\n",
              "1st_Road_Class                                     0\n",
              "1st_Road_Number                                    0\n",
              "Road_Type                                          0\n",
              "Speed_limit                                       80\n",
              "Junction_Detail                                 1397\n",
              "Junction_Control                               52376\n",
              "2nd_Road_Class                                 49106\n",
              "2nd_Road_Number                                  127\n",
              "Pedestrian_Crossing-Human_Control               3631\n",
              "Pedestrian_Crossing-Physical_Facilities         3242\n",
              "Light_Conditions                                   1\n",
              "Weather_Conditions                                 0\n",
              "Road_Surface_Conditions                         1349\n",
              "Special_Conditions_at_Site                      1819\n",
              "Carriageway_Hazards                             1556\n",
              "Urban_or_Rural_Area                                0\n",
              "Did_Police_Officer_Attend_Scene_of_Accident        0\n",
              "LSOA_of_Accident_Location                       5714\n",
              "dtype: int64"
            ]
          },
          "metadata": {},
          "execution_count": 92
        }
      ]
    },
    {
      "cell_type": "markdown",
      "source": [
        "- It was discovered after further checks that 17 features have one or more missing values as against five obtained before"
      ],
      "metadata": {
        "id": "i5v6t-Q4IYnl"
      }
    },
    {
      "cell_type": "markdown",
      "source": [
        "#### Average Longitude and Latitude"
      ],
      "metadata": {
        "id": "EZYvbLH_etfB"
      }
    },
    {
      "cell_type": "code",
      "source": [
        "missing_long = acc_df[acc_df['Longitude'].isnull()]\n",
        "missing_long['Police_Force'].unique()"
      ],
      "metadata": {
        "colab": {
          "base_uri": "https://localhost:8080/"
        },
        "id": "-x6QoWHnifDG",
        "outputId": "66c401eb-b59c-40dd-eac0-e6af28e114e5"
      },
      "execution_count": null,
      "outputs": [
        {
          "output_type": "execute_result",
          "data": {
            "text/plain": [
              "array([ 4,  5,  7, 12, 13, 16, 23, 46, 47, 55, 60, 62, 63])"
            ]
          },
          "metadata": {},
          "execution_count": 93
        }
      ]
    },
    {
      "cell_type": "code",
      "source": [
        "def func(x):\n",
        "    if pd.isna(x[\"Location_Easting_OSGR\"]):\n",
        "        \n",
        "        force = x[\"Police_Force\"]\n",
        "        \n",
        "        m = acc_df[acc_df.Police_Force==force][\"Longitude\"].median()\n",
        "        n = acc_df[acc_df.Police_Force==force][\"Latitude\"].median()\n",
        "        o = acc_df[acc_df.Police_Force==force][\"Location_Easting_OSGR\"].median()\n",
        "        p = acc_df[acc_df.Police_Force==force][\"Location_Northing_OSGR\"].median()\n",
        "        \n",
        "        acc_df.loc[x.name, \"Longitude\"] = m\n",
        "        acc_df.loc[x.name, \"Latitude\"] = n\n",
        "        acc_df.loc[x.name, \"Location_Easting_OSGR\"] = o\n",
        "        acc_df.loc[x.name, \"Location_Northing_OSGR\"] = p\n",
        "        \n",
        "        \n",
        "#     return False"
      ],
      "metadata": {
        "id": "ALekLf7yezlD"
      },
      "execution_count": null,
      "outputs": []
    },
    {
      "cell_type": "code",
      "source": [
        "replace = acc_df.apply(func, axis=1)"
      ],
      "metadata": {
        "id": "tCD_bVX8ezoX"
      },
      "execution_count": null,
      "outputs": []
    },
    {
      "cell_type": "code",
      "source": [
        "#acc_df.isna().sum()"
      ],
      "metadata": {
        "id": "dLz0S4g_ezqe"
      },
      "execution_count": null,
      "outputs": []
    },
    {
      "cell_type": "markdown",
      "source": [
        "#### Function to replace missing values of LSOA_of_Accident_Location and Time"
      ],
      "metadata": {
        "id": "2e_bVjgVFC4l"
      }
    },
    {
      "cell_type": "code",
      "source": [
        "def clean_acc_df(acc_df):\n",
        "\n",
        "    acc_df['LSOA_of_Accident_Location'] = acc_df['LSOA_of_Accident_Location'].fillna('Unknown')\n",
        "    acc_df['Time'] = acc_df['Time'].fillna('00:00')       \n",
        "\n",
        "    acc_df = acc_df.astype({'Accident_Index': str})\n",
        "    acc_df['Converted_Time'] = pd.DatetimeIndex(acc_df['Time'])\n",
        "    acc_df['Decimal_Time'] = round((acc_df['Converted_Time'].dt.hour + acc_df['Converted_Time'].dt.minute/60),2)\n",
        "    \n",
        "    \n",
        "    return acc_df\n",
        "\n",
        "\n",
        "clean_acc_df = clean_acc_df(acc_df)\n",
        "\n",
        "#clean_acc_df.info()"
      ],
      "metadata": {
        "id": "P1DN2aUQez-X"
      },
      "execution_count": null,
      "outputs": []
    },
    {
      "cell_type": "markdown",
      "source": [
        "\n",
        "### Speed limit replacement of null value\n",
        "\n",
        "\n",
        "\n"
      ],
      "metadata": {
        "id": "Wx7ktkjsRiho"
      }
    },
    {
      "cell_type": "code",
      "source": [
        "print(acc_df['Speed_limit'].unique())\n",
        "print(acc_df['Speed_limit'].mode())\n",
        "print(acc_df['Speed_limit'].median())\n",
        "print(acc_df['Speed_limit'].mean())"
      ],
      "metadata": {
        "colab": {
          "base_uri": "https://localhost:8080/"
        },
        "id": "MkdVpj8qRXLI",
        "outputId": "3da54361-ee94-4de0-daf2-e2c50bdef6f4"
      },
      "execution_count": null,
      "outputs": [
        {
          "output_type": "stream",
          "name": "stdout",
          "text": [
            "[30 20 40 50 70 -1 60]\n",
            "0    30\n",
            "dtype: int64\n",
            "30.0\n",
            "36.77341410291315\n"
          ]
        }
      ]
    },
    {
      "cell_type": "code",
      "source": [
        "# Mode and Median of accidents['Speed_limit'] are close, replace -1 with 30\n",
        "acc_df['Speed_limit'].replace(-1, 30,inplace= True)"
      ],
      "metadata": {
        "id": "wl7XKmadRguG"
      },
      "execution_count": null,
      "outputs": []
    },
    {
      "cell_type": "markdown",
      "source": [
        "### Junction Details replacement of null value\n",
        "\n",
        "---\n",
        "\n"
      ],
      "metadata": {
        "id": "4S2tzXsfTyIs"
      }
    },
    {
      "cell_type": "code",
      "source": [
        "print(acc_df['Junction_Detail'].unique())\n",
        "print(acc_df['Junction_Detail'].mode())\n",
        "print(acc_df['Junction_Detail'].median())\n",
        "print(acc_df['Junction_Detail'].mean()) "
      ],
      "metadata": {
        "colab": {
          "base_uri": "https://localhost:8080/"
        },
        "id": "B1UK73UoSWd3",
        "outputId": "13dae449-6a54-47b3-92ff-f311a653f2bd"
      },
      "execution_count": null,
      "outputs": [
        {
          "output_type": "stream",
          "name": "stdout",
          "text": [
            "[ 1  0  3  6  9  5  7  8  2 -1]\n",
            "0    0\n",
            "dtype: int64\n",
            "1.0\n",
            "2.299703920500953\n"
          ]
        }
      ]
    },
    {
      "cell_type": "code",
      "source": [
        "# Mode of acc_df['Junction_Detail'] is resonable for categorical data, replace -1 with 0\n",
        "acc_df['Junction_Detail'].replace(-1, 0,inplace= True)"
      ],
      "metadata": {
        "id": "XjRxmYPfUMu4"
      },
      "execution_count": null,
      "outputs": []
    },
    {
      "cell_type": "markdown",
      "source": [
        "### Junction Control replacement of null value"
      ],
      "metadata": {
        "id": "iLLXENWJWfw7"
      }
    },
    {
      "cell_type": "code",
      "source": [
        "print(acc_df['Junction_Control'].unique())\n",
        "print(acc_df['Junction_Control'].mode())\n",
        "print(acc_df['Junction_Control'].median())\n",
        "print(acc_df['Junction_Control'].mean())"
      ],
      "metadata": {
        "colab": {
          "base_uri": "https://localhost:8080/"
        },
        "id": "SLpsPoTDVCkg",
        "outputId": "6581f4d3-1985-4f26-d397-2a7230f5c48f"
      },
      "execution_count": null,
      "outputs": [
        {
          "output_type": "stream",
          "name": "stdout",
          "text": [
            "[ 2 -1  4  3  1  0]\n",
            "0   -1\n",
            "dtype: int64\n",
            "2.0\n",
            "1.5322454396950722\n"
          ]
        }
      ]
    },
    {
      "cell_type": "code",
      "source": [
        "# Median and Mean of acc_df['Junction_Control'] are close, replace -1 with 2.0\n",
        "acc_df['Junction_Control'].replace(-1, 2.0,inplace= True)"
      ],
      "metadata": {
        "id": "pbT8hEyTVESb"
      },
      "execution_count": null,
      "outputs": []
    },
    {
      "cell_type": "markdown",
      "source": [
        "### 2nd Road Class replacement of null value\n"
      ],
      "metadata": {
        "id": "DtwlVQQuU8Wr"
      }
    },
    {
      "cell_type": "code",
      "source": [
        "print(acc_df['2nd_Road_Class'].unique())\n",
        "print(acc_df['2nd_Road_Class'].mode())\n",
        "print(acc_df['2nd_Road_Class'].median())\n",
        "print(acc_df['2nd_Road_Class'].mean())\n"
      ],
      "metadata": {
        "colab": {
          "base_uri": "https://localhost:8080/"
        },
        "id": "lF_BTM6RXHjd",
        "outputId": "52d0e0ad-89af-4f53-8ad2-48d0cf311fce"
      },
      "execution_count": null,
      "outputs": [
        {
          "output_type": "stream",
          "name": "stdout",
          "text": [
            "[ 3 -1  6  4  5  1  2]\n",
            "0   -1\n",
            "dtype: int64\n",
            "3.0\n",
            "2.618134018513477\n"
          ]
        }
      ]
    },
    {
      "cell_type": "code",
      "source": [
        "# Median and Mean of acc_df['Junction_Control'] are close, replace -1 with 3.0\n",
        "acc_df['2nd_Road_Number'].replace(-1, 3.0,inplace= True)"
      ],
      "metadata": {
        "id": "tnBoN78dXi6O"
      },
      "execution_count": null,
      "outputs": []
    },
    {
      "cell_type": "markdown",
      "source": [
        "### 2nd Road Number replacement of null value\n"
      ],
      "metadata": {
        "id": "HiJHlXruZf0t"
      }
    },
    {
      "cell_type": "code",
      "source": [
        "print(acc_df['2nd_Road_Number'].unique())\n",
        "print(acc_df['2nd_Road_Number'].mode())\n",
        "print(acc_df['2nd_Road_Number'].median())\n",
        "print(acc_df['2nd_Road_Number'].mean())\n"
      ],
      "metadata": {
        "colab": {
          "base_uri": "https://localhost:8080/"
        },
        "id": "NZJWw2ZMZOQ1",
        "outputId": "9a2663c0-11bf-4070-e6cd-bd6fc9787c90"
      },
      "execution_count": null,
      "outputs": [
        {
          "output_type": "stream",
          "name": "stdout",
          "text": [
            "[4202    0  510 ...  712  843 6357]\n",
            "0    0\n",
            "dtype: int64\n",
            "0.0\n",
            "306.33044343860604\n"
          ]
        }
      ]
    },
    {
      "cell_type": "code",
      "source": [
        "# Median and Mode of acc_df['2nd_Road_Number'] are close, replace -1 with 0\n",
        "acc_df['2nd_Road_Number'].replace(-1, 0,inplace= True)"
      ],
      "metadata": {
        "id": "IsC0X0kbZRwt"
      },
      "execution_count": null,
      "outputs": []
    },
    {
      "cell_type": "markdown",
      "source": [
        "### Pedestrian Crossing Human Control replacement of null value\n"
      ],
      "metadata": {
        "id": "KZnNKvkKalx1"
      }
    },
    {
      "cell_type": "code",
      "source": [
        "print(acc_df['Pedestrian_Crossing-Human_Control'].unique())\n",
        "print(acc_df['Pedestrian_Crossing-Human_Control'].mode())\n",
        "print(acc_df['Pedestrian_Crossing-Human_Control'].median())\n",
        "print(acc_df['Pedestrian_Crossing-Human_Control'].mean())"
      ],
      "metadata": {
        "colab": {
          "base_uri": "https://localhost:8080/"
        },
        "id": "2LwN0pvlaXIs",
        "outputId": "1c3313c5-b01c-41b7-b08a-385b1de163d6"
      },
      "execution_count": null,
      "outputs": [
        {
          "output_type": "stream",
          "name": "stdout",
          "text": [
            "[ 0 -1  2  1]\n",
            "0    0\n",
            "dtype: int64\n",
            "0.0\n",
            "-0.0057173972229784915\n"
          ]
        }
      ]
    },
    {
      "cell_type": "code",
      "source": [
        "# Median and Mode of acc_df['Pedestrian_Crossing-Human_Control'] are close, replace -1 with 0\n",
        "acc_df['Pedestrian_Crossing-Human_Control'].replace(-1, 0,inplace= True)"
      ],
      "metadata": {
        "id": "c7cVGapiaXEh"
      },
      "execution_count": null,
      "outputs": []
    },
    {
      "cell_type": "markdown",
      "source": [
        "### Pedestrian Crossing Physical Facilities replacement of null value\n",
        "\n"
      ],
      "metadata": {
        "id": "Xy3LzIpDcGDO"
      }
    },
    {
      "cell_type": "code",
      "source": [
        "print(acc_df['Pedestrian_Crossing-Physical_Facilities'].unique())\n",
        "print(acc_df['Pedestrian_Crossing-Physical_Facilities'].mode())\n",
        "print(acc_df['Pedestrian_Crossing-Physical_Facilities'].median())\n",
        "print(acc_df['Pedestrian_Crossing-Physical_Facilities'].mean())"
      ],
      "metadata": {
        "colab": {
          "base_uri": "https://localhost:8080/"
        },
        "id": "fMhdXti-cMas",
        "outputId": "829eb0b3-855e-493a-b3c4-c76cc1c7d555"
      },
      "execution_count": null,
      "outputs": [
        {
          "output_type": "stream",
          "name": "stdout",
          "text": [
            "[ 5 -1  0  4  8  1  7]\n",
            "0    0\n",
            "dtype: int64\n",
            "0.0\n",
            "0.8623400490062619\n"
          ]
        }
      ]
    },
    {
      "cell_type": "code",
      "source": [
        "# Mean, Median and Mode of acc_df['Pedestrian_Crossing-Physical_Facilities'] are close, replace -1 with 0\n",
        "acc_df['Pedestrian_Crossing-Physical_Facilities'].replace(-1, 0,inplace= True)"
      ],
      "metadata": {
        "id": "MaEn3zz7aVj3"
      },
      "execution_count": null,
      "outputs": []
    },
    {
      "cell_type": "markdown",
      "source": [
        "### Light condition replacement of null value"
      ],
      "metadata": {
        "id": "l2IGwsB1goc4"
      }
    },
    {
      "cell_type": "code",
      "source": [
        "print(acc_df['Light_Conditions'].unique())\n",
        "print(acc_df['Light_Conditions'].mode())\n",
        "print(acc_df['Light_Conditions'].median())\n",
        "print(acc_df['Light_Conditions'].mean())\n",
        "#Mode was used"
      ],
      "metadata": {
        "colab": {
          "base_uri": "https://localhost:8080/"
        },
        "id": "iiGFf1RNdT0p",
        "outputId": "a5f7a9f7-0ca5-4d87-a53f-0d0ce224bd88"
      },
      "execution_count": null,
      "outputs": [
        {
          "output_type": "stream",
          "name": "stdout",
          "text": [
            "[ 1  4  6  7  5 -1]\n",
            "0    1\n",
            "dtype: int64\n",
            "1.0\n",
            "2.0468877620473727\n"
          ]
        }
      ]
    },
    {
      "cell_type": "code",
      "source": [
        "#Median and Mode of acc_df['Light_Conditions'] are close, replace -1 with 1\n",
        "acc_df['Light_Conditions'].replace(-1, 1,inplace= True)"
      ],
      "metadata": {
        "id": "LjYbIpILdXxY"
      },
      "execution_count": null,
      "outputs": []
    },
    {
      "cell_type": "markdown",
      "source": [
        "### Pedestrian Road Surface Condition replacement of null value"
      ],
      "metadata": {
        "id": "v0EDv8EIenZ-"
      }
    },
    {
      "cell_type": "code",
      "source": [
        "print(acc_df['Road_Surface_Conditions'].unique())\n",
        "print(acc_df['Road_Surface_Conditions'].mode())\n",
        "print(acc_df['Road_Surface_Conditions'].median())\n",
        "print(acc_df['Road_Surface_Conditions'].mean())\n",
        "#mode was used"
      ],
      "metadata": {
        "colab": {
          "base_uri": "https://localhost:8080/"
        },
        "id": "b7LJ9Uund222",
        "outputId": "5ce53208-8c5e-412b-f845-15ff78b08371"
      },
      "execution_count": null,
      "outputs": [
        {
          "output_type": "stream",
          "name": "stdout",
          "text": [
            "[ 1  2 -1  4  3  5]\n",
            "0    1\n",
            "dtype: int64\n",
            "1.0\n",
            "1.2919445956983393\n"
          ]
        }
      ]
    },
    {
      "cell_type": "code",
      "source": [
        "#Median and Mode of acc_df['Road_Surface_Conditions'] are close, replace -1 with 1\n",
        "acc_df['Road_Surface_Conditions'].replace(-1, 1,inplace= True)"
      ],
      "metadata": {
        "id": "a9hiDFEgd2wj"
      },
      "execution_count": null,
      "outputs": []
    },
    {
      "cell_type": "markdown",
      "source": [
        "### Special condtitions at site replacement of null value\n",
        "\n"
      ],
      "metadata": {
        "id": "CJchd12Hf9Mr"
      }
    },
    {
      "cell_type": "code",
      "source": [
        "print(acc_df['Special_Conditions_at_Site'].unique())\n",
        "print(acc_df['Special_Conditions_at_Site'].mode())\n",
        "print(acc_df['Special_Conditions_at_Site'].median())\n",
        "print(acc_df['Special_Conditions_at_Site'].mean())\n",
        "#Mode was used"
      ],
      "metadata": {
        "colab": {
          "base_uri": "https://localhost:8080/"
        },
        "id": "uRGkOYujfbNZ",
        "outputId": "b8835543-2251-4621-ed2f-8a005c5069ab"
      },
      "execution_count": null,
      "outputs": [
        {
          "output_type": "stream",
          "name": "stdout",
          "text": [
            "[ 0 -1  4  1  5  3  6  2  7]\n",
            "0    0\n",
            "dtype: int64\n",
            "0.0\n",
            "0.07493874217261094\n"
          ]
        }
      ]
    },
    {
      "cell_type": "code",
      "source": [
        "#Mean, Median and Mode of acc_df['Special_Conditions_at_Site'] are close, replace -1 with 0\n",
        "acc_df['Special_Conditions_at_Site'].replace(-1, 0,inplace= True)"
      ],
      "metadata": {
        "id": "6YK8lVqlfehd"
      },
      "execution_count": null,
      "outputs": []
    },
    {
      "cell_type": "markdown",
      "source": [
        "### Carriageway Hazards replacement of null value\n",
        "\n"
      ],
      "metadata": {
        "id": "0cF8yLU2hMTD"
      }
    },
    {
      "cell_type": "code",
      "source": [
        "print(acc_df['Carriageway_Hazards'].unique())\n",
        "print(acc_df['Carriageway_Hazards'].mode())\n",
        "print(acc_df['Carriageway_Hazards'].median())\n",
        "print(acc_df['Carriageway_Hazards'].mean())             \n"
      ],
      "metadata": {
        "colab": {
          "base_uri": "https://localhost:8080/"
        },
        "id": "Z6ZEiJOBd2rG",
        "outputId": "fa3853e8-53d8-4980-ca20-0345e154429b"
      },
      "execution_count": null,
      "outputs": [
        {
          "output_type": "stream",
          "name": "stdout",
          "text": [
            "[ 0 -1  3  2  1  6  7]\n",
            "0    0\n",
            "dtype: int64\n",
            "0.0\n",
            "0.04431833650966512\n"
          ]
        }
      ]
    },
    {
      "cell_type": "code",
      "source": [
        "#Mean, Median and Mode of acc_df['Carriageway_Hazards'] are close, replace -1 with 0\n",
        "acc_df['Special_Conditions_at_Site'].replace(-1, 0,inplace= True)"
      ],
      "metadata": {
        "id": "f3_M2yrQd2g2"
      },
      "execution_count": null,
      "outputs": []
    },
    {
      "cell_type": "code",
      "source": [
        "#acc_df.isna().sum()"
      ],
      "metadata": {
        "id": "YUISd_QyiBKT"
      },
      "execution_count": null,
      "outputs": []
    },
    {
      "cell_type": "markdown",
      "source": [
        "##Merging of Vehicle and Accident dataset"
      ],
      "metadata": {
        "id": "vPh6fGqiITbI"
      }
    },
    {
      "cell_type": "code",
      "source": [
        "# Merging two data sets into one with inner join by index\n",
        "veh_acc = pd.merge(clean_acc_df, veh_df, on = ['Accident_Index'])\n",
        "acc_cas = pd.merge(clean_acc_df, cas_df, on = ['Accident_Index'])\n",
        "#veh_acc.info()"
      ],
      "metadata": {
        "id": "S6vPjEKVEsaH",
        "colab": {
          "base_uri": "https://localhost:8080/",
          "height": 218
        },
        "outputId": "2067310a-9af1-46fa-ff6b-c86b9d606581"
      },
      "execution_count": null,
      "outputs": [
        {
          "output_type": "error",
          "ename": "NameError",
          "evalue": "ignored",
          "traceback": [
            "\u001b[0;31m---------------------------------------------------------------------------\u001b[0m",
            "\u001b[0;31mNameError\u001b[0m                                 Traceback (most recent call last)",
            "\u001b[0;32m<ipython-input-1-0327c0e85207>\u001b[0m in \u001b[0;36m<module>\u001b[0;34m()\u001b[0m\n\u001b[1;32m      1\u001b[0m \u001b[0;31m# Merging two data sets into one with inner join by index\u001b[0m\u001b[0;34m\u001b[0m\u001b[0;34m\u001b[0m\u001b[0;34m\u001b[0m\u001b[0m\n\u001b[0;32m----> 2\u001b[0;31m \u001b[0mveh_acc\u001b[0m \u001b[0;34m=\u001b[0m \u001b[0mpd\u001b[0m\u001b[0;34m.\u001b[0m\u001b[0mmerge\u001b[0m\u001b[0;34m(\u001b[0m\u001b[0mclean_acc_df\u001b[0m\u001b[0;34m,\u001b[0m \u001b[0mveh_df\u001b[0m\u001b[0;34m,\u001b[0m \u001b[0mon\u001b[0m \u001b[0;34m=\u001b[0m \u001b[0;34m[\u001b[0m\u001b[0;34m'Accident_Index'\u001b[0m\u001b[0;34m]\u001b[0m\u001b[0;34m)\u001b[0m\u001b[0;34m\u001b[0m\u001b[0;34m\u001b[0m\u001b[0m\n\u001b[0m\u001b[1;32m      3\u001b[0m \u001b[0macc_cas\u001b[0m \u001b[0;34m=\u001b[0m \u001b[0mpd\u001b[0m\u001b[0;34m.\u001b[0m\u001b[0mmerge\u001b[0m\u001b[0;34m(\u001b[0m\u001b[0mclean_acc_df\u001b[0m\u001b[0;34m,\u001b[0m \u001b[0mcas_df\u001b[0m\u001b[0;34m,\u001b[0m \u001b[0mon\u001b[0m \u001b[0;34m=\u001b[0m \u001b[0;34m[\u001b[0m\u001b[0;34m'Accident_Index'\u001b[0m\u001b[0;34m]\u001b[0m\u001b[0;34m)\u001b[0m\u001b[0;34m\u001b[0m\u001b[0;34m\u001b[0m\u001b[0m\n\u001b[1;32m      4\u001b[0m \u001b[0;31m#veh_acc.info()\u001b[0m\u001b[0;34m\u001b[0m\u001b[0;34m\u001b[0m\u001b[0;34m\u001b[0m\u001b[0m\n",
            "\u001b[0;31mNameError\u001b[0m: name 'pd' is not defined"
          ]
        }
      ]
    },
    {
      "cell_type": "markdown",
      "source": [
        "# (a) Are there significant hours of the day, and days of the week, on which accidents occur?"
      ],
      "metadata": {
        "id": "7IxYPQY818z8"
      }
    },
    {
      "cell_type": "markdown",
      "source": [
        "##Accident distribution by hours of the day"
      ],
      "metadata": {
        "id": "FcTTP7eytT7_"
      }
    },
    {
      "cell_type": "code",
      "source": [
        "sns.distplot(clean_acc_df['Decimal_Time'], hist = True, kde = True)\n",
        "plt.show()"
      ],
      "metadata": {
        "colab": {
          "base_uri": "https://localhost:8080/",
          "height": 280
        },
        "id": "Ib44fQbqFd2J",
        "outputId": "85e6f15f-987a-47f1-a81a-25f16f2cd681"
      },
      "execution_count": null,
      "outputs": [
        {
          "output_type": "display_data",
          "data": {
            "text/plain": [
              "<Figure size 432x288 with 1 Axes>"
            ],
            "image/png": "[encoded data removed]"
          },
          "metadata": {
            "needs_background": "light"
          }
        }
      ]
    },
    {
      "cell_type": "code",
      "source": [
        "# Evening is defined as 16:01 to 20:00\n",
        "#Quantify (in terms of standard deviations) just how much more likely accidents are \n",
        "# at evening rush hours compared to the rest of the hours of the day\n",
        "#df[\"Code\"]= np.where(df[\"Total Time\"]<6.00,1,df[\"Code\"])\n",
        "rush_hours = clean_acc_df['Decimal_Time'].between(16.01,20.00)\n",
        "\n",
        "\n",
        "def rest_of_hours(times):\n",
        "    if times >16.00 and times <20.01:\n",
        "        return False\n",
        "    else:\n",
        "        return True\n",
        "    \n",
        "\n",
        "\n",
        "#rest_of_the_day_timeset = np.where((clean_acc_df['Decimal_Time']<16.01) or (clean_acc_df['Decimal_Time']>20.00))\n",
        "\n",
        "#clean_acc_df[rest_of_the_day_timeset]"
      ],
      "metadata": {
        "id": "wpA5WhBPpU2t"
      },
      "execution_count": null,
      "outputs": []
    },
    {
      "cell_type": "code",
      "source": [
        "rest_of_hour= clean_acc_df.Decimal_Time.apply(rest_of_hours)\n",
        "#clean_acc_df.Decimal_Time.interpolate(inplace=True)\n",
        "\n",
        "std_eve_hrs = clean_acc_df[rush_hours]['Decimal_Time'].std()        # evening hour standard deviation\n",
        "std_rest_of_the_day = clean_acc_df[rest_of_hour]['Decimal_Time'].std()  #rest of hours\n",
        "print('Evening Standard Deviation: ', std_eve_hrs)\n",
        "print('Rest of the hours Standard Deviation: ',std_rest_of_the_day)"
      ],
      "metadata": {
        "id": "f4CAkwD-qSgs",
        "colab": {
          "base_uri": "https://localhost:8080/"
        },
        "outputId": "80f2db7b-cc30-4b77-e2b1-5da58005f386"
      },
      "execution_count": null,
      "outputs": [
        {
          "output_type": "stream",
          "name": "stdout",
          "text": [
            "Evening Standard Deviation:  1.0909968664396026\n",
            "Rest of the hours Standard Deviation:  5.412794983841141\n"
          ]
        }
      ]
    },
    {
      "cell_type": "markdown",
      "source": [
        "##  Accident distribution by day of the week\n",
        "\n",
        "---\n",
        "\n"
      ],
      "metadata": {
        "id": "8rEPlf2xvAdX"
      }
    },
    {
      "cell_type": "code",
      "source": [
        "#plt.figure(figsize = (10,10))\n",
        "\n",
        "sns.histplot(clean_acc_df['Day_of_Week'])\n",
        "\n",
        "plt.show()"
      ],
      "metadata": {
        "id": "gwhP-yfMtRp2",
        "colab": {
          "base_uri": "https://localhost:8080/",
          "height": 284
        },
        "outputId": "3b2e9ddd-9cc6-4eb1-ee69-454bbce2bca5"
      },
      "execution_count": null,
      "outputs": [
        {
          "output_type": "display_data",
          "data": {
            "text/plain": [
              "<Figure size 432x288 with 1 Axes>"
            ],
            "image/png": "[encoded data removed]"
          },
          "metadata": {
            "needs_background": "light"
          }
        }
      ]
    },
    {
      "cell_type": "markdown",
      "source": [
        "#(b) For motorbikes, are there significant hours of the day, and days of the week, on which accidents occur?\n",
        "\n",
        "Code for Motorbikes\n",
        "- 2 for Motorcycle 50cc and under\n",
        "- 3 for Motorcycle 125cc and under\n",
        "- 4 for Motorcycle over 125cc and up to 500cc\n",
        "- 5 for Motorcycle over 500cc\n",
        "- 23 for Electric motorcycle\n",
        "- 97 for Motorcycle - unknown cc"
      ],
      "metadata": {
        "id": "IJ4e9DLb4kpZ"
      }
    },
    {
      "cell_type": "markdown",
      "source": [
        "##Motorbikes Accident distribution by hours of the day"
      ],
      "metadata": {
        "id": "GEDwxvEDSwOU"
      }
    },
    {
      "cell_type": "code",
      "source": [
        "motorbikes = veh_acc[(veh_acc[\"Vehicle_Type\"] == 2) |\n",
        "                (veh_acc[\"Vehicle_Type\"] == 3) |\n",
        "                (veh_acc[\"Vehicle_Type\"] == 4) |\n",
        "                (veh_acc[\"Vehicle_Type\"] == 5) |\n",
        "                (veh_acc[\"Vehicle_Type\"] == 23)|\n",
        "                (veh_acc[\"Vehicle_Type\"] == 97)]\n",
        "\n",
        "Decimal_Time = clean_acc_df[\"Decimal_Time\"]\n",
        "motorbikes[\"Decimal_Time\"] = Decimal_Time"
      ],
      "metadata": {
        "id": "qhcM8TApYlXh"
      },
      "execution_count": null,
      "outputs": []
    },
    {
      "cell_type": "code",
      "source": [
        "sns.distplot(motorbikes['Decimal_Time'], hist = True, kde = True, color = 'blue')\n",
        "plt.show()"
      ],
      "metadata": {
        "colab": {
          "base_uri": "https://localhost:8080/",
          "height": 280
        },
        "id": "0MAKNHfdlyNe",
        "outputId": "1fa3e515-7e3c-4e26-ff9f-ca7cbc067706"
      },
      "execution_count": null,
      "outputs": [
        {
          "output_type": "display_data",
          "data": {
            "text/plain": [
              "<Figure size 432x288 with 1 Axes>"
            ],
            "image/png": "[encoded data removed]"
          },
          "metadata": {
            "needs_background": "light"
          }
        }
      ]
    },
    {
      "cell_type": "code",
      "source": [
        "# Evening is defined as 16:01 to 20:00\n",
        "#Quantify (in terms of standard deviations) just how much more likely accidents are \n",
        "# at evening rush hours compared to the rest of the hours of the day\n",
        "#df[\"Code\"]= np.where(df[\"Total Time\"]<6.00,1,df[\"Code\"])\n",
        "rush_hours = motorbikes['Decimal_Time'].between(16.01,20.00)\n",
        "\n",
        "\n",
        "def rest_of_hours(time):\n",
        "    if time >16.00 and time <20.01:\n",
        "        return False\n",
        "    else:\n",
        "        return True\n",
        "    "
      ],
      "metadata": {
        "id": "iEt8ZSJrln7x"
      },
      "execution_count": null,
      "outputs": []
    },
    {
      "cell_type": "code",
      "source": [
        "rest_of_hour= motorbikes.Decimal_Time.apply(rest_of_hours)\n",
        "#clean_acc_df.Decimal_Time.interpolate(inplace=True)\n",
        "\n",
        "std_eve_hrs = motorbikes[rush_hours]['Decimal_Time'].std()        # evening hour standard deviation\n",
        "std_rest_of_the_day = motorbikes[rest_of_hour]['Decimal_Time'].std()  #rest of hours\n",
        "print('Evening Standard Deviation: ', std_eve_hrs)\n",
        "print('Rest of the hours Standard Deviation: ',std_rest_of_the_day)"
      ],
      "metadata": {
        "colab": {
          "base_uri": "https://localhost:8080/"
        },
        "id": "JJB9g8Q4gfMF",
        "outputId": "585f7a12-132b-477d-a748-a3c9e9c94542"
      },
      "execution_count": null,
      "outputs": [
        {
          "output_type": "stream",
          "name": "stdout",
          "text": [
            "Evening Standard Deviation:  1.081515191322552\n",
            "Rest of the hours Standard Deviation:  5.469258983131101\n"
          ]
        }
      ]
    },
    {
      "cell_type": "markdown",
      "source": [
        "##  Motorbikes Accident distribution by day of the week"
      ],
      "metadata": {
        "id": "WNsv5BmMSe2Z"
      }
    },
    {
      "cell_type": "code",
      "source": [
        "sns.histplot(motorbikes['Day_of_Week'])\n",
        "\n",
        "plt.show()"
      ],
      "metadata": {
        "colab": {
          "base_uri": "https://localhost:8080/",
          "height": 280
        },
        "id": "dR1SqXd1WSD3",
        "outputId": "cd220d03-363c-4ebf-a846-e37b58d61288"
      },
      "execution_count": null,
      "outputs": [
        {
          "output_type": "display_data",
          "data": {
            "text/plain": [
              "<Figure size 432x288 with 1 Axes>"
            ],
            "image/png": "[encoded data removed]"
          },
          "metadata": {
            "needs_background": "light"
          }
        }
      ]
    },
    {
      "cell_type": "markdown",
      "source": [
        "#(c) For pedestrians involved in accidents, are there significant hours of the day, and days of the week, on which they are more likely to be involved?"
      ],
      "metadata": {
        "id": "cGrCA4v4YA2S"
      }
    },
    {
      "cell_type": "markdown",
      "source": [
        "#####Casualty class code\n",
        "\n",
        "\n",
        "\n",
        "*   Driver or Rider    1\n",
        "*   Passenger          2\n",
        "*   Pedestrian         3"
      ],
      "metadata": {
        "id": "qfpZhLKpnCWW"
      }
    },
    {
      "cell_type": "code",
      "source": [
        "ped_hour = acc_cas[acc_cas['Casualty_Class']==3]\n",
        "sns.distplot(ped_hour['Decimal_Time'], hist = True, kde = True)\n",
        "plt.show()"
      ],
      "metadata": {
        "id": "W0I_sfTBYAEl",
        "colab": {
          "base_uri": "https://localhost:8080/",
          "height": 280
        },
        "outputId": "5639a0f3-a7df-4832-cbf9-7e5517915697"
      },
      "execution_count": null,
      "outputs": [
        {
          "output_type": "display_data",
          "data": {
            "text/plain": [
              "<Figure size 432x288 with 1 Axes>"
            ],
            "image/png": "[encoded data removed]"
          },
          "metadata": {
            "needs_background": "light"
          }
        }
      ]
    },
    {
      "cell_type": "code",
      "source": [
        "# Evening is defined as 16:01 to 20:00\n",
        "#Quantify (in terms of standard deviations) just how much more likely accidents are \n",
        "# at evening rush hours compared to the rest of the hours of the day\n",
        "#df[\"Code\"]= np.where(df[\"Total Time\"]<6.00,1,df[\"Code\"])\n",
        "rush_hours = acc_cas['Decimal_Time'].between(16.01,20.00)\n",
        "\n",
        "\n",
        "def rest_of_hours(time):\n",
        "    if time >16.00 and time <20.01:\n",
        "        return False\n",
        "    else:\n",
        "        return True"
      ],
      "metadata": {
        "id": "DyGmHp7uxzCB"
      },
      "execution_count": null,
      "outputs": []
    },
    {
      "cell_type": "code",
      "source": [
        "rest_of_hour= acc_cas.Decimal_Time.apply(rest_of_hours)\n",
        "#clean_acc_df.Decimal_Time.interpolate(inplace=True)\n",
        "\n",
        "std_eve_hrs = acc_cas[rush_hours]['Decimal_Time'].std()        # evening hour standard deviation\n",
        "std_rest_of_the_day = acc_cas[rest_of_hour]['Decimal_Time'].std()  #rest of hours\n",
        "print('Evening Standard Deviation: ', std_eve_hrs)\n",
        "print('Rest of the hours Standard Deviation: ',std_rest_of_the_day)"
      ],
      "metadata": {
        "colab": {
          "base_uri": "https://localhost:8080/"
        },
        "id": "j3nCnuEiyDKD",
        "outputId": "cb4644db-bc02-4613-c1bf-6e9c7a7c7c78"
      },
      "execution_count": null,
      "outputs": [
        {
          "output_type": "stream",
          "name": "stdout",
          "text": [
            "Evening Standard Deviation:  1.0962151445867876\n",
            "Rest of the hours Standard Deviation:  5.485751548501111\n"
          ]
        }
      ]
    },
    {
      "cell_type": "code",
      "source": [
        "ped_day = acc_cas[acc_cas['Casualty_Class']==3]\n",
        "sns.histplot(ped_day['Day_of_Week'])\n",
        "plt.show()"
      ],
      "metadata": {
        "colab": {
          "base_uri": "https://localhost:8080/",
          "height": 280
        },
        "id": "jkp-goFDVSJL",
        "outputId": "29bff77f-1673-49fc-915c-505410fc4c56"
      },
      "execution_count": null,
      "outputs": [
        {
          "output_type": "display_data",
          "data": {
            "text/plain": [
              "<Figure size 432x288 with 1 Axes>"
            ],
            "image/png": "[encoded data removed]"
          },
          "metadata": {
            "needs_background": "light"
          }
        }
      ]
    },
    {
      "cell_type": "code",
      "source": [],
      "metadata": {
        "id": "KVVRqcI89nSK"
      },
      "execution_count": null,
      "outputs": []
    },
    {
      "cell_type": "markdown",
      "source": [
        "#(d) What impact if any does daylight savings have on road traffic accidents in the week after it starts and stops?\n",
        "\n",
        "- Daylight saving start on 31 March in 2019 and stopped on 27 of October."
      ],
      "metadata": {
        "id": "RAi1HgYz1C3J"
      }
    },
    {
      "cell_type": "code",
      "source": [
        "def daylight(x):\n",
        "    if x == 1:\n",
        "        return \"Daylight Start\"\n",
        "    else:\n",
        "        return \"Daylight Stop\"\n",
        "    \n",
        "acc_df[\"daylight\"] = acc_df[\"Light_Conditions\"].apply(daylight)\n",
        "\n",
        "\n",
        "\n",
        "\n",
        "daylight_week = acc_df.groupby([\"Day_of_Week\", \"daylight\"])[\"daylight\"].agg([\"count\"]).reset_index()\n",
        "daylight_week"
      ],
      "metadata": {
        "id": "1RWpcgIv1CgR",
        "colab": {
          "base_uri": "https://localhost:8080/",
          "height": 487
        },
        "outputId": "57708a79-67fa-4190-fa9f-5ca2c73f2d35"
      },
      "execution_count": null,
      "outputs": [
        {
          "output_type": "execute_result",
          "data": {
            "text/plain": [
              "    Day_of_Week        daylight  count\n",
              "0             1  Daylight Start   8494\n",
              "1             1   Daylight Stop   4441\n",
              "2             2  Daylight Start  12276\n",
              "3             2   Daylight Stop   4367\n",
              "4             3  Daylight Start  12965\n",
              "5             3   Daylight Stop   4633\n",
              "6             4  Daylight Start  13111\n",
              "7             4   Daylight Stop   4664\n",
              "8             5  Daylight Start  13025\n",
              "9             5   Daylight Stop   4948\n",
              "10            6  Daylight Start  13438\n",
              "11            6   Daylight Stop   5618\n",
              "12            7  Daylight Start  10203\n",
              "13            7   Daylight Stop   5353"
            ],
            "text/html": [
              "\n",
              "  <div id=\"df-ebf92b0d-ddc3-466f-8136-b0bdafdcb3f4\">\n",
              "    <div class=\"colab-df-container\">\n",
              "      <div>\n",
              "<style scoped>\n",
              "    .dataframe tbody tr th:only-of-type {\n",
              "        vertical-align: middle;\n",
              "    }\n",
              "\n",
              "    .dataframe tbody tr th {\n",
              "        vertical-align: top;\n",
              "    }\n",
              "\n",
              "    .dataframe thead th {\n",
              "        text-align: right;\n",
              "    }\n",
              "</style>\n",
              "<table border=\"1\" class=\"dataframe\">\n",
              "  <thead>\n",
              "    <tr style=\"text-align: right;\">\n",
              "      <th></th>\n",
              "      <th>Day_of_Week</th>\n",
              "      <th>daylight</th>\n",
              "      <th>count</th>\n",
              "    </tr>\n",
              "  </thead>\n",
              "  <tbody>\n",
              "    <tr>\n",
              "      <th>0</th>\n",
              "      <td>1</td>\n",
              "      <td>Daylight Start</td>\n",
              "      <td>8494</td>\n",
              "    </tr>\n",
              "    <tr>\n",
              "      <th>1</th>\n",
              "      <td>1</td>\n",
              "      <td>Daylight Stop</td>\n",
              "      <td>4441</td>\n",
              "    </tr>\n",
              "    <tr>\n",
              "      <th>2</th>\n",
              "      <td>2</td>\n",
              "      <td>Daylight Start</td>\n",
              "      <td>12276</td>\n",
              "    </tr>\n",
              "    <tr>\n",
              "      <th>3</th>\n",
              "      <td>2</td>\n",
              "      <td>Daylight Stop</td>\n",
              "      <td>4367</td>\n",
              "    </tr>\n",
              "    <tr>\n",
              "      <th>4</th>\n",
              "      <td>3</td>\n",
              "      <td>Daylight Start</td>\n",
              "      <td>12965</td>\n",
              "    </tr>\n",
              "    <tr>\n",
              "      <th>5</th>\n",
              "      <td>3</td>\n",
              "      <td>Daylight Stop</td>\n",
              "      <td>4633</td>\n",
              "    </tr>\n",
              "    <tr>\n",
              "      <th>6</th>\n",
              "      <td>4</td>\n",
              "      <td>Daylight Start</td>\n",
              "      <td>13111</td>\n",
              "    </tr>\n",
              "    <tr>\n",
              "      <th>7</th>\n",
              "      <td>4</td>\n",
              "      <td>Daylight Stop</td>\n",
              "      <td>4664</td>\n",
              "    </tr>\n",
              "    <tr>\n",
              "      <th>8</th>\n",
              "      <td>5</td>\n",
              "      <td>Daylight Start</td>\n",
              "      <td>13025</td>\n",
              "    </tr>\n",
              "    <tr>\n",
              "      <th>9</th>\n",
              "      <td>5</td>\n",
              "      <td>Daylight Stop</td>\n",
              "      <td>4948</td>\n",
              "    </tr>\n",
              "    <tr>\n",
              "      <th>10</th>\n",
              "      <td>6</td>\n",
              "      <td>Daylight Start</td>\n",
              "      <td>13438</td>\n",
              "    </tr>\n",
              "    <tr>\n",
              "      <th>11</th>\n",
              "      <td>6</td>\n",
              "      <td>Daylight Stop</td>\n",
              "      <td>5618</td>\n",
              "    </tr>\n",
              "    <tr>\n",
              "      <th>12</th>\n",
              "      <td>7</td>\n",
              "      <td>Daylight Start</td>\n",
              "      <td>10203</td>\n",
              "    </tr>\n",
              "    <tr>\n",
              "      <th>13</th>\n",
              "      <td>7</td>\n",
              "      <td>Daylight Stop</td>\n",
              "      <td>5353</td>\n",
              "    </tr>\n",
              "  </tbody>\n",
              "</table>\n",
              "</div>\n",
              "      <button class=\"colab-df-convert\" onclick=\"convertToInteractive('df-ebf92b0d-ddc3-466f-8136-b0bdafdcb3f4')\"\n",
              "              title=\"Convert this dataframe to an interactive table.\"\n",
              "              style=\"display:none;\">\n",
              "        \n",
              "  <svg xmlns=\"http://www.w3.org/2000/svg\" height=\"24px\"viewBox=\"0 0 24 24\"\n",
              "       width=\"24px\">\n",
              "    <path d=\"M0 0h24v24H0V0z\" fill=\"none\"/>\n",
              "    <path d=\"M18.56 5.44l.94 2.06.94-2.06 2.06-.94-2.06-.94-.94-2.06-.94 2.06-2.06.94zm-11 1L8.5 8.5l.94-2.06 2.06-.94-2.06-.94L8.5 2.5l-.94 2.06-2.06.94zm10 10l.94 2.06.94-2.06 2.06-.94-2.06-.94-.94-2.06-.94 2.06-2.06.94z\"/><path d=\"M17.41 7.96l-1.37-1.37c-.4-.4-.92-.59-1.43-.59-.52 0-1.04.2-1.43.59L10.3 9.45l-7.72 7.72c-.78.78-.78 2.05 0 2.83L4 21.41c.39.39.9.59 1.41.59.51 0 1.02-.2 1.41-.59l7.78-7.78 2.81-2.81c.8-.78.8-2.07 0-2.86zM5.41 20L4 18.59l7.72-7.72 1.47 1.35L5.41 20z\"/>\n",
              "  </svg>\n",
              "      </button>\n",
              "      \n",
              "  <style>\n",
              "    .colab-df-container {\n",
              "      display:flex;\n",
              "      flex-wrap:wrap;\n",
              "      gap: 12px;\n",
              "    }\n",
              "\n",
              "    .colab-df-convert {\n",
              "      background-color: #E8F0FE;\n",
              "      border: none;\n",
              "      border-radius: 50%;\n",
              "      cursor: pointer;\n",
              "      display: none;\n",
              "      fill: #1967D2;\n",
              "      height: 32px;\n",
              "      padding: 0 0 0 0;\n",
              "      width: 32px;\n",
              "    }\n",
              "\n",
              "    .colab-df-convert:hover {\n",
              "      background-color: #E2EBFA;\n",
              "      box-shadow: 0px 1px 2px rgba(60, 64, 67, 0.3), 0px 1px 3px 1px rgba(60, 64, 67, 0.15);\n",
              "      fill: #174EA6;\n",
              "    }\n",
              "\n",
              "    [theme=dark] .colab-df-convert {\n",
              "      background-color: #3B4455;\n",
              "      fill: #D2E3FC;\n",
              "    }\n",
              "\n",
              "    [theme=dark] .colab-df-convert:hover {\n",
              "      background-color: #434B5C;\n",
              "      box-shadow: 0px 1px 3px 1px rgba(0, 0, 0, 0.15);\n",
              "      filter: drop-shadow(0px 1px 2px rgba(0, 0, 0, 0.3));\n",
              "      fill: #FFFFFF;\n",
              "    }\n",
              "  </style>\n",
              "\n",
              "      <script>\n",
              "        const buttonEl =\n",
              "          document.querySelector('#df-ebf92b0d-ddc3-466f-8136-b0bdafdcb3f4 button.colab-df-convert');\n",
              "        buttonEl.style.display =\n",
              "          google.colab.kernel.accessAllowed ? 'block' : 'none';\n",
              "\n",
              "        async function convertToInteractive(key) {\n",
              "          const element = document.querySelector('#df-ebf92b0d-ddc3-466f-8136-b0bdafdcb3f4');\n",
              "          const dataTable =\n",
              "            await google.colab.kernel.invokeFunction('convertToInteractive',\n",
              "                                                     [key], {});\n",
              "          if (!dataTable) return;\n",
              "\n",
              "          const docLinkHtml = 'Like what you see? Visit the ' +\n",
              "            '<a target=\"_blank\" href=https://colab.research.google.com/notebooks/data_table.ipynb>data table notebook</a>'\n",
              "            + ' to learn more about interactive tables.';\n",
              "          element.innerHTML = '';\n",
              "          dataTable['output_type'] = 'display_data';\n",
              "          await google.colab.output.renderOutput(dataTable, element);\n",
              "          const docLink = document.createElement('div');\n",
              "          docLink.innerHTML = docLinkHtml;\n",
              "          element.appendChild(docLink);\n",
              "        }\n",
              "      </script>\n",
              "    </div>\n",
              "  </div>\n",
              "  "
            ]
          },
          "metadata": {},
          "execution_count": 135
        }
      ]
    },
    {
      "cell_type": "code",
      "source": [
        "plt.figure(figsize = (18, 7))\n",
        "sns.barplot(x = \"Day_of_Week\", y = \"count\", hue = \"daylight\", data = daylight_week, palette = \"magma_r\")\n",
        "plt.title(\"Road Accidents by Daylight in Day of Week\", size = 20)\n",
        "plt.xlabel(\"Day of Week\", size = 20)\n",
        "plt.ylabel(\"Road Accidents\", size = 20)\n",
        "plt.xticks(size = 15)\n",
        "plt.yticks(size = 15)\n",
        "plt.show()"
      ],
      "metadata": {
        "colab": {
          "base_uri": "https://localhost:8080/",
          "height": 476
        },
        "id": "tRjjaY3F79hN",
        "outputId": "83786b52-4188-4624-d0ec-84cd67a3e2ac"
      },
      "execution_count": null,
      "outputs": [
        {
          "output_type": "display_data",
          "data": {
            "text/plain": [
              "<Figure size 1296x504 with 1 Axes>"
            ],
            "image/png": "[encoded data removed]"
          },
          "metadata": {
            "needs_background": "light"
          }
        }
      ]
    },
    {
      "cell_type": "markdown",
      "source": [
        "#(e)What impact, if any, does sunrise and sunset times have on road traffic accidents?"
      ],
      "metadata": {
        "id": "U9NYtLhXUL_r"
      }
    },
    {
      "cell_type": "markdown",
      "source": [
        "#(f) Are there particular types of vehicles that are more frequently involved in road traffic accidents?"
      ],
      "metadata": {
        "id": "Uw1MvKLuMNFl"
      }
    },
    {
      "cell_type": "markdown",
      "source": [
        "####Accident distribution on vehicle\n",
        "- Code 9 represent car\n",
        "\n"
      ],
      "metadata": {
        "id": "zrZqs--mUi5H"
      }
    },
    {
      "cell_type": "code",
      "source": [
        "sns.countplot( x=veh_df['Vehicle_Type'], color='#0bcad0')"
      ],
      "metadata": {
        "colab": {
          "base_uri": "https://localhost:8080/",
          "height": 301
        },
        "id": "nZ5uAlNeT3qk",
        "outputId": "efdb28e7-6059-46ed-e718-1dc88bd7a68b"
      },
      "execution_count": null,
      "outputs": [
        {
          "output_type": "execute_result",
          "data": {
            "text/plain": [
              "<matplotlib.axes._subplots.AxesSubplot at 0x7f08e0d34f50>"
            ]
          },
          "metadata": {},
          "execution_count": 137
        },
        {
          "output_type": "display_data",
          "data": {
            "text/plain": [
              "<Figure size 432x288 with 1 Axes>"
            ],
            "image/png": "[encoded data removed]"
          },
          "metadata": {
            "needs_background": "light"
          }
        }
      ]
    },
    {
      "cell_type": "code",
      "source": [
        "veh_age = veh_df[\"Age_of_Vehicle\"].value_counts().to_frame().reset_index()\n",
        "veh_age.columns = [\"Age of Vehicles\", \"Accidents\"]\n",
        "veh_age = veh_age.head(10)\n",
        "veh_age = veh_age.sort_values(by = \"Age of Vehicles\")\n",
        "#veh_age\n",
        "\n",
        "\n",
        "\n",
        "sns.barplot(x = \"Age of Vehicles\", y = \"Accidents\", data = veh_age,color='#0bcad0')\n"
      ],
      "metadata": {
        "colab": {
          "base_uri": "https://localhost:8080/",
          "height": 297
        },
        "id": "QrUwTCXBcqYo",
        "outputId": "a5b6c325-ef5b-4048-a8aa-37f1d18784dd"
      },
      "execution_count": null,
      "outputs": [
        {
          "output_type": "execute_result",
          "data": {
            "text/plain": [
              "<matplotlib.axes._subplots.AxesSubplot at 0x7f08e0be5ed0>"
            ]
          },
          "metadata": {},
          "execution_count": 138
        },
        {
          "output_type": "display_data",
          "data": {
            "text/plain": [
              "<Figure size 432x288 with 1 Axes>"
            ],
            "image/png": "[encoded data removed]"
          },
          "metadata": {
            "needs_background": "light"
          }
        }
      ]
    },
    {
      "cell_type": "markdown",
      "source": [
        "####Accident distribution by vehicle propulsion\n",
        "\n",
        "- Propulsion code 1 is for petrol and 2 is for heavy oil"
      ],
      "metadata": {
        "id": "2TAcEJqChcn2"
      }
    },
    {
      "cell_type": "code",
      "source": [
        "sns.countplot( x=veh_df['Propulsion_Code'], color='#0bcad0')"
      ],
      "metadata": {
        "colab": {
          "base_uri": "https://localhost:8080/",
          "height": 298
        },
        "id": "zGmphXgxf7bf",
        "outputId": "543c2287-8871-4939-f4ae-8cbb3d0e4942"
      },
      "execution_count": null,
      "outputs": [
        {
          "output_type": "execute_result",
          "data": {
            "text/plain": [
              "<matplotlib.axes._subplots.AxesSubplot at 0x7f08e0b8c610>"
            ]
          },
          "metadata": {},
          "execution_count": 139
        },
        {
          "output_type": "display_data",
          "data": {
            "text/plain": [
              "<Figure size 432x288 with 1 Axes>"
            ],
            "image/png": "[encoded data removed]"
          },
          "metadata": {
            "needs_background": "light"
          }
        }
      ]
    },
    {
      "cell_type": "markdown",
      "source": [
        "####Accident distribution by 'was the car left drive'\n",
        "- Code 1 means No\n",
        "- Code 2 means Yes"
      ],
      "metadata": {
        "id": "_lMhyWA1kwpD"
      }
    },
    {
      "cell_type": "code",
      "source": [
        "sns.histplot( x=veh_df['Was_Vehicle_Left_Hand_Drive?'])"
      ],
      "metadata": {
        "colab": {
          "base_uri": "https://localhost:8080/",
          "height": 298
        },
        "id": "avvVFEeih4XW",
        "outputId": "c4a7392d-6663-493f-9a26-19f7f205aaa4"
      },
      "execution_count": null,
      "outputs": [
        {
          "output_type": "execute_result",
          "data": {
            "text/plain": [
              "<matplotlib.axes._subplots.AxesSubplot at 0x7f08e0aa8d50>"
            ]
          },
          "metadata": {},
          "execution_count": 140
        },
        {
          "output_type": "display_data",
          "data": {
            "text/plain": [
              "<Figure size 432x288 with 1 Axes>"
            ],
            "image/png": "[encoded data removed]"
          },
          "metadata": {
            "needs_background": "light"
          }
        }
      ]
    },
    {
      "cell_type": "markdown",
      "source": [
        "#(g)Are there particular conditions (weather, geographic location, situations) that generate more road traffic accidents?"
      ],
      "metadata": {
        "id": "H3awwZmmmBhT"
      }
    },
    {
      "cell_type": "markdown",
      "source": [
        "####Accident distribution by weather condition\n",
        "\n",
        "- Code 1 means fine no high wind\n",
        "- Code 2 means Raining no high wind"
      ],
      "metadata": {
        "id": "NfSXc9ekoDxR"
      }
    },
    {
      "cell_type": "code",
      "source": [
        "sns.histplot(x=acc_df['Weather_Conditions'])"
      ],
      "metadata": {
        "colab": {
          "base_uri": "https://localhost:8080/",
          "height": 298
        },
        "id": "9WQrq08dlJq8",
        "outputId": "bee15d5f-8b9e-4fff-a680-6bcdc56cb7c3"
      },
      "execution_count": null,
      "outputs": [
        {
          "output_type": "execute_result",
          "data": {
            "text/plain": [
              "<matplotlib.axes._subplots.AxesSubplot at 0x7f08e0a4af10>"
            ]
          },
          "metadata": {},
          "execution_count": 141
        },
        {
          "output_type": "display_data",
          "data": {
            "text/plain": [
              "<Figure size 432x288 with 1 Axes>"
            ],
            "image/png": "[encoded data removed]"
          },
          "metadata": {
            "needs_background": "light"
          }
        }
      ]
    },
    {
      "cell_type": "markdown",
      "source": [
        "####Accident distribution by Local Authority District(geographical Location)"
      ],
      "metadata": {
        "id": "JYcZPCmCqY85"
      }
    },
    {
      "cell_type": "markdown",
      "source": [
        "- 300 is Birmingham\n",
        "- 204 is Leads\n",
        "- 1 is Westminster"
      ],
      "metadata": {
        "id": "Zg_I1oIdwsCj"
      }
    },
    {
      "cell_type": "code",
      "source": [
        "geo_loc = acc_df[\"Local_Authority_(District)\"].value_counts().to_frame().reset_index()\n",
        "geo_loc.columns = [\"District\", \"Road Accidents\"]\n",
        "geo_loc=geo_loc.head(15)\n",
        "sns.barplot(x = \"District\", y = \"Road Accidents\", data = geo_loc, palette = \"icefire\", color='#0bcad0')"
      ],
      "metadata": {
        "colab": {
          "base_uri": "https://localhost:8080/",
          "height": 297
        },
        "id": "g3YOd_qClJmr",
        "outputId": "07e9fd5e-38d0-43e9-b128-f2699aa8de4c"
      },
      "execution_count": null,
      "outputs": [
        {
          "output_type": "execute_result",
          "data": {
            "text/plain": [
              "<matplotlib.axes._subplots.AxesSubplot at 0x7f08e092a4d0>"
            ]
          },
          "metadata": {},
          "execution_count": 142
        },
        {
          "output_type": "display_data",
          "data": {
            "text/plain": [
              "<Figure size 432x288 with 1 Axes>"
            ],
            "image/png": "[encoded data removed]"
          },
          "metadata": {
            "needs_background": "light"
          }
        }
      ]
    },
    {
      "cell_type": "markdown",
      "source": [
        "####where Accident occurs arround uk using geopandas"
      ],
      "metadata": {
        "id": "1nCiRwlQjvBc"
      }
    },
    {
      "cell_type": "code",
      "source": [
        "points = [Point(p) for p in zip(acc_df['Longitude'], acc_df['Latitude'])]\n",
        "uk_gdf = GeoDataFrame(acc_df, geometry=points)\n",
        "world = gpd.read_file(gpd.datasets.get_path('naturalearth_cities'))\n",
        "uk_gdf.plot(ax=world[world.name=='United Kingdom'].plot(figsize=(10, 10)), marker='*', color='red', markersize=5)"
      ],
      "metadata": {
        "colab": {
          "base_uri": "https://localhost:8080/",
          "height": 610
        },
        "id": "A-RzdTKe29AK",
        "outputId": "c6f2f8dc-85d3-4573-d64b-4eda9ebf9af1"
      },
      "execution_count": null,
      "outputs": [
        {
          "output_type": "execute_result",
          "data": {
            "text/plain": [
              "<matplotlib.axes._subplots.AxesSubplot at 0x7f08df20dfd0>"
            ]
          },
          "metadata": {},
          "execution_count": 143
        },
        {
          "output_type": "display_data",
          "data": {
            "text/plain": [
              "<Figure size 720x720 with 1 Axes>"
            ],
            "image/png": "[encoded data removed]"
          },
          "metadata": {
            "needs_background": "light"
          }
        }
      ]
    },
    {
      "cell_type": "code",
      "source": [
        "acc_df['Latitude'].unique()"
      ],
      "metadata": {
        "colab": {
          "base_uri": "https://localhost:8080/"
        },
        "id": "xJ7v1OTEmoGO",
        "outputId": "19de9a04-cf35-4ec7-ef14-91184c944fdb"
      },
      "execution_count": null,
      "outputs": [
        {
          "output_type": "execute_result",
          "data": {
            "text/plain": [
              "array([51.508057, 51.436208, 51.526795, ..., 54.991685, 55.148292,\n",
              "       55.357237])"
            ]
          },
          "metadata": {},
          "execution_count": 144
        }
      ]
    },
    {
      "cell_type": "markdown",
      "source": [
        "####where Accident occurs arround uk using seaborn"
      ],
      "metadata": {
        "id": "lTipeKu2kHNo"
      }
    },
    {
      "cell_type": "code",
      "source": [
        "#fig, ax = plt.subplots(figsize=(10,5))\n",
        "sns.scatterplot(x = 'Longitude',y = 'Latitude',data = acc_df, hue = 'Accident_Severity',palette=['green','blue','red']).set_title('Accidents throughout the United Kingdom')"
      ],
      "metadata": {
        "colab": {
          "base_uri": "https://localhost:8080/",
          "height": 313
        },
        "id": "a0qTTflpjpLx",
        "outputId": "97dd59b0-400d-49b9-be6f-361de5813174"
      },
      "execution_count": null,
      "outputs": [
        {
          "output_type": "execute_result",
          "data": {
            "text/plain": [
              "Text(0.5, 1.0, 'Accidents throughout the United Kingdom')"
            ]
          },
          "metadata": {},
          "execution_count": 145
        },
        {
          "output_type": "display_data",
          "data": {
            "text/plain": [
              "<Figure size 432x288 with 1 Axes>"
            ],
            "image/png": "[encoded data removed]"
          },
          "metadata": {
            "needs_background": "light"
          }
        }
      ]
    },
    {
      "cell_type": "markdown",
      "source": [
        "##Situation around Old Trafford "
      ],
      "metadata": {
        "id": "pipJTjUD_6V1"
      }
    },
    {
      "cell_type": "code",
      "source": [
        "#sundays = clean_acc_df.loc[df['Day_of_Week']==1]\n",
        "#Manchester_Area = clean_acc_df.loc[clean_acc_df['Police_Force']==6]\n",
        "Man_Sun = clean_acc_df.loc[(clean_acc_df['Police_Force']==6) & (clean_acc_df['Day_of_Week']==1)]\n",
        "Manchester_Sunday = Man_Sun[\"Date\"].value_counts().sort_index().to_frame().reset_index()\n",
        "Manchester_Sunday.columns = [\"Date\", \"Accidents\"]"
      ],
      "metadata": {
        "id": "WcBPhEDw287C"
      },
      "execution_count": null,
      "outputs": []
    },
    {
      "cell_type": "code",
      "source": [
        "#sns.set_style(\"whitegrid\")\n",
        "plt.figure(figsize = (10, 7))\n",
        "ax = sns.barplot(x = \"Date\", y = \"Accidents\", data = Manchester_Sunday, color='#0bcad0')\n",
        "plt.title(\"Road Accidents on Sundays in Manchester\")\n",
        "plt.xlabel(\"Date\")\n",
        "plt.ylabel(\"Accidents\")\n",
        "ax.set_xticklabels(ax.get_xticklabels(),rotation = 90)\n",
        "plt.show()"
      ],
      "metadata": {
        "colab": {
          "base_uri": "https://localhost:8080/",
          "height": 505
        },
        "id": "AebIgPcv4i7e",
        "outputId": "13726a1d-08c3-4270-e826-df68cbb074fc"
      },
      "execution_count": null,
      "outputs": [
        {
          "output_type": "display_data",
          "data": {
            "text/plain": [
              "<Figure size 720x504 with 1 Axes>"
            ],
            "image/png": "[encoded data removed]"
          },
          "metadata": {
            "needs_background": "light"
          }
        }
      ]
    },
    {
      "cell_type": "code",
      "source": [
        "import folium\n",
        "import geopy.distance\n",
        "from geopy.distance import Distance\n",
        "from folium import plugins"
      ],
      "metadata": {
        "id": "IkxBQG3z_L1e"
      },
      "execution_count": null,
      "outputs": []
    },
    {
      "cell_type": "code",
      "source": [
        "map = folium.Map(location=[53.463493, -2.292279], tiles=\"OpenStreetMap\", zoom_start=8)    # Using manchester longitude and latitude\n",
        "map.add_child(folium.Marker([53.463493, -2.292279],\n",
        "                           popup=\"Accident\",\n",
        "                           icon=folium.Icon(color=\"red\")\n",
        "                           \n",
        "                           ))"
      ],
      "metadata": {
        "colab": {
          "base_uri": "https://localhost:8080/",
          "height": 854
        },
        "id": "-3ZNtCDSANlh",
        "outputId": "d87aa61d-d057-475c-99f8-082f17da7cc4"
      },
      "execution_count": null,
      "outputs": [
        {
          "output_type": "execute_result",
          "data": {
            "text/plain": [
              "<folium.folium.Map at 0x7f08debf6f10>"
            ],
            "text/html": [
              "<div style=\"width:100%;\"><div style=\"position:relative;width:100%;height:0;padding-bottom:60%;\"><span style=\"color:#565656\">Make this Notebook Trusted to load map: File -> Trust Notebook</span><iframe srcdoc=\"&lt;!DOCTYPE html&gt;\n",
              "&lt;head&gt;    \n",
              "    &lt;meta http-equiv=&quot;content-type&quot; content=&quot;text/html; charset=UTF-8&quot; /&gt;\n",
              "    &lt;script&gt;L_PREFER_CANVAS=false; L_NO_TOUCH=false; L_DISABLE_3D=false;&lt;/script&gt;\n",
              "    &lt;script src=&quot;https://cdn.jsdelivr.net/npm/leaflet@1.4.0/dist/leaflet.js&quot;&gt;&lt;/script&gt;\n",
              "    &lt;script src=&quot;https://code.jquery.com/jquery-1.12.4.min.js&quot;&gt;&lt;/script&gt;\n",
              "    &lt;script src=&quot;https://maxcdn.bootstrapcdn.com/bootstrap/3.2.0/js/bootstrap.min.js&quot;&gt;&lt;/script&gt;\n",
              "    &lt;script src=&quot;https://cdnjs.cloudflare.com/ajax/libs/Leaflet.awesome-markers/2.0.2/leaflet.awesome-markers.js&quot;&gt;&lt;/script&gt;\n",
              "    &lt;link rel=&quot;stylesheet&quot; href=&quot;https://cdn.jsdelivr.net/npm/leaflet@1.4.0/dist/leaflet.css&quot;/&gt;\n",
              "    &lt;link rel=&quot;stylesheet&quot; href=&quot;https://maxcdn.bootstrapcdn.com/bootstrap/3.2.0/css/bootstrap.min.css&quot;/&gt;\n",
              "    &lt;link rel=&quot;stylesheet&quot; href=&quot;https://maxcdn.bootstrapcdn.com/bootstrap/3.2.0/css/bootstrap-theme.min.css&quot;/&gt;\n",
              "    &lt;link rel=&quot;stylesheet&quot; href=&quot;https://maxcdn.bootstrapcdn.com/font-awesome/4.6.3/css/font-awesome.min.css&quot;/&gt;\n",
              "    &lt;link rel=&quot;stylesheet&quot; href=&quot;https://cdnjs.cloudflare.com/ajax/libs/Leaflet.awesome-markers/2.0.2/leaflet.awesome-markers.css&quot;/&gt;\n",
              "    &lt;link rel=&quot;stylesheet&quot; href=&quot;https://rawcdn.githack.com/python-visualization/folium/master/folium/templates/leaflet.awesome.rotate.css&quot;/&gt;\n",
              "    &lt;style&gt;html, body {width: 100%;height: 100%;margin: 0;padding: 0;}&lt;/style&gt;\n",
              "    &lt;style&gt;#map {position:absolute;top:0;bottom:0;right:0;left:0;}&lt;/style&gt;\n",
              "    \n",
              "    &lt;meta name=&quot;viewport&quot; content=&quot;width=device-width,\n",
              "        initial-scale=1.0, maximum-scale=1.0, user-scalable=no&quot; /&gt;\n",
              "    &lt;style&gt;#map_127faba55ac11fcb93e1aabddd24d0cc {\n",
              "        position: relative;\n",
              "        width: 100.0%;\n",
              "        height: 100.0%;\n",
              "        left: 0.0%;\n",
              "        top: 0.0%;\n",
              "        }\n",
              "    &lt;/style&gt;\n",
              "&lt;/head&gt;\n",
              "&lt;body&gt;    \n",
              "    \n",
              "    &lt;div class=&quot;folium-map&quot; id=&quot;map_127faba55ac11fcb93e1aabddd24d0cc&quot; &gt;&lt;/div&gt;\n",
              "&lt;/body&gt;\n",
              "&lt;script&gt;    \n",
              "    \n",
              "    \n",
              "        var bounds = null;\n",
              "    \n",
              "\n",
              "    var map_127faba55ac11fcb93e1aabddd24d0cc = L.map(\n",
              "        &#x27;map_127faba55ac11fcb93e1aabddd24d0cc&#x27;, {\n",
              "        center: [53.463493, -2.292279],\n",
              "        zoom: 8,\n",
              "        maxBounds: bounds,\n",
              "        layers: [],\n",
              "        worldCopyJump: false,\n",
              "        crs: L.CRS.EPSG3857,\n",
              "        zoomControl: true,\n",
              "        });\n",
              "\n",
              "\n",
              "    \n",
              "    var tile_layer_372c516a483f72b9789a7825a31f1b9c = L.tileLayer(\n",
              "        &#x27;https://{s}.tile.openstreetmap.org/{z}/{x}/{y}.png&#x27;,\n",
              "        {\n",
              "        &quot;attribution&quot;: null,\n",
              "        &quot;detectRetina&quot;: false,\n",
              "        &quot;maxNativeZoom&quot;: 18,\n",
              "        &quot;maxZoom&quot;: 18,\n",
              "        &quot;minZoom&quot;: 0,\n",
              "        &quot;noWrap&quot;: false,\n",
              "        &quot;opacity&quot;: 1,\n",
              "        &quot;subdomains&quot;: &quot;abc&quot;,\n",
              "        &quot;tms&quot;: false\n",
              "}).addTo(map_127faba55ac11fcb93e1aabddd24d0cc);\n",
              "    \n",
              "        var marker_7f9a66ea6d6d6b8e2fe68c64114bcb4d = L.marker(\n",
              "            [53.463493, -2.292279],\n",
              "            {\n",
              "                icon: new L.Icon.Default(),\n",
              "                }\n",
              "            ).addTo(map_127faba55ac11fcb93e1aabddd24d0cc);\n",
              "        \n",
              "    \n",
              "\n",
              "                var icon_c12e054b5da92b9bd81c006bb6b40cf1 = L.AwesomeMarkers.icon({\n",
              "                    icon: &#x27;info-sign&#x27;,\n",
              "                    iconColor: &#x27;white&#x27;,\n",
              "                    markerColor: &#x27;red&#x27;,\n",
              "                    prefix: &#x27;glyphicon&#x27;,\n",
              "                    extraClasses: &#x27;fa-rotate-0&#x27;\n",
              "                    });\n",
              "                marker_7f9a66ea6d6d6b8e2fe68c64114bcb4d.setIcon(icon_c12e054b5da92b9bd81c006bb6b40cf1);\n",
              "            \n",
              "    \n",
              "            var popup_67c26b412a628012faf039d8fb2761a8 = L.popup({maxWidth: &#x27;100%&#x27;\n",
              "            \n",
              "            });\n",
              "\n",
              "            \n",
              "                var html_1f63cb679ae88c9192c2f181486dc034 = $(`&lt;div id=&quot;html_1f63cb679ae88c9192c2f181486dc034&quot; style=&quot;width: 100.0%; height: 100.0%;&quot;&gt;Accident&lt;/div&gt;`)[0];\n",
              "                popup_67c26b412a628012faf039d8fb2761a8.setContent(html_1f63cb679ae88c9192c2f181486dc034);\n",
              "            \n",
              "\n",
              "            marker_7f9a66ea6d6d6b8e2fe68c64114bcb4d.bindPopup(popup_67c26b412a628012faf039d8fb2761a8)\n",
              "            ;\n",
              "\n",
              "            \n",
              "        \n",
              "&lt;/script&gt;\" style=\"position:absolute;width:100%;height:100%;left:0;top:0;border:none !important;\" allowfullscreen webkitallowfullscreen mozallowfullscreen></iframe></div></div>"
            ]
          },
          "metadata": {},
          "execution_count": 149
        }
      ]
    },
    {
      "cell_type": "code",
      "source": [
        "def geometric_distance(row):\n",
        "    if geopy.distance.distance((53.463493, -2.292279), (row['Longitude'], row['Latitude'])) <= 6:\n",
        "        return True\n",
        "    else:\n",
        "        return False"
      ],
      "metadata": {
        "id": "gQ837SSj_iNf"
      },
      "execution_count": null,
      "outputs": []
    },
    {
      "cell_type": "code",
      "source": [
        "radius = acc_df[[\"Longitude\",\"Latitude\"]].apply(geometric_distance, axis=1)\n",
        "acc_df['radius'] = clean_acc_df.apply(geometric_distance, axis=1)"
      ],
      "metadata": {
        "id": "7VlWs0Qa_cv9"
      },
      "execution_count": null,
      "outputs": []
    },
    {
      "cell_type": "markdown",
      "source": [
        "#(h) How does driver related variables affect the outcome (e.g., age of the driver, and the purpose of the journey)?"
      ],
      "metadata": {
        "id": "ztUuslAlMmyw"
      }
    },
    {
      "cell_type": "markdown",
      "source": [
        "####Accident distribution by band age of driver"
      ],
      "metadata": {
        "id": "uk3NZuPv07hZ"
      }
    },
    {
      "cell_type": "code",
      "source": [
        "sns.countplot(data=veh_df, x='Age_Band_of_Driver', color='#0bcad0')\n",
        "plt.show()"
      ],
      "metadata": {
        "colab": {
          "base_uri": "https://localhost:8080/",
          "height": 280
        },
        "id": "_L-Qo4ig03gX",
        "outputId": "e6fcc1e1-356b-4321-c589-7f22cc1cef06"
      },
      "execution_count": null,
      "outputs": [
        {
          "output_type": "display_data",
          "data": {
            "text/plain": [
              "<Figure size 432x288 with 1 Axes>"
            ],
            "image/png": "[encoded data removed]"
          },
          "metadata": {
            "needs_background": "light"
          }
        }
      ]
    },
    {
      "cell_type": "markdown",
      "source": [
        "####Accident distribution by sex of driver\n",
        "\n",
        "- 1  Male\n",
        "- 2 Female\n",
        "- Unknown"
      ],
      "metadata": {
        "id": "SQ21FWenNhdE"
      }
    },
    {
      "cell_type": "code",
      "source": [
        "sns.countplot(data=veh_df, x='Sex_of_Driver', color='#0bcad0')\n",
        "plt.show()"
      ],
      "metadata": {
        "id": "MX63wZv61dz6",
        "colab": {
          "base_uri": "https://localhost:8080/",
          "height": 282
        },
        "outputId": "4c42e2ff-5887-41bd-cf1e-3100cd06b6e3"
      },
      "execution_count": null,
      "outputs": [
        {
          "output_type": "display_data",
          "data": {
            "text/plain": [
              "<Figure size 432x288 with 1 Axes>"
            ],
            "image/png": "[encoded data removed]"
          },
          "metadata": {
            "needs_background": "light"
          }
        }
      ]
    },
    {
      "cell_type": "code",
      "source": [
        "sns.countplot(data=veh_df, x='Journey_Purpose_of_Driver', color='#0bcad0')\n",
        "plt.show()"
      ],
      "metadata": {
        "colab": {
          "base_uri": "https://localhost:8080/",
          "height": 280
        },
        "id": "HAQ4bPURCceo",
        "outputId": "250b289b-24c5-4e41-e72f-f1ab6c6b5598"
      },
      "execution_count": null,
      "outputs": [
        {
          "output_type": "display_data",
          "data": {
            "text/plain": [
              "<Figure size 432x288 with 1 Axes>"
            ],
            "image/png": "[encoded data removed]"
          },
          "metadata": {
            "needs_background": "light"
          }
        }
      ]
    },
    {
      "cell_type": "markdown",
      "source": [
        "#(i)Can we make predictions about when and where accidents will occur and the severity of the injuries sustained from the data supplied to improve road safety?How well do our models compare to government models? "
      ],
      "metadata": {
        "id": "r8eOrwMBUZ-I"
      }
    },
    {
      "cell_type": "markdown",
      "source": [
        "## Hypothesis"
      ],
      "metadata": {
        "id": "gs8MPFXcHBff"
      }
    },
    {
      "cell_type": "code",
      "source": [
        "# Merging two data sets into one with inner join by index\n",
        "acc_cas = pd.merge(acc_df, cas_df, on = ['Accident_Index'])\n",
        "acc_cas.info()"
      ],
      "metadata": {
        "id": "MnHdCgs1IF-i",
        "colab": {
          "base_uri": "https://localhost:8080/"
        },
        "outputId": "bd48f8d7-c980-4d7e-9bc3-7564cc89eabe"
      },
      "execution_count": null,
      "outputs": [
        {
          "output_type": "stream",
          "name": "stdout",
          "text": [
            "<class 'pandas.core.frame.DataFrame'>\n",
            "Int64Index: 153158 entries, 0 to 153157\n",
            "Data columns (total 47 columns):\n",
            " #   Column                                       Non-Null Count   Dtype  \n",
            "---  ------                                       --------------   -----  \n",
            " 0   Accident_Index                               153158 non-null  string \n",
            " 1   Location_Easting_OSGR                        153116 non-null  float64\n",
            " 2   Location_Northing_OSGR                       153116 non-null  float64\n",
            " 3   Longitude                                    153116 non-null  float64\n",
            " 4   Latitude                                     153116 non-null  float64\n",
            " 5   Police_Force                                 153158 non-null  int64  \n",
            " 6   Accident_Severity                            153158 non-null  int64  \n",
            " 7   Number_of_Vehicles                           153158 non-null  int64  \n",
            " 8   Number_of_Casualties                         153158 non-null  int64  \n",
            " 9   Date                                         153158 non-null  object \n",
            " 10  Day_of_Week                                  153158 non-null  int64  \n",
            " 11  Time                                         153077 non-null  object \n",
            " 12  Local_Authority_(District)                   153158 non-null  int64  \n",
            " 13  Local_Authority_(Highway)                    153158 non-null  object \n",
            " 14  1st_Road_Class                               153158 non-null  int64  \n",
            " 15  1st_Road_Number                              153158 non-null  int64  \n",
            " 16  Road_Type                                    153158 non-null  int64  \n",
            " 17  Speed_limit                                  153158 non-null  int64  \n",
            " 18  Junction_Detail                              153158 non-null  int64  \n",
            " 19  Junction_Control                             153158 non-null  int64  \n",
            " 20  2nd_Road_Class                               153158 non-null  int64  \n",
            " 21  2nd_Road_Number                              153158 non-null  int64  \n",
            " 22  Pedestrian_Crossing-Human_Control            153158 non-null  int64  \n",
            " 23  Pedestrian_Crossing-Physical_Facilities      153158 non-null  int64  \n",
            " 24  Light_Conditions                             153158 non-null  int64  \n",
            " 25  Weather_Conditions                           153158 non-null  int64  \n",
            " 26  Road_Surface_Conditions                      153158 non-null  int64  \n",
            " 27  Special_Conditions_at_Site                   153158 non-null  int64  \n",
            " 28  Carriageway_Hazards                          153158 non-null  int64  \n",
            " 29  Urban_or_Rural_Area                          153158 non-null  int64  \n",
            " 30  Did_Police_Officer_Attend_Scene_of_Accident  153158 non-null  int64  \n",
            " 31  LSOA_of_Accident_Location                    145523 non-null  object \n",
            " 32  Vehicle_Reference                            153158 non-null  int64  \n",
            " 33  Casualty_Reference                           153158 non-null  int64  \n",
            " 34  Casualty_Class                               153158 non-null  int64  \n",
            " 35  Sex_of_Casualty                              153158 non-null  int64  \n",
            " 36  Age_of_Casualty                              153158 non-null  int64  \n",
            " 37  Age_Band_of_Casualty                         153158 non-null  int64  \n",
            " 38  Casualty_Severity                            153158 non-null  int64  \n",
            " 39  Pedestrian_Location                          153158 non-null  int64  \n",
            " 40  Pedestrian_Movement                          153158 non-null  int64  \n",
            " 41  Car_Passenger                                153158 non-null  int64  \n",
            " 42  Bus_or_Coach_Passenger                       153158 non-null  int64  \n",
            " 43  Pedestrian_Road_Maintenance_Worker           153158 non-null  int64  \n",
            " 44  Casualty_Type                                153158 non-null  int64  \n",
            " 45  Casualty_Home_Area_Type                      153158 non-null  int64  \n",
            " 46  Casualty_IMD_Decile                          153158 non-null  int64  \n",
            "dtypes: float64(4), int64(38), object(4), string(1)\n",
            "memory usage: 56.1+ MB\n"
          ]
        }
      ]
    },
    {
      "cell_type": "markdown",
      "source": [
        "## Using 3 rules\n",
        "- Rule1: if speed limit=20mph, then Accident Severity = slight\n",
        "- Rule2: if speed limit=70mph, then Accident Severity = Fatal\n",
        "- Rule3: if Pedestrian Crossing Code = Zebra, then Casualty Type = Pedestrian "
      ],
      "metadata": {
        "id": "YGkb-0Q8TH_m"
      }
    },
    {
      "cell_type": "markdown",
      "source": [
        "#### Support"
      ],
      "metadata": {
        "id": "8ADy_9Z_MIJG"
      }
    },
    {
      "cell_type": "code",
      "source": [
        "def support():\n",
        "    support_= []\n",
        "    total =len(clean_acc_df)\n",
        "    total_combined = len(acc_cas)\n",
        "\n",
        "    support_rule1 =(len(acc_df[(acc_df['Speed_limit'] == 20) & (acc_df['Accident_Severity']== 3)]))/total\n",
        "\n",
        "\n",
        "    support_rule2 =(len(clean_acc_df[(clean_acc_df['Speed_limit'] == 70) & (clean_acc_df['Accident_Severity']== 1)]))/total\n",
        "\n",
        "    \n",
        "    support_rule3 = (len(acc_cas[(acc_cas['Pedestrian_Crossing-Physical_Facilities'] == 1) & (acc_cas['Casualty_Type']== 0)]))/total_combined\n",
        "\n",
        "    \n",
        "    \n",
        "    support_1A = len(acc_df[acc_df['Speed_limit'] == 20])/total\n",
        "    support_2A = len(acc_df[acc_df['Speed_limit'] == 70])/total\n",
        "    support_3A = len(acc_cas[acc_cas['Pedestrian_Crossing-Physical_Facilities'] == 1])/total_combined\n",
        "    \n",
        "    support_1B = len(acc_df[acc_df['Accident_Severity']== 3])/total\n",
        "    support_2B = len(acc_df[acc_df['Accident_Severity']== 1])/total\n",
        "    support_3B = len (acc_cas[acc_cas['Casualty_Type']== 0])/total_combined\n",
        "                                    \n",
        "    \n",
        "    support_.append({'Rule1':support_rule1, 'Rule2':support_rule2,'Rule3':support_rule3,\n",
        "                           'Support 1A':support_1A, 'Support 2A': support_2A, 'Support 3A':support_3A,\n",
        "                          'Support 1B':support_1B, 'Support 2B': support_2B, 'Support 3B': support_3B })\n",
        "    \n",
        "    return support_"
      ],
      "metadata": {
        "id": "OBRI3S_h8dPf"
      },
      "execution_count": null,
      "outputs": []
    },
    {
      "cell_type": "code",
      "source": [
        "support = support()\n",
        "support"
      ],
      "metadata": {
        "id": "ejig83jELuvv",
        "colab": {
          "base_uri": "https://localhost:8080/"
        },
        "outputId": "be09c211-cffb-4202-d293-a86801a321fc"
      },
      "execution_count": null,
      "outputs": [
        {
          "output_type": "execute_result",
          "data": {
            "text/plain": [
              "[{'Rule1': 0.0836594745439695,\n",
              "  'Rule2': 0.0017441464742717124,\n",
              "  'Rule3': 0.012007208242468563,\n",
              "  'Support 1A': 0.09994384699156003,\n",
              "  'Support 1B': 0.7866185679281241,\n",
              "  'Support 2A': 0.060857949904710044,\n",
              "  'Support 2B': 0.014106316362646339,\n",
              "  'Support 3A': 0.036393789420076,\n",
              "  'Support 3B': 0.1421407957795218}]"
            ]
          },
          "metadata": {},
          "execution_count": 157
        }
      ]
    },
    {
      "cell_type": "markdown",
      "source": [
        "#### Confidence"
      ],
      "metadata": {
        "id": "WM3lP7x-Ng8u"
      }
    },
    {
      "cell_type": "code",
      "source": [
        "def confidence():\n",
        "    confidence_ = []\n",
        "    \n",
        "    frequency_A1 = len(acc_df[acc_df['Speed_limit'] == 20])\n",
        "    confidence_rule_1 = (len(acc_df[(acc_df['Speed_limit'] == 20) & (acc_df['Accident_Severity']== 3)]))/frequency_A1\n",
        "   \n",
        "    \n",
        "    frequency_A2 = len(acc_df[acc_df['Speed_limit'] == 70])\n",
        "    confidence_rule_2 = (len(acc_df[(acc_df['Speed_limit'] == 70) & (acc_df['Accident_Severity']== 1)]))/frequency_A2\n",
        "                               \n",
        "    \n",
        "    frequency_A3 =  len(acc_cas[acc_cas['Pedestrian_Crossing-Physical_Facilities'] == 1])\n",
        "    confidence_rule_3 = (len(acc_cas[(acc_cas['Pedestrian_Crossing-Physical_Facilities'] == 1) & (acc_cas['Casualty_Type']== 0)]))/frequency_A3\n",
        "    \n",
        "    confidence_.append({'Confidence 01': confidence_rule_1, 'Confidence 02':confidence_rule_2, 'Confidence 03': confidence_rule_3})\n",
        "    \n",
        "    return confidence_"
      ],
      "metadata": {
        "id": "wfGLWiYv8dUs"
      },
      "execution_count": null,
      "outputs": []
    },
    {
      "cell_type": "code",
      "source": [
        "confidence = confidence()\n",
        "confidence\n",
        "#70miles an hour is one of the safest zones"
      ],
      "metadata": {
        "id": "vwH4EzHtNRU7",
        "colab": {
          "base_uri": "https://localhost:8080/"
        },
        "outputId": "9f0c0f35-a200-4cc9-b06a-0d50b6ff84d7"
      },
      "execution_count": null,
      "outputs": [
        {
          "output_type": "execute_result",
          "data": {
            "text/plain": [
              "[{'Confidence 01': 0.8370647824976589,\n",
              "  'Confidence 02': 0.02865930378862016,\n",
              "  'Confidence 03': 0.32992465016146394}]"
            ]
          },
          "metadata": {},
          "execution_count": 159
        }
      ]
    },
    {
      "cell_type": "markdown",
      "source": [
        "#### Completeness"
      ],
      "metadata": {
        "id": "LrN9CsS8NmN7"
      }
    },
    {
      "cell_type": "code",
      "source": [
        "def completeness():\n",
        "    completeness_ = []\n",
        "\n",
        "    frequency_B1 = len(acc_df[acc_df['Accident_Severity']== 3])\n",
        "    complete_01 = (len(acc_df[(acc_df['Speed_limit'] == 20) & (acc_df['Accident_Severity']== 3)]))/frequency_B1\n",
        "    \n",
        "    \n",
        "    fequency_B2 = len(acc_df[acc_df['Accident_Severity']== 1])\n",
        "    complete_02 = (len(acc_df[(acc_df['Speed_limit'] == 70) & (acc_df['Accident_Severity']== 1)]))/fequency_B2\n",
        "    \n",
        "    \n",
        "    frequency_B3 = len(acc_cas[acc_cas['Casualty_Type']== 0])\n",
        "    complete_03 =(len(acc_cas[(acc_cas['Pedestrian_Crossing-Physical_Facilities'] == 1) & (acc_cas['Casualty_Type']== 0)]))/frequency_B3\n",
        "\n",
        "    completeness_.append({'Completeness 1': complete_01, 'Completness 2':complete_02, 'Completeness 3': complete_03})\n",
        "    \n",
        "    return completeness_"
      ],
      "metadata": {
        "id": "H4cvSE50NRmR"
      },
      "execution_count": null,
      "outputs": []
    },
    {
      "cell_type": "code",
      "source": [
        "Completeness = completeness()\n",
        "Completeness"
      ],
      "metadata": {
        "id": "8nrLaoQfNRqM",
        "colab": {
          "base_uri": "https://localhost:8080/"
        },
        "outputId": "c152d7d8-fb18-40dd-e2b6-a56f436a3ade"
      },
      "execution_count": null,
      "outputs": [
        {
          "output_type": "execute_result",
          "data": {
            "text/plain": [
              "[{'Completeness 1': 0.10635329237691442,\n",
              "  'Completeness 3': 0.08447404685346807,\n",
              "  'Completness 2': 0.12364294330518698}]"
            ]
          },
          "metadata": {},
          "execution_count": 161
        }
      ]
    },
    {
      "cell_type": "markdown",
      "source": [
        "#### Lifts"
      ],
      "metadata": {
        "id": "7AmPWpdAPUHb"
      }
    },
    {
      "cell_type": "code",
      "source": [
        "def lifts():\n",
        "    lift_ = []\n",
        "    \n",
        "    lift_01 = round((support[0]['Rule1']/(support[0]['Support 1A']* support[0]['Support 1B'])),2)\n",
        "    \n",
        "    lift_02 = round((support[0]['Rule2']/(support[0]['Support 2A']* support[0]['Support 2B'])),2)\n",
        "    \n",
        "    lift_03 = round((support[0]['Rule3']/ (support[0]['Support 3A']* support[0]['Support 3B'])),2)\n",
        "    \n",
        "    lift_.append({'Lift 1': lift_01, 'Lift 2': lift_02, 'Lift 3': lift_03})\n",
        "    \n",
        "    return lift_"
      ],
      "metadata": {
        "id": "PPvBliycNRuM"
      },
      "execution_count": null,
      "outputs": []
    },
    {
      "cell_type": "code",
      "source": [
        "Lifts = lifts()\n",
        "Lifts"
      ],
      "metadata": {
        "id": "kSmsPt9mNRw0",
        "colab": {
          "base_uri": "https://localhost:8080/"
        },
        "outputId": "b7dd0039-c8b4-4fdf-e1fc-14f76d0fc071"
      },
      "execution_count": null,
      "outputs": [
        {
          "output_type": "execute_result",
          "data": {
            "text/plain": [
              "[{'Lift 1': 1.06, 'Lift 2': 2.03, 'Lift 3': 2.32}]"
            ]
          },
          "metadata": {},
          "execution_count": 163
        }
      ]
    },
    {
      "cell_type": "markdown",
      "source": [
        "#### Conviction"
      ],
      "metadata": {
        "id": "cNKRlI8JSOKq"
      }
    },
    {
      "cell_type": "code",
      "source": [
        "def conviction():\n",
        "    \n",
        "    conviction_ = []\n",
        "    \n",
        "    conviction_01 =  round(((1- (support[0]['Support 1B']))/(1-(confidence[0]['Confidence 01']))),2)\n",
        "    conviction_02 = round(((1- (support[0]['Support 2B']))/(1-(confidence[0]['Confidence 02']))),2)\n",
        "    conviction_03 = round(((1- (support[0]['Support 3B']))/(1-(confidence[0]['Confidence 02']))),2)\n",
        "    \n",
        "    conviction_.append({'Conviction_01': conviction_01, 'Conviction_02': conviction_01, 'Conviction_03': conviction_03})\n",
        "    \n",
        "    return conviction_\n",
        "    "
      ],
      "metadata": {
        "id": "4UwwipklNRzs"
      },
      "execution_count": null,
      "outputs": []
    },
    {
      "cell_type": "code",
      "source": [
        "Conviction = conviction()\n",
        "Conviction"
      ],
      "metadata": {
        "id": "7YpSbiKANR25",
        "colab": {
          "base_uri": "https://localhost:8080/"
        },
        "outputId": "5a5445f4-90bc-4ab2-f960-a80f56329197"
      },
      "execution_count": null,
      "outputs": [
        {
          "output_type": "execute_result",
          "data": {
            "text/plain": [
              "[{'Conviction_01': 1.31, 'Conviction_02': 1.31, 'Conviction_03': 0.88}]"
            ]
          },
          "metadata": {},
          "execution_count": 165
        }
      ]
    },
    {
      "cell_type": "markdown",
      "source": [
        "#### Piatetsky- Shapiro Rule Interestingness"
      ],
      "metadata": {
        "id": "tYSmIFgOSRiL"
      }
    },
    {
      "cell_type": "code",
      "source": [
        "def sri():\n",
        "    sri_ = []\n",
        "    total = len(acc_df)\n",
        "    total_combined = len(acc_cas)\n",
        "\n",
        "    frequency_A = len(acc_df[acc_df['Speed_limit'] == 20])\n",
        "    frequency_B = len(acc_df[acc_df['Accident_Severity']== 3])\n",
        "    frequency_AB = len(acc_df[(acc_df['Speed_limit'] == 20) & (acc_df['Accident_Severity']== 3)])\n",
        "    \n",
        "    sri_1 = round(( frequency_AB -((frequency_A * frequency_B)/total)),2)\n",
        "    \n",
        "    \n",
        "    frequency_A2 = len(acc_df[acc_df['Speed_limit'] == 70])\n",
        "    frequency_B2 = len(acc_df[acc_df['Accident_Severity']== 1])\n",
        "    frequency_AB2 = len(acc_df[(acc_df['Speed_limit'] == 70) & (acc_df['Accident_Severity']== 1)])\n",
        "    \n",
        "    sri_2 = round(( frequency_AB2 -((frequency_A2 * frequency_B2)/total)),2)\n",
        "    \n",
        "    frequency_AB3 = (len([(acc_cas['Pedestrian_Crossing-Physical_Facilities'] == 1) & (acc_cas['Casualty_Type']== 0)]))\n",
        "    frequency_A3 =  len(acc_cas[acc_cas['Pedestrian_Crossing-Physical_Facilities'] == 1])\n",
        "    frequency_B3 = len(acc_cas[acc_cas['Casualty_Type']== 0])\n",
        "    \n",
        "    sri_3 = round(( frequency_AB3 -((frequency_A3 * frequency_B3)/total_combined)),2)\n",
        "    \n",
        "    sri_.append({'RI 1':sri_1, 'RI 2':sri_2, 'RI 3': sri_3})\n",
        "    \n",
        "    return sri_"
      ],
      "metadata": {
        "id": "AyR71S4NNR7I"
      },
      "execution_count": null,
      "outputs": []
    },
    {
      "cell_type": "code",
      "source": [
        "sri = sri()\n",
        "sri"
      ],
      "metadata": {
        "id": "MX5eRW_eNR9j",
        "colab": {
          "base_uri": "https://localhost:8080/"
        },
        "outputId": "30dde91f-842e-4eb3-e564-f9e31d124f7d"
      },
      "execution_count": null,
      "outputs": [
        {
          "output_type": "execute_result",
          "data": {
            "text/plain": [
              "[{'RI 1': 592.59, 'RI 2': 104.1, 'RI 3': -791.29}]"
            ]
          },
          "metadata": {},
          "execution_count": 167
        }
      ]
    },
    {
      "cell_type": "markdown",
      "source": [
        "## Using the combination of speed limit and Accident Severity below will give us 18 different rules"
      ],
      "metadata": {
        "id": "M7L44AQaU1GE"
      }
    },
    {
      "cell_type": "code",
      "source": [
        "speed_limit = acc_cas['Speed_limit'].unique()\n",
        "print(speed_limit)\n",
        "\n",
        "accidents_severity = acc_cas['Accident_Severity'].unique()\n",
        "print(accidents_severity)"
      ],
      "metadata": {
        "id": "kRW_21kjx_OW",
        "colab": {
          "base_uri": "https://localhost:8080/"
        },
        "outputId": "b4e6122b-e685-4095-e2a6-04479d5f5bfb"
      },
      "execution_count": null,
      "outputs": [
        {
          "output_type": "stream",
          "name": "stdout",
          "text": [
            "[30 20 40 50 70 60]\n",
            "[3 2 1]\n"
          ]
        }
      ]
    },
    {
      "cell_type": "markdown",
      "source": [
        "## APRIORI Algorithm"
      ],
      "metadata": {
        "id": "SN_RvZVZfAal"
      }
    },
    {
      "cell_type": "code",
      "source": [
        "from mlxtend.preprocessing import TransactionEncoder\n",
        "from mlxtend.frequent_patterns import apriori\n",
        "from mlxtend.frequent_patterns import association_rules"
      ],
      "metadata": {
        "id": "RHsnNfBNNSDj"
      },
      "execution_count": null,
      "outputs": []
    },
    {
      "cell_type": "code",
      "source": [
        "a = pd.get_dummies(acc_df.Accident_Severity, prefix= 'Severity')\n",
        "b = pd.get_dummies(acc_df.Speed_limit, prefix= 'Speed')\n",
        "c = pd.get_dummies(acc_df.Weather_Conditions, prefix= 'Weather')\n",
        "speed_weather = pd.concat([a, b, c], ignore_index=False, axis = 1)\n",
        "apriori(speed_weather, min_support=0.2, use_colnames=True) #generates itemsets that are supported\n"
      ],
      "metadata": {
        "id": "TzscTs1QNSHl",
        "colab": {
          "base_uri": "https://localhost:8080/",
          "height": 268
        },
        "outputId": "c7b51f98-56fd-4f72-ae6b-e022ec27d5f9"
      },
      "execution_count": null,
      "outputs": [
        {
          "output_type": "execute_result",
          "data": {
            "text/plain": [
              "    support                           itemsets\n",
              "0  0.786619                       (Severity_3)\n",
              "1  0.590330                         (Speed_30)\n",
              "2  0.785427                        (Weather_1)\n",
              "3  0.475097             (Speed_30, Severity_3)\n",
              "4  0.614169            (Severity_3, Weather_1)\n",
              "5  0.465713              (Speed_30, Weather_1)\n",
              "6  0.373690  (Speed_30, Severity_3, Weather_1)"
            ],
            "text/html": [
              "\n",
              "  <div id=\"df-29e35a1b-920e-47e3-9cf7-0a8531138710\">\n",
              "    <div class=\"colab-df-container\">\n",
              "      <div>\n",
              "<style scoped>\n",
              "    .dataframe tbody tr th:only-of-type {\n",
              "        vertical-align: middle;\n",
              "    }\n",
              "\n",
              "    .dataframe tbody tr th {\n",
              "        vertical-align: top;\n",
              "    }\n",
              "\n",
              "    .dataframe thead th {\n",
              "        text-align: right;\n",
              "    }\n",
              "</style>\n",
              "<table border=\"1\" class=\"dataframe\">\n",
              "  <thead>\n",
              "    <tr style=\"text-align: right;\">\n",
              "      <th></th>\n",
              "      <th>support</th>\n",
              "      <th>itemsets</th>\n",
              "    </tr>\n",
              "  </thead>\n",
              "  <tbody>\n",
              "    <tr>\n",
              "      <th>0</th>\n",
              "      <td>0.786619</td>\n",
              "      <td>(Severity_3)</td>\n",
              "    </tr>\n",
              "    <tr>\n",
              "      <th>1</th>\n",
              "      <td>0.590330</td>\n",
              "      <td>(Speed_30)</td>\n",
              "    </tr>\n",
              "    <tr>\n",
              "      <th>2</th>\n",
              "      <td>0.785427</td>\n",
              "      <td>(Weather_1)</td>\n",
              "    </tr>\n",
              "    <tr>\n",
              "      <th>3</th>\n",
              "      <td>0.475097</td>\n",
              "      <td>(Speed_30, Severity_3)</td>\n",
              "    </tr>\n",
              "    <tr>\n",
              "      <th>4</th>\n",
              "      <td>0.614169</td>\n",
              "      <td>(Severity_3, Weather_1)</td>\n",
              "    </tr>\n",
              "    <tr>\n",
              "      <th>5</th>\n",
              "      <td>0.465713</td>\n",
              "      <td>(Speed_30, Weather_1)</td>\n",
              "    </tr>\n",
              "    <tr>\n",
              "      <th>6</th>\n",
              "      <td>0.373690</td>\n",
              "      <td>(Speed_30, Severity_3, Weather_1)</td>\n",
              "    </tr>\n",
              "  </tbody>\n",
              "</table>\n",
              "</div>\n",
              "      <button class=\"colab-df-convert\" onclick=\"convertToInteractive('df-29e35a1b-920e-47e3-9cf7-0a8531138710')\"\n",
              "              title=\"Convert this dataframe to an interactive table.\"\n",
              "              style=\"display:none;\">\n",
              "        \n",
              "  <svg xmlns=\"http://www.w3.org/2000/svg\" height=\"24px\"viewBox=\"0 0 24 24\"\n",
              "       width=\"24px\">\n",
              "    <path d=\"M0 0h24v24H0V0z\" fill=\"none\"/>\n",
              "    <path d=\"M18.56 5.44l.94 2.06.94-2.06 2.06-.94-2.06-.94-.94-2.06-.94 2.06-2.06.94zm-11 1L8.5 8.5l.94-2.06 2.06-.94-2.06-.94L8.5 2.5l-.94 2.06-2.06.94zm10 10l.94 2.06.94-2.06 2.06-.94-2.06-.94-.94-2.06-.94 2.06-2.06.94z\"/><path d=\"M17.41 7.96l-1.37-1.37c-.4-.4-.92-.59-1.43-.59-.52 0-1.04.2-1.43.59L10.3 9.45l-7.72 7.72c-.78.78-.78 2.05 0 2.83L4 21.41c.39.39.9.59 1.41.59.51 0 1.02-.2 1.41-.59l7.78-7.78 2.81-2.81c.8-.78.8-2.07 0-2.86zM5.41 20L4 18.59l7.72-7.72 1.47 1.35L5.41 20z\"/>\n",
              "  </svg>\n",
              "      </button>\n",
              "      \n",
              "  <style>\n",
              "    .colab-df-container {\n",
              "      display:flex;\n",
              "      flex-wrap:wrap;\n",
              "      gap: 12px;\n",
              "    }\n",
              "\n",
              "    .colab-df-convert {\n",
              "      background-color: #E8F0FE;\n",
              "      border: none;\n",
              "      border-radius: 50%;\n",
              "      cursor: pointer;\n",
              "      display: none;\n",
              "      fill: #1967D2;\n",
              "      height: 32px;\n",
              "      padding: 0 0 0 0;\n",
              "      width: 32px;\n",
              "    }\n",
              "\n",
              "    .colab-df-convert:hover {\n",
              "      background-color: #E2EBFA;\n",
              "      box-shadow: 0px 1px 2px rgba(60, 64, 67, 0.3), 0px 1px 3px 1px rgba(60, 64, 67, 0.15);\n",
              "      fill: #174EA6;\n",
              "    }\n",
              "\n",
              "    [theme=dark] .colab-df-convert {\n",
              "      background-color: #3B4455;\n",
              "      fill: #D2E3FC;\n",
              "    }\n",
              "\n",
              "    [theme=dark] .colab-df-convert:hover {\n",
              "      background-color: #434B5C;\n",
              "      box-shadow: 0px 1px 3px 1px rgba(0, 0, 0, 0.15);\n",
              "      filter: drop-shadow(0px 1px 2px rgba(0, 0, 0, 0.3));\n",
              "      fill: #FFFFFF;\n",
              "    }\n",
              "  </style>\n",
              "\n",
              "      <script>\n",
              "        const buttonEl =\n",
              "          document.querySelector('#df-29e35a1b-920e-47e3-9cf7-0a8531138710 button.colab-df-convert');\n",
              "        buttonEl.style.display =\n",
              "          google.colab.kernel.accessAllowed ? 'block' : 'none';\n",
              "\n",
              "        async function convertToInteractive(key) {\n",
              "          const element = document.querySelector('#df-29e35a1b-920e-47e3-9cf7-0a8531138710');\n",
              "          const dataTable =\n",
              "            await google.colab.kernel.invokeFunction('convertToInteractive',\n",
              "                                                     [key], {});\n",
              "          if (!dataTable) return;\n",
              "\n",
              "          const docLinkHtml = 'Like what you see? Visit the ' +\n",
              "            '<a target=\"_blank\" href=https://colab.research.google.com/notebooks/data_table.ipynb>data table notebook</a>'\n",
              "            + ' to learn more about interactive tables.';\n",
              "          element.innerHTML = '';\n",
              "          dataTable['output_type'] = 'display_data';\n",
              "          await google.colab.output.renderOutput(dataTable, element);\n",
              "          const docLink = document.createElement('div');\n",
              "          docLink.innerHTML = docLinkHtml;\n",
              "          element.appendChild(docLink);\n",
              "        }\n",
              "      </script>\n",
              "    </div>\n",
              "  </div>\n",
              "  "
            ]
          },
          "metadata": {},
          "execution_count": 170
        }
      ]
    },
    {
      "cell_type": "code",
      "source": [
        "from mlxtend.frequent_patterns import association_rules\n",
        "\n",
        "\n",
        "frequent_itemsets = apriori(speed_weather, min_support=0.2, use_colnames=True)\n",
        "rules = association_rules(frequent_itemsets, metric = 'confidence', min_threshold=0.5)\n",
        "rules"
      ],
      "metadata": {
        "id": "uR1o-NGa7gTw",
        "colab": {
          "base_uri": "https://localhost:8080/",
          "height": 363
        },
        "outputId": "88277214-b549-4354-8ea7-79651d855e25"
      },
      "execution_count": null,
      "outputs": [
        {
          "output_type": "execute_result",
          "data": {
            "text/plain": [
              "               antecedents              consequents  antecedent support  \\\n",
              "0               (Speed_30)             (Severity_3)            0.590330   \n",
              "1             (Severity_3)               (Speed_30)            0.786619   \n",
              "2             (Severity_3)              (Weather_1)            0.786619   \n",
              "3              (Weather_1)             (Severity_3)            0.785427   \n",
              "4               (Speed_30)              (Weather_1)            0.590330   \n",
              "5              (Weather_1)               (Speed_30)            0.785427   \n",
              "6   (Speed_30, Severity_3)              (Weather_1)            0.475097   \n",
              "7    (Speed_30, Weather_1)             (Severity_3)            0.465713   \n",
              "8  (Severity_3, Weather_1)               (Speed_30)            0.614169   \n",
              "9               (Speed_30)  (Severity_3, Weather_1)            0.590330   \n",
              "\n",
              "   consequent support   support  confidence      lift  leverage  conviction  \n",
              "0            0.786619  0.475097    0.804799  1.023113  0.010733    1.093139  \n",
              "1            0.590330  0.475097    0.603974  1.023113  0.010733    1.034452  \n",
              "2            0.785427  0.614169    0.780771  0.994072 -0.003663    0.978762  \n",
              "3            0.786619  0.614169    0.781955  0.994072 -0.003663    0.978614  \n",
              "4            0.785427  0.465713    0.788903  1.004424  0.002051    1.016462  \n",
              "5            0.590330  0.465713    0.592942  1.004424  0.002051    1.006416  \n",
              "6            0.785427  0.373690    0.786555  1.001435  0.000536    1.005281  \n",
              "7            0.786619  0.373690    0.802404  1.020068  0.007352    1.079888  \n",
              "8            0.590330  0.373690    0.608448  1.030691  0.011127    1.046272  \n",
              "9            0.614169  0.373690    0.633019  1.030691  0.011127    1.051363  "
            ],
            "text/html": [
              "\n",
              "  <div id=\"df-c7d3233b-1fa9-4790-b680-ed0bef84b896\">\n",
              "    <div class=\"colab-df-container\">\n",
              "      <div>\n",
              "<style scoped>\n",
              "    .dataframe tbody tr th:only-of-type {\n",
              "        vertical-align: middle;\n",
              "    }\n",
              "\n",
              "    .dataframe tbody tr th {\n",
              "        vertical-align: top;\n",
              "    }\n",
              "\n",
              "    .dataframe thead th {\n",
              "        text-align: right;\n",
              "    }\n",
              "</style>\n",
              "<table border=\"1\" class=\"dataframe\">\n",
              "  <thead>\n",
              "    <tr style=\"text-align: right;\">\n",
              "      <th></th>\n",
              "      <th>antecedents</th>\n",
              "      <th>consequents</th>\n",
              "      <th>antecedent support</th>\n",
              "      <th>consequent support</th>\n",
              "      <th>support</th>\n",
              "      <th>confidence</th>\n",
              "      <th>lift</th>\n",
              "      <th>leverage</th>\n",
              "      <th>conviction</th>\n",
              "    </tr>\n",
              "  </thead>\n",
              "  <tbody>\n",
              "    <tr>\n",
              "      <th>0</th>\n",
              "      <td>(Speed_30)</td>\n",
              "      <td>(Severity_3)</td>\n",
              "      <td>0.590330</td>\n",
              "      <td>0.786619</td>\n",
              "      <td>0.475097</td>\n",
              "      <td>0.804799</td>\n",
              "      <td>1.023113</td>\n",
              "      <td>0.010733</td>\n",
              "      <td>1.093139</td>\n",
              "    </tr>\n",
              "    <tr>\n",
              "      <th>1</th>\n",
              "      <td>(Severity_3)</td>\n",
              "      <td>(Speed_30)</td>\n",
              "      <td>0.786619</td>\n",
              "      <td>0.590330</td>\n",
              "      <td>0.475097</td>\n",
              "      <td>0.603974</td>\n",
              "      <td>1.023113</td>\n",
              "      <td>0.010733</td>\n",
              "      <td>1.034452</td>\n",
              "    </tr>\n",
              "    <tr>\n",
              "      <th>2</th>\n",
              "      <td>(Severity_3)</td>\n",
              "      <td>(Weather_1)</td>\n",
              "      <td>0.786619</td>\n",
              "      <td>0.785427</td>\n",
              "      <td>0.614169</td>\n",
              "      <td>0.780771</td>\n",
              "      <td>0.994072</td>\n",
              "      <td>-0.003663</td>\n",
              "      <td>0.978762</td>\n",
              "    </tr>\n",
              "    <tr>\n",
              "      <th>3</th>\n",
              "      <td>(Weather_1)</td>\n",
              "      <td>(Severity_3)</td>\n",
              "      <td>0.785427</td>\n",
              "      <td>0.786619</td>\n",
              "      <td>0.614169</td>\n",
              "      <td>0.781955</td>\n",
              "      <td>0.994072</td>\n",
              "      <td>-0.003663</td>\n",
              "      <td>0.978614</td>\n",
              "    </tr>\n",
              "    <tr>\n",
              "      <th>4</th>\n",
              "      <td>(Speed_30)</td>\n",
              "      <td>(Weather_1)</td>\n",
              "      <td>0.590330</td>\n",
              "      <td>0.785427</td>\n",
              "      <td>0.465713</td>\n",
              "      <td>0.788903</td>\n",
              "      <td>1.004424</td>\n",
              "      <td>0.002051</td>\n",
              "      <td>1.016462</td>\n",
              "    </tr>\n",
              "    <tr>\n",
              "      <th>5</th>\n",
              "      <td>(Weather_1)</td>\n",
              "      <td>(Speed_30)</td>\n",
              "      <td>0.785427</td>\n",
              "      <td>0.590330</td>\n",
              "      <td>0.465713</td>\n",
              "      <td>0.592942</td>\n",
              "      <td>1.004424</td>\n",
              "      <td>0.002051</td>\n",
              "      <td>1.006416</td>\n",
              "    </tr>\n",
              "    <tr>\n",
              "      <th>6</th>\n",
              "      <td>(Speed_30, Severity_3)</td>\n",
              "      <td>(Weather_1)</td>\n",
              "      <td>0.475097</td>\n",
              "      <td>0.785427</td>\n",
              "      <td>0.373690</td>\n",
              "      <td>0.786555</td>\n",
              "      <td>1.001435</td>\n",
              "      <td>0.000536</td>\n",
              "      <td>1.005281</td>\n",
              "    </tr>\n",
              "    <tr>\n",
              "      <th>7</th>\n",
              "      <td>(Speed_30, Weather_1)</td>\n",
              "      <td>(Severity_3)</td>\n",
              "      <td>0.465713</td>\n",
              "      <td>0.786619</td>\n",
              "      <td>0.373690</td>\n",
              "      <td>0.802404</td>\n",
              "      <td>1.020068</td>\n",
              "      <td>0.007352</td>\n",
              "      <td>1.079888</td>\n",
              "    </tr>\n",
              "    <tr>\n",
              "      <th>8</th>\n",
              "      <td>(Severity_3, Weather_1)</td>\n",
              "      <td>(Speed_30)</td>\n",
              "      <td>0.614169</td>\n",
              "      <td>0.590330</td>\n",
              "      <td>0.373690</td>\n",
              "      <td>0.608448</td>\n",
              "      <td>1.030691</td>\n",
              "      <td>0.011127</td>\n",
              "      <td>1.046272</td>\n",
              "    </tr>\n",
              "    <tr>\n",
              "      <th>9</th>\n",
              "      <td>(Speed_30)</td>\n",
              "      <td>(Severity_3, Weather_1)</td>\n",
              "      <td>0.590330</td>\n",
              "      <td>0.614169</td>\n",
              "      <td>0.373690</td>\n",
              "      <td>0.633019</td>\n",
              "      <td>1.030691</td>\n",
              "      <td>0.011127</td>\n",
              "      <td>1.051363</td>\n",
              "    </tr>\n",
              "  </tbody>\n",
              "</table>\n",
              "</div>\n",
              "      <button class=\"colab-df-convert\" onclick=\"convertToInteractive('df-c7d3233b-1fa9-4790-b680-ed0bef84b896')\"\n",
              "              title=\"Convert this dataframe to an interactive table.\"\n",
              "              style=\"display:none;\">\n",
              "        \n",
              "  <svg xmlns=\"http://www.w3.org/2000/svg\" height=\"24px\"viewBox=\"0 0 24 24\"\n",
              "       width=\"24px\">\n",
              "    <path d=\"M0 0h24v24H0V0z\" fill=\"none\"/>\n",
              "    <path d=\"M18.56 5.44l.94 2.06.94-2.06 2.06-.94-2.06-.94-.94-2.06-.94 2.06-2.06.94zm-11 1L8.5 8.5l.94-2.06 2.06-.94-2.06-.94L8.5 2.5l-.94 2.06-2.06.94zm10 10l.94 2.06.94-2.06 2.06-.94-2.06-.94-.94-2.06-.94 2.06-2.06.94z\"/><path d=\"M17.41 7.96l-1.37-1.37c-.4-.4-.92-.59-1.43-.59-.52 0-1.04.2-1.43.59L10.3 9.45l-7.72 7.72c-.78.78-.78 2.05 0 2.83L4 21.41c.39.39.9.59 1.41.59.51 0 1.02-.2 1.41-.59l7.78-7.78 2.81-2.81c.8-.78.8-2.07 0-2.86zM5.41 20L4 18.59l7.72-7.72 1.47 1.35L5.41 20z\"/>\n",
              "  </svg>\n",
              "      </button>\n",
              "      \n",
              "  <style>\n",
              "    .colab-df-container {\n",
              "      display:flex;\n",
              "      flex-wrap:wrap;\n",
              "      gap: 12px;\n",
              "    }\n",
              "\n",
              "    .colab-df-convert {\n",
              "      background-color: #E8F0FE;\n",
              "      border: none;\n",
              "      border-radius: 50%;\n",
              "      cursor: pointer;\n",
              "      display: none;\n",
              "      fill: #1967D2;\n",
              "      height: 32px;\n",
              "      padding: 0 0 0 0;\n",
              "      width: 32px;\n",
              "    }\n",
              "\n",
              "    .colab-df-convert:hover {\n",
              "      background-color: #E2EBFA;\n",
              "      box-shadow: 0px 1px 2px rgba(60, 64, 67, 0.3), 0px 1px 3px 1px rgba(60, 64, 67, 0.15);\n",
              "      fill: #174EA6;\n",
              "    }\n",
              "\n",
              "    [theme=dark] .colab-df-convert {\n",
              "      background-color: #3B4455;\n",
              "      fill: #D2E3FC;\n",
              "    }\n",
              "\n",
              "    [theme=dark] .colab-df-convert:hover {\n",
              "      background-color: #434B5C;\n",
              "      box-shadow: 0px 1px 3px 1px rgba(0, 0, 0, 0.15);\n",
              "      filter: drop-shadow(0px 1px 2px rgba(0, 0, 0, 0.3));\n",
              "      fill: #FFFFFF;\n",
              "    }\n",
              "  </style>\n",
              "\n",
              "      <script>\n",
              "        const buttonEl =\n",
              "          document.querySelector('#df-c7d3233b-1fa9-4790-b680-ed0bef84b896 button.colab-df-convert');\n",
              "        buttonEl.style.display =\n",
              "          google.colab.kernel.accessAllowed ? 'block' : 'none';\n",
              "\n",
              "        async function convertToInteractive(key) {\n",
              "          const element = document.querySelector('#df-c7d3233b-1fa9-4790-b680-ed0bef84b896');\n",
              "          const dataTable =\n",
              "            await google.colab.kernel.invokeFunction('convertToInteractive',\n",
              "                                                     [key], {});\n",
              "          if (!dataTable) return;\n",
              "\n",
              "          const docLinkHtml = 'Like what you see? Visit the ' +\n",
              "            '<a target=\"_blank\" href=https://colab.research.google.com/notebooks/data_table.ipynb>data table notebook</a>'\n",
              "            + ' to learn more about interactive tables.';\n",
              "          element.innerHTML = '';\n",
              "          dataTable['output_type'] = 'display_data';\n",
              "          await google.colab.output.renderOutput(dataTable, element);\n",
              "          const docLink = document.createElement('div');\n",
              "          docLink.innerHTML = docLinkHtml;\n",
              "          element.appendChild(docLink);\n",
              "        }\n",
              "      </script>\n",
              "    </div>\n",
              "  </div>\n",
              "  "
            ]
          },
          "metadata": {},
          "execution_count": 171
        }
      ]
    },
    {
      "cell_type": "code",
      "source": [
        "#Use k-means on the geographic coordinates with the number of clusters = 25 and see what happens\n",
        "coordinates = acc_df[['Longitude','Latitude']]\n",
        "\n",
        "kmeans = KMeans(n_clusters= 25)\n",
        "kmeans.fit(coordinates)"
      ],
      "metadata": {
        "id": "HKp5B0KoGt4t",
        "colab": {
          "base_uri": "https://localhost:8080/"
        },
        "outputId": "1d556d0f-f53f-47a6-89e0-1ec5e9f9de95"
      },
      "execution_count": null,
      "outputs": [
        {
          "output_type": "execute_result",
          "data": {
            "text/plain": [
              "KMeans(n_clusters=25)"
            ]
          },
          "metadata": {},
          "execution_count": 172
        }
      ]
    },
    {
      "cell_type": "code",
      "source": [
        "labels = kmeans.predict(coordinates)\n",
        "labels"
      ],
      "metadata": {
        "id": "--EA-xleGt79",
        "colab": {
          "base_uri": "https://localhost:8080/"
        },
        "outputId": "e73c4b16-80fb-49cf-bffe-5e332f210bef"
      },
      "execution_count": null,
      "outputs": [
        {
          "output_type": "execute_result",
          "data": {
            "text/plain": [
              "array([ 0,  0,  0, ..., 11, 11,  3], dtype=int32)"
            ]
          },
          "metadata": {},
          "execution_count": 173
        }
      ]
    },
    {
      "cell_type": "code",
      "source": [
        "centroids = kmeans.cluster_centers_\n",
        "\n",
        "centroids[:5]"
      ],
      "metadata": {
        "id": "KahRKKzFGt_8",
        "colab": {
          "base_uri": "https://localhost:8080/"
        },
        "outputId": "6ff75f39-86e5-4f22-d2a6-263a21cd01c4"
      },
      "execution_count": null,
      "outputs": [
        {
          "output_type": "execute_result",
          "data": {
            "text/plain": [
              "array([[-0.11366155, 51.51778732],\n",
              "       [-2.28928854, 53.4701156 ],\n",
              "       [-3.20611831, 51.70361089],\n",
              "       [-3.21632006, 56.02297031],\n",
              "       [-1.98230975, 51.71371643]])"
            ]
          },
          "metadata": {},
          "execution_count": 174
        }
      ]
    },
    {
      "cell_type": "code",
      "source": [
        "\n",
        "#fig = plt.figure(figsize = (10,15))\n",
        "#colors = map(lambda x: colmap[x+1],labels)\n",
        "#plt.scatter(coordinates['Longitude'], coordinates['Latitude'], color = 'blue')\n",
        "#plt.xlim(-10, 10)\n",
        "#plt.ylim(-10, 1500)\n",
        "#plt.scatter(centroids[:,0],centroids[:,1], color = 'orange')\n",
        "#plt.show()"
      ],
      "metadata": {
        "id": "YHVdszVWGuEm"
      },
      "execution_count": null,
      "outputs": []
    },
    {
      "cell_type": "code",
      "source": [
        "clusters = [25]\n",
        "for value in clusters:\n",
        "    new_kmeans = KMeans(n_clusters=value)\n",
        "    kmeans.fit(coordinates)\n",
        "    print(kmeans.inertia_)\n",
        "# def calculate_inertia(n):\n",
        "#   return kmeans.inertia_"
      ],
      "metadata": {
        "id": "IQnMa1w7GuKz",
        "colab": {
          "base_uri": "https://localhost:8080/"
        },
        "outputId": "06394c0e-f795-49d8-cafc-10043b58de2e"
      },
      "execution_count": null,
      "outputs": [
        {
          "output_type": "stream",
          "name": "stdout",
          "text": [
            "13141.01234363517\n"
          ]
        }
      ]
    },
    {
      "cell_type": "code",
      "source": [
        "clusters = [25, 30, 35, 40, 45, 50]\n",
        "for value in clusters:\n",
        "    new_kmeans = KMeans(n_clusters=value)\n",
        "    kmeans.fit(coordinates)\n",
        "    print(kmeans.inertia_)"
      ],
      "metadata": {
        "id": "1TRXRhONsYS1",
        "colab": {
          "base_uri": "https://localhost:8080/"
        },
        "outputId": "b45efdbd-2177-400c-e88d-892477b50e47"
      },
      "execution_count": null,
      "outputs": [
        {
          "output_type": "stream",
          "name": "stdout",
          "text": [
            "12984.040441086214\n",
            "12974.669438934707\n",
            "13132.919232154443\n",
            "12817.838911845844\n",
            "13227.764091865394\n",
            "13077.532040489803\n"
          ]
        }
      ]
    },
    {
      "cell_type": "code",
      "source": [
        "Sum_of_squared_distances = []\n",
        "K = range(25,50)\n",
        "for k in K:\n",
        "    km = KMeans(n_clusters=k)\n",
        "    km = km.fit(coordinates)\n",
        "    Sum_of_squared_distances.append(km.inertia_)"
      ],
      "metadata": {
        "id": "I3CbIVNnsldy"
      },
      "execution_count": null,
      "outputs": []
    },
    {
      "cell_type": "code",
      "source": [
        "speed_weather = clean_acc_df[['Speed_limit','Weather_Conditions']]\n",
        "\n",
        "kmeans = KMeans(n_clusters= 6)\n",
        "kmeans.fit(speed_weather)\n",
        "\n",
        "labels = kmeans.predict(speed_weather)\n",
        "\n",
        "centroids = kmeans.cluster_centers_\n",
        "centroids"
      ],
      "metadata": {
        "id": "OPZ_UHMAswpC",
        "colab": {
          "base_uri": "https://localhost:8080/"
        },
        "outputId": "035d74ad-f7f2-4d0b-eb55-a80ce2061690"
      },
      "execution_count": null,
      "outputs": [
        {
          "output_type": "execute_result",
          "data": {
            "text/plain": [
              "array([[60.        ,  1.61891966],\n",
              "       [30.        ,  1.67088955],\n",
              "       [19.85795214,  1.78650545],\n",
              "       [40.        ,  1.54196188],\n",
              "       [70.        ,  1.56060394],\n",
              "       [50.        ,  1.53880407]])"
            ]
          },
          "metadata": {},
          "execution_count": 179
        }
      ]
    },
    {
      "cell_type": "code",
      "source": [
        "#fig = plt.figure(figsize = (5,5))\n",
        "#colors = map(lambda x: colmap[x+1], labels)\n",
        "#plt.scatter(speed_weather['Speed_limit'], speed_weather['Weather_Conditions'], color = 'blue')\n",
        "#plt.xlim(0, 10)\n",
        "#plt.ylim(-10, 80)\n",
        "#plt.scatter(centroids[:,0],centroids[:,1], color = 'orange')\n",
        "#plt.show()"
      ],
      "metadata": {
        "id": "KneojnNJsyRs"
      },
      "execution_count": null,
      "outputs": []
    },
    {
      "cell_type": "markdown",
      "source": [
        "- Assuming weather is contributing to accident severity. \n",
        "- What other factors do you think might contribute. Make a list of your top 5. \n",
        "- Light Conditions\n",
        "- Road surface condition\n",
        "- Carriage hazards\n",
        "- Special Conditions at site\n",
        "- Urban or rural areas"
      ],
      "metadata": {
        "id": "kyY_WmoBxAHI"
      }
    },
    {
      "cell_type": "code",
      "source": [
        "acc = acc_df.reset_index(drop=True)\n",
        "\n",
        "predictor = ['Light_Conditions', 'Special_Conditions_at_Site', 'Road_Surface_Conditions', 'Carriageway_Hazards','Urban_or_Rural_Area']\n",
        "target = ['Accident_Severity']\n"
      ],
      "metadata": {
        "id": "w5ZkzDWBtEKC"
      },
      "execution_count": null,
      "outputs": []
    },
    {
      "cell_type": "code",
      "source": [
        "predictor = ['Light_Conditions', 'Special_Conditions_at_Site', 'Road_Surface_Conditions', 'Carriageway_Hazards','Urban_or_Rural_Area']\n",
        "\n",
        "target = ['Accident_Severity']"
      ],
      "metadata": {
        "id": "d_cJGqJTtENr"
      },
      "execution_count": null,
      "outputs": []
    },
    {
      "cell_type": "code",
      "source": [
        "X = acc.loc[:, predictor].values\n",
        "y = acc.loc[:, target].values"
      ],
      "metadata": {
        "id": "peJauaU1tERF"
      },
      "execution_count": null,
      "outputs": []
    },
    {
      "cell_type": "code",
      "source": [
        "from sklearn.decomposition import PCA\n",
        "\n",
        "pca = PCA(n_components=2)\n",
        "principalComponents = pca.fit_transform(X)\n",
        "principal_df = pd.DataFrame(data = principalComponents, columns = ['principal component 1', 'principal component 2'])"
      ],
      "metadata": {
        "id": "dqA3dq0KtEUQ"
      },
      "execution_count": null,
      "outputs": []
    },
    {
      "cell_type": "code",
      "source": [
        "final = pd.concat([principal_df, acc_df[target]], axis = 1)\n",
        "final[:2]"
      ],
      "metadata": {
        "id": "lGS6Av5AtEZi",
        "colab": {
          "base_uri": "https://localhost:8080/",
          "height": 112
        },
        "outputId": "2a2c2642-99a8-42f5-e288-e3a98f7a1e7b"
      },
      "execution_count": null,
      "outputs": [
        {
          "output_type": "execute_result",
          "data": {
            "text/plain": [
              "   principal component 1  principal component 2  Accident_Severity\n",
              "0              -1.071641              -0.145090                  3\n",
              "1               1.920261              -0.194409                  3"
            ],
            "text/html": [
              "\n",
              "  <div id=\"df-b1ff32b8-e961-4604-895e-3d1da7b77ac5\">\n",
              "    <div class=\"colab-df-container\">\n",
              "      <div>\n",
              "<style scoped>\n",
              "    .dataframe tbody tr th:only-of-type {\n",
              "        vertical-align: middle;\n",
              "    }\n",
              "\n",
              "    .dataframe tbody tr th {\n",
              "        vertical-align: top;\n",
              "    }\n",
              "\n",
              "    .dataframe thead th {\n",
              "        text-align: right;\n",
              "    }\n",
              "</style>\n",
              "<table border=\"1\" class=\"dataframe\">\n",
              "  <thead>\n",
              "    <tr style=\"text-align: right;\">\n",
              "      <th></th>\n",
              "      <th>principal component 1</th>\n",
              "      <th>principal component 2</th>\n",
              "      <th>Accident_Severity</th>\n",
              "    </tr>\n",
              "  </thead>\n",
              "  <tbody>\n",
              "    <tr>\n",
              "      <th>0</th>\n",
              "      <td>-1.071641</td>\n",
              "      <td>-0.145090</td>\n",
              "      <td>3</td>\n",
              "    </tr>\n",
              "    <tr>\n",
              "      <th>1</th>\n",
              "      <td>1.920261</td>\n",
              "      <td>-0.194409</td>\n",
              "      <td>3</td>\n",
              "    </tr>\n",
              "  </tbody>\n",
              "</table>\n",
              "</div>\n",
              "      <button class=\"colab-df-convert\" onclick=\"convertToInteractive('df-b1ff32b8-e961-4604-895e-3d1da7b77ac5')\"\n",
              "              title=\"Convert this dataframe to an interactive table.\"\n",
              "              style=\"display:none;\">\n",
              "        \n",
              "  <svg xmlns=\"http://www.w3.org/2000/svg\" height=\"24px\"viewBox=\"0 0 24 24\"\n",
              "       width=\"24px\">\n",
              "    <path d=\"M0 0h24v24H0V0z\" fill=\"none\"/>\n",
              "    <path d=\"M18.56 5.44l.94 2.06.94-2.06 2.06-.94-2.06-.94-.94-2.06-.94 2.06-2.06.94zm-11 1L8.5 8.5l.94-2.06 2.06-.94-2.06-.94L8.5 2.5l-.94 2.06-2.06.94zm10 10l.94 2.06.94-2.06 2.06-.94-2.06-.94-.94-2.06-.94 2.06-2.06.94z\"/><path d=\"M17.41 7.96l-1.37-1.37c-.4-.4-.92-.59-1.43-.59-.52 0-1.04.2-1.43.59L10.3 9.45l-7.72 7.72c-.78.78-.78 2.05 0 2.83L4 21.41c.39.39.9.59 1.41.59.51 0 1.02-.2 1.41-.59l7.78-7.78 2.81-2.81c.8-.78.8-2.07 0-2.86zM5.41 20L4 18.59l7.72-7.72 1.47 1.35L5.41 20z\"/>\n",
              "  </svg>\n",
              "      </button>\n",
              "      \n",
              "  <style>\n",
              "    .colab-df-container {\n",
              "      display:flex;\n",
              "      flex-wrap:wrap;\n",
              "      gap: 12px;\n",
              "    }\n",
              "\n",
              "    .colab-df-convert {\n",
              "      background-color: #E8F0FE;\n",
              "      border: none;\n",
              "      border-radius: 50%;\n",
              "      cursor: pointer;\n",
              "      display: none;\n",
              "      fill: #1967D2;\n",
              "      height: 32px;\n",
              "      padding: 0 0 0 0;\n",
              "      width: 32px;\n",
              "    }\n",
              "\n",
              "    .colab-df-convert:hover {\n",
              "      background-color: #E2EBFA;\n",
              "      box-shadow: 0px 1px 2px rgba(60, 64, 67, 0.3), 0px 1px 3px 1px rgba(60, 64, 67, 0.15);\n",
              "      fill: #174EA6;\n",
              "    }\n",
              "\n",
              "    [theme=dark] .colab-df-convert {\n",
              "      background-color: #3B4455;\n",
              "      fill: #D2E3FC;\n",
              "    }\n",
              "\n",
              "    [theme=dark] .colab-df-convert:hover {\n",
              "      background-color: #434B5C;\n",
              "      box-shadow: 0px 1px 3px 1px rgba(0, 0, 0, 0.15);\n",
              "      filter: drop-shadow(0px 1px 2px rgba(0, 0, 0, 0.3));\n",
              "      fill: #FFFFFF;\n",
              "    }\n",
              "  </style>\n",
              "\n",
              "      <script>\n",
              "        const buttonEl =\n",
              "          document.querySelector('#df-b1ff32b8-e961-4604-895e-3d1da7b77ac5 button.colab-df-convert');\n",
              "        buttonEl.style.display =\n",
              "          google.colab.kernel.accessAllowed ? 'block' : 'none';\n",
              "\n",
              "        async function convertToInteractive(key) {\n",
              "          const element = document.querySelector('#df-b1ff32b8-e961-4604-895e-3d1da7b77ac5');\n",
              "          const dataTable =\n",
              "            await google.colab.kernel.invokeFunction('convertToInteractive',\n",
              "                                                     [key], {});\n",
              "          if (!dataTable) return;\n",
              "\n",
              "          const docLinkHtml = 'Like what you see? Visit the ' +\n",
              "            '<a target=\"_blank\" href=https://colab.research.google.com/notebooks/data_table.ipynb>data table notebook</a>'\n",
              "            + ' to learn more about interactive tables.';\n",
              "          element.innerHTML = '';\n",
              "          dataTable['output_type'] = 'display_data';\n",
              "          await google.colab.output.renderOutput(dataTable, element);\n",
              "          const docLink = document.createElement('div');\n",
              "          docLink.innerHTML = docLinkHtml;\n",
              "          element.appendChild(docLink);\n",
              "        }\n",
              "      </script>\n",
              "    </div>\n",
              "  </div>\n",
              "  "
            ]
          },
          "metadata": {},
          "execution_count": 185
        }
      ]
    },
    {
      "cell_type": "code",
      "source": [
        "one = final[final['Accident_Severity'] == 1]\n",
        "two = final[final['Accident_Severity'] == 2]\n",
        "three = final[final['Accident_Severity'] == 3]\n",
        "\n",
        "fig = plt.figure(figsize=(8, 8))\n",
        "ax1 = fig.add_subplot(111)\n",
        "\n",
        "ax1.scatter(one['principal component 1'], one['principal component 2'], color='blue', s=25)\n",
        "ax1.scatter(two['principal component 1'], two['principal component 2'], color='green', s=15)\n",
        "ax1.scatter(three['principal component 1'], three['principal component 2'], color='red', s=1)\n",
        "\n",
        "#plt.xlim(6.45, 6.65)\n",
        "#plt.ylim(-2, 10)\n",
        "\n",
        "plt.show()"
      ],
      "metadata": {
        "id": "rpr9lxpIvLl1",
        "colab": {
          "base_uri": "https://localhost:8080/",
          "height": 483
        },
        "outputId": "ff0571f5-487a-45aa-a1f5-561eead03694"
      },
      "execution_count": null,
      "outputs": [
        {
          "output_type": "display_data",
          "data": {
            "text/plain": [
              "<Figure size 576x576 with 1 Axes>"
            ],
            "image/png": "[encoded data removed]"
          },
          "metadata": {
            "needs_background": "light"
          }
        }
      ]
    },
    {
      "cell_type": "markdown",
      "source": [
        "#### Modify your code so that you have Latitude, Longitude, Day of the week, and Weather conditions as the input to the PCA. "
      ],
      "metadata": {
        "id": "X2z3gGRYwbTx"
      }
    },
    {
      "cell_type": "code",
      "source": [
        "features = ['Longitude', 'Latitude', 'Day_of_Week', 'Weather_Conditions']\n",
        "target = ['Accident_Severity']"
      ],
      "metadata": {
        "id": "OftPieM0wRP8"
      },
      "execution_count": null,
      "outputs": []
    },
    {
      "cell_type": "code",
      "source": [
        "x = acc_df.loc[:, features].values\n",
        "y = acc_df.loc[:, target].values"
      ],
      "metadata": {
        "id": "LKKEx5LYx2Px"
      },
      "execution_count": null,
      "outputs": []
    },
    {
      "cell_type": "code",
      "source": [
        "pca = PCA(n_components=2)\n",
        "principalComponents = pca.fit_transform(x)\n",
        "principal_df = pd.DataFrame(data = principalComponents, columns = ['principal component 1', 'principal component 2'])"
      ],
      "metadata": {
        "id": "WpO85S3Ry0Xv"
      },
      "execution_count": null,
      "outputs": []
    },
    {
      "cell_type": "code",
      "source": [
        "final_02 = pd.concat([principal_df, acc_df[target]], axis = 1)\n",
        "final_02[:2]"
      ],
      "metadata": {
        "id": "H6oeQF59y0bO",
        "colab": {
          "base_uri": "https://localhost:8080/",
          "height": 112
        },
        "outputId": "70bc4e4d-2de8-4e4e-ffa6-6a318ec00988"
      },
      "execution_count": null,
      "outputs": [
        {
          "output_type": "execute_result",
          "data": {
            "text/plain": [
              "   principal component 1  principal component 2  Accident_Severity\n",
              "0               -2.18042              -0.303713                  3\n",
              "1               -1.18897              -0.427517                  3"
            ],
            "text/html": [
              "\n",
              "  <div id=\"df-005b2911-705b-4b29-b7c5-b50d0e62c459\">\n",
              "    <div class=\"colab-df-container\">\n",
              "      <div>\n",
              "<style scoped>\n",
              "    .dataframe tbody tr th:only-of-type {\n",
              "        vertical-align: middle;\n",
              "    }\n",
              "\n",
              "    .dataframe tbody tr th {\n",
              "        vertical-align: top;\n",
              "    }\n",
              "\n",
              "    .dataframe thead th {\n",
              "        text-align: right;\n",
              "    }\n",
              "</style>\n",
              "<table border=\"1\" class=\"dataframe\">\n",
              "  <thead>\n",
              "    <tr style=\"text-align: right;\">\n",
              "      <th></th>\n",
              "      <th>principal component 1</th>\n",
              "      <th>principal component 2</th>\n",
              "      <th>Accident_Severity</th>\n",
              "    </tr>\n",
              "  </thead>\n",
              "  <tbody>\n",
              "    <tr>\n",
              "      <th>0</th>\n",
              "      <td>-2.18042</td>\n",
              "      <td>-0.303713</td>\n",
              "      <td>3</td>\n",
              "    </tr>\n",
              "    <tr>\n",
              "      <th>1</th>\n",
              "      <td>-1.18897</td>\n",
              "      <td>-0.427517</td>\n",
              "      <td>3</td>\n",
              "    </tr>\n",
              "  </tbody>\n",
              "</table>\n",
              "</div>\n",
              "      <button class=\"colab-df-convert\" onclick=\"convertToInteractive('df-005b2911-705b-4b29-b7c5-b50d0e62c459')\"\n",
              "              title=\"Convert this dataframe to an interactive table.\"\n",
              "              style=\"display:none;\">\n",
              "        \n",
              "  <svg xmlns=\"http://www.w3.org/2000/svg\" height=\"24px\"viewBox=\"0 0 24 24\"\n",
              "       width=\"24px\">\n",
              "    <path d=\"M0 0h24v24H0V0z\" fill=\"none\"/>\n",
              "    <path d=\"M18.56 5.44l.94 2.06.94-2.06 2.06-.94-2.06-.94-.94-2.06-.94 2.06-2.06.94zm-11 1L8.5 8.5l.94-2.06 2.06-.94-2.06-.94L8.5 2.5l-.94 2.06-2.06.94zm10 10l.94 2.06.94-2.06 2.06-.94-2.06-.94-.94-2.06-.94 2.06-2.06.94z\"/><path d=\"M17.41 7.96l-1.37-1.37c-.4-.4-.92-.59-1.43-.59-.52 0-1.04.2-1.43.59L10.3 9.45l-7.72 7.72c-.78.78-.78 2.05 0 2.83L4 21.41c.39.39.9.59 1.41.59.51 0 1.02-.2 1.41-.59l7.78-7.78 2.81-2.81c.8-.78.8-2.07 0-2.86zM5.41 20L4 18.59l7.72-7.72 1.47 1.35L5.41 20z\"/>\n",
              "  </svg>\n",
              "      </button>\n",
              "      \n",
              "  <style>\n",
              "    .colab-df-container {\n",
              "      display:flex;\n",
              "      flex-wrap:wrap;\n",
              "      gap: 12px;\n",
              "    }\n",
              "\n",
              "    .colab-df-convert {\n",
              "      background-color: #E8F0FE;\n",
              "      border: none;\n",
              "      border-radius: 50%;\n",
              "      cursor: pointer;\n",
              "      display: none;\n",
              "      fill: #1967D2;\n",
              "      height: 32px;\n",
              "      padding: 0 0 0 0;\n",
              "      width: 32px;\n",
              "    }\n",
              "\n",
              "    .colab-df-convert:hover {\n",
              "      background-color: #E2EBFA;\n",
              "      box-shadow: 0px 1px 2px rgba(60, 64, 67, 0.3), 0px 1px 3px 1px rgba(60, 64, 67, 0.15);\n",
              "      fill: #174EA6;\n",
              "    }\n",
              "\n",
              "    [theme=dark] .colab-df-convert {\n",
              "      background-color: #3B4455;\n",
              "      fill: #D2E3FC;\n",
              "    }\n",
              "\n",
              "    [theme=dark] .colab-df-convert:hover {\n",
              "      background-color: #434B5C;\n",
              "      box-shadow: 0px 1px 3px 1px rgba(0, 0, 0, 0.15);\n",
              "      filter: drop-shadow(0px 1px 2px rgba(0, 0, 0, 0.3));\n",
              "      fill: #FFFFFF;\n",
              "    }\n",
              "  </style>\n",
              "\n",
              "      <script>\n",
              "        const buttonEl =\n",
              "          document.querySelector('#df-005b2911-705b-4b29-b7c5-b50d0e62c459 button.colab-df-convert');\n",
              "        buttonEl.style.display =\n",
              "          google.colab.kernel.accessAllowed ? 'block' : 'none';\n",
              "\n",
              "        async function convertToInteractive(key) {\n",
              "          const element = document.querySelector('#df-005b2911-705b-4b29-b7c5-b50d0e62c459');\n",
              "          const dataTable =\n",
              "            await google.colab.kernel.invokeFunction('convertToInteractive',\n",
              "                                                     [key], {});\n",
              "          if (!dataTable) return;\n",
              "\n",
              "          const docLinkHtml = 'Like what you see? Visit the ' +\n",
              "            '<a target=\"_blank\" href=https://colab.research.google.com/notebooks/data_table.ipynb>data table notebook</a>'\n",
              "            + ' to learn more about interactive tables.';\n",
              "          element.innerHTML = '';\n",
              "          dataTable['output_type'] = 'display_data';\n",
              "          await google.colab.output.renderOutput(dataTable, element);\n",
              "          const docLink = document.createElement('div');\n",
              "          docLink.innerHTML = docLinkHtml;\n",
              "          element.appendChild(docLink);\n",
              "        }\n",
              "      </script>\n",
              "    </div>\n",
              "  </div>\n",
              "  "
            ]
          },
          "metadata": {},
          "execution_count": 190
        }
      ]
    },
    {
      "cell_type": "code",
      "source": [
        "one = final_02[final_02['Accident_Severity'] == 1]\n",
        "two = final_02[final_02['Accident_Severity'] == 2]\n",
        "three = final_02[final_02['Accident_Severity'] == 3]\n",
        "\n",
        "fig = plt.figure(figsize=(8, 8))\n",
        "ax1 = fig.add_subplot(111)\n",
        "\n",
        "ax1.scatter(one['principal component 1'], one['principal component 2'], color='blue', s=25)\n",
        "ax1.scatter(two['principal component 1'], two['principal component 2'], color='green', s=15)\n",
        "ax1.scatter(three['principal component 1'], three['principal component 2'], color='red', s=1)\n",
        "\n",
        "#plt.xlim(6.45, 6.65)\n",
        "#plt.ylim(-2, 10)\n",
        "\n",
        "plt.show()"
      ],
      "metadata": {
        "id": "dl58r-hny0eu",
        "colab": {
          "base_uri": "https://localhost:8080/",
          "height": 483
        },
        "outputId": "d4928b2e-8632-4b3f-f310-6733715acacb"
      },
      "execution_count": null,
      "outputs": [
        {
          "output_type": "display_data",
          "data": {
            "text/plain": [
              "<Figure size 576x576 with 1 Axes>"
            ],
            "image/png": "[encoded data removed]"
          },
          "metadata": {
            "needs_background": "light"
          }
        }
      ]
    },
    {
      "cell_type": "code",
      "source": [
        "veh_df.head(2)"
      ],
      "metadata": {
        "id": "GzGtzdQVy0iN",
        "colab": {
          "base_uri": "https://localhost:8080/",
          "height": 223
        },
        "outputId": "506c4a1c-3611-497b-d958-4f8fd95570d9"
      },
      "execution_count": null,
      "outputs": [
        {
          "output_type": "execute_result",
          "data": {
            "text/plain": [
              "  Accident_Index  Vehicle_Reference  Vehicle_Type  Towing_and_Articulation  \\\n",
              "0  2019010128300                  1             9                        0   \n",
              "1  2019010128300                  2             9                        0   \n",
              "\n",
              "   Vehicle_Manoeuvre  Vehicle_Location-Restricted_Lane  Junction_Location  \\\n",
              "0                 18                                 0                  0   \n",
              "1                 18                                 0                  0   \n",
              "\n",
              "   Skidding_and_Overturning  Hit_Object_in_Carriageway  \\\n",
              "0                         0                          0   \n",
              "1                         0                          0   \n",
              "\n",
              "   Vehicle_Leaving_Carriageway  ...  Journey_Purpose_of_Driver  Sex_of_Driver  \\\n",
              "0                            0  ...                          6              1   \n",
              "1                            0  ...                          6              3   \n",
              "\n",
              "   Age_of_Driver  Age_Band_of_Driver  Engine_Capacity_(CC)  Propulsion_Code  \\\n",
              "0             58                   9                  1390                1   \n",
              "1             35                   6                  1390                1   \n",
              "\n",
              "   Age_of_Vehicle  Driver_IMD_Decile  Driver_Home_Area_Type  \\\n",
              "0               6                  2                      1   \n",
              "1               6                  2                      1   \n",
              "\n",
              "   Vehicle_IMD_Decile  \n",
              "0                   2  \n",
              "1                   2  \n",
              "\n",
              "[2 rows x 23 columns]"
            ],
            "text/html": [
              "\n",
              "  <div id=\"df-a1c6404b-e2c8-4e93-98e1-40589ee90b2f\">\n",
              "    <div class=\"colab-df-container\">\n",
              "      <div>\n",
              "<style scoped>\n",
              "    .dataframe tbody tr th:only-of-type {\n",
              "        vertical-align: middle;\n",
              "    }\n",
              "\n",
              "    .dataframe tbody tr th {\n",
              "        vertical-align: top;\n",
              "    }\n",
              "\n",
              "    .dataframe thead th {\n",
              "        text-align: right;\n",
              "    }\n",
              "</style>\n",
              "<table border=\"1\" class=\"dataframe\">\n",
              "  <thead>\n",
              "    <tr style=\"text-align: right;\">\n",
              "      <th></th>\n",
              "      <th>Accident_Index</th>\n",
              "      <th>Vehicle_Reference</th>\n",
              "      <th>Vehicle_Type</th>\n",
              "      <th>Towing_and_Articulation</th>\n",
              "      <th>Vehicle_Manoeuvre</th>\n",
              "      <th>Vehicle_Location-Restricted_Lane</th>\n",
              "      <th>Junction_Location</th>\n",
              "      <th>Skidding_and_Overturning</th>\n",
              "      <th>Hit_Object_in_Carriageway</th>\n",
              "      <th>Vehicle_Leaving_Carriageway</th>\n",
              "      <th>...</th>\n",
              "      <th>Journey_Purpose_of_Driver</th>\n",
              "      <th>Sex_of_Driver</th>\n",
              "      <th>Age_of_Driver</th>\n",
              "      <th>Age_Band_of_Driver</th>\n",
              "      <th>Engine_Capacity_(CC)</th>\n",
              "      <th>Propulsion_Code</th>\n",
              "      <th>Age_of_Vehicle</th>\n",
              "      <th>Driver_IMD_Decile</th>\n",
              "      <th>Driver_Home_Area_Type</th>\n",
              "      <th>Vehicle_IMD_Decile</th>\n",
              "    </tr>\n",
              "  </thead>\n",
              "  <tbody>\n",
              "    <tr>\n",
              "      <th>0</th>\n",
              "      <td>2019010128300</td>\n",
              "      <td>1</td>\n",
              "      <td>9</td>\n",
              "      <td>0</td>\n",
              "      <td>18</td>\n",
              "      <td>0</td>\n",
              "      <td>0</td>\n",
              "      <td>0</td>\n",
              "      <td>0</td>\n",
              "      <td>0</td>\n",
              "      <td>...</td>\n",
              "      <td>6</td>\n",
              "      <td>1</td>\n",
              "      <td>58</td>\n",
              "      <td>9</td>\n",
              "      <td>1390</td>\n",
              "      <td>1</td>\n",
              "      <td>6</td>\n",
              "      <td>2</td>\n",
              "      <td>1</td>\n",
              "      <td>2</td>\n",
              "    </tr>\n",
              "    <tr>\n",
              "      <th>1</th>\n",
              "      <td>2019010128300</td>\n",
              "      <td>2</td>\n",
              "      <td>9</td>\n",
              "      <td>0</td>\n",
              "      <td>18</td>\n",
              "      <td>0</td>\n",
              "      <td>0</td>\n",
              "      <td>0</td>\n",
              "      <td>0</td>\n",
              "      <td>0</td>\n",
              "      <td>...</td>\n",
              "      <td>6</td>\n",
              "      <td>3</td>\n",
              "      <td>35</td>\n",
              "      <td>6</td>\n",
              "      <td>1390</td>\n",
              "      <td>1</td>\n",
              "      <td>6</td>\n",
              "      <td>2</td>\n",
              "      <td>1</td>\n",
              "      <td>2</td>\n",
              "    </tr>\n",
              "  </tbody>\n",
              "</table>\n",
              "<p>2 rows × 23 columns</p>\n",
              "</div>\n",
              "      <button class=\"colab-df-convert\" onclick=\"convertToInteractive('df-a1c6404b-e2c8-4e93-98e1-40589ee90b2f')\"\n",
              "              title=\"Convert this dataframe to an interactive table.\"\n",
              "              style=\"display:none;\">\n",
              "        \n",
              "  <svg xmlns=\"http://www.w3.org/2000/svg\" height=\"24px\"viewBox=\"0 0 24 24\"\n",
              "       width=\"24px\">\n",
              "    <path d=\"M0 0h24v24H0V0z\" fill=\"none\"/>\n",
              "    <path d=\"M18.56 5.44l.94 2.06.94-2.06 2.06-.94-2.06-.94-.94-2.06-.94 2.06-2.06.94zm-11 1L8.5 8.5l.94-2.06 2.06-.94-2.06-.94L8.5 2.5l-.94 2.06-2.06.94zm10 10l.94 2.06.94-2.06 2.06-.94-2.06-.94-.94-2.06-.94 2.06-2.06.94z\"/><path d=\"M17.41 7.96l-1.37-1.37c-.4-.4-.92-.59-1.43-.59-.52 0-1.04.2-1.43.59L10.3 9.45l-7.72 7.72c-.78.78-.78 2.05 0 2.83L4 21.41c.39.39.9.59 1.41.59.51 0 1.02-.2 1.41-.59l7.78-7.78 2.81-2.81c.8-.78.8-2.07 0-2.86zM5.41 20L4 18.59l7.72-7.72 1.47 1.35L5.41 20z\"/>\n",
              "  </svg>\n",
              "      </button>\n",
              "      \n",
              "  <style>\n",
              "    .colab-df-container {\n",
              "      display:flex;\n",
              "      flex-wrap:wrap;\n",
              "      gap: 12px;\n",
              "    }\n",
              "\n",
              "    .colab-df-convert {\n",
              "      background-color: #E8F0FE;\n",
              "      border: none;\n",
              "      border-radius: 50%;\n",
              "      cursor: pointer;\n",
              "      display: none;\n",
              "      fill: #1967D2;\n",
              "      height: 32px;\n",
              "      padding: 0 0 0 0;\n",
              "      width: 32px;\n",
              "    }\n",
              "\n",
              "    .colab-df-convert:hover {\n",
              "      background-color: #E2EBFA;\n",
              "      box-shadow: 0px 1px 2px rgba(60, 64, 67, 0.3), 0px 1px 3px 1px rgba(60, 64, 67, 0.15);\n",
              "      fill: #174EA6;\n",
              "    }\n",
              "\n",
              "    [theme=dark] .colab-df-convert {\n",
              "      background-color: #3B4455;\n",
              "      fill: #D2E3FC;\n",
              "    }\n",
              "\n",
              "    [theme=dark] .colab-df-convert:hover {\n",
              "      background-color: #434B5C;\n",
              "      box-shadow: 0px 1px 3px 1px rgba(0, 0, 0, 0.15);\n",
              "      filter: drop-shadow(0px 1px 2px rgba(0, 0, 0, 0.3));\n",
              "      fill: #FFFFFF;\n",
              "    }\n",
              "  </style>\n",
              "\n",
              "      <script>\n",
              "        const buttonEl =\n",
              "          document.querySelector('#df-a1c6404b-e2c8-4e93-98e1-40589ee90b2f button.colab-df-convert');\n",
              "        buttonEl.style.display =\n",
              "          google.colab.kernel.accessAllowed ? 'block' : 'none';\n",
              "\n",
              "        async function convertToInteractive(key) {\n",
              "          const element = document.querySelector('#df-a1c6404b-e2c8-4e93-98e1-40589ee90b2f');\n",
              "          const dataTable =\n",
              "            await google.colab.kernel.invokeFunction('convertToInteractive',\n",
              "                                                     [key], {});\n",
              "          if (!dataTable) return;\n",
              "\n",
              "          const docLinkHtml = 'Like what you see? Visit the ' +\n",
              "            '<a target=\"_blank\" href=https://colab.research.google.com/notebooks/data_table.ipynb>data table notebook</a>'\n",
              "            + ' to learn more about interactive tables.';\n",
              "          element.innerHTML = '';\n",
              "          dataTable['output_type'] = 'display_data';\n",
              "          await google.colab.output.renderOutput(dataTable, element);\n",
              "          const docLink = document.createElement('div');\n",
              "          docLink.innerHTML = docLinkHtml;\n",
              "          element.appendChild(docLink);\n",
              "        }\n",
              "      </script>\n",
              "    </div>\n",
              "  </div>\n",
              "  "
            ]
          },
          "metadata": {},
          "execution_count": 192
        }
      ]
    },
    {
      "cell_type": "markdown",
      "source": [
        "### Which variables actually are the best at predicting fatalities within the accident database. "
      ],
      "metadata": {
        "id": "iOhIukvN1HRH"
      }
    },
    {
      "cell_type": "code",
      "source": [
        "from sklearn.feature_selection import SelectKBest, chi2, f_regression, f_classif\n",
        "\n",
        "acc_df.columns"
      ],
      "metadata": {
        "id": "jGNild2Uy0pm",
        "colab": {
          "base_uri": "https://localhost:8080/"
        },
        "outputId": "03060222-e58b-4d23-c88f-e565d52cc846"
      },
      "execution_count": null,
      "outputs": [
        {
          "output_type": "execute_result",
          "data": {
            "text/plain": [
              "Index(['Accident_Index', 'Location_Easting_OSGR', 'Location_Northing_OSGR',\n",
              "       'Longitude', 'Latitude', 'Police_Force', 'Accident_Severity',\n",
              "       'Number_of_Vehicles', 'Number_of_Casualties', 'Date', 'Day_of_Week',\n",
              "       'Time', 'Local_Authority_(District)', 'Local_Authority_(Highway)',\n",
              "       '1st_Road_Class', '1st_Road_Number', 'Road_Type', 'Speed_limit',\n",
              "       'Junction_Detail', 'Junction_Control', '2nd_Road_Class',\n",
              "       '2nd_Road_Number', 'Pedestrian_Crossing-Human_Control',\n",
              "       'Pedestrian_Crossing-Physical_Facilities', 'Light_Conditions',\n",
              "       'Weather_Conditions', 'Road_Surface_Conditions',\n",
              "       'Special_Conditions_at_Site', 'Carriageway_Hazards',\n",
              "       'Urban_or_Rural_Area', 'Did_Police_Officer_Attend_Scene_of_Accident',\n",
              "       'LSOA_of_Accident_Location', 'daylight', 'geometry', 'radius'],\n",
              "      dtype='object')"
            ]
          },
          "metadata": {},
          "execution_count": 193
        }
      ]
    },
    {
      "cell_type": "code",
      "source": [
        "predictors = [\"Weather_Conditions\", \"Speed_limit\", \"Road_Surface_Conditions\", \"Light_Conditions\"]\n",
        "\n",
        "# to filter the required features\n",
        "accident = acc_df\n",
        "accident = accident.reset_index(drop=True)\n",
        "accident = accident.filter(['Weather_Conditions','Speed_limit','Road_Surface_Conditions', 'Light_Conditions', 'Accident_Severity'], axis=1)\n",
        "accident_df = accident[(accident['Weather_Conditions']>0) & (accident['Speed_limit']>0) & (accident['Road_Surface_Conditions']>0) & (accident['Light_Conditions']>0)]"
      ],
      "metadata": {
        "id": "cxH6ySEF1kxI"
      },
      "execution_count": null,
      "outputs": []
    },
    {
      "cell_type": "markdown",
      "source": [
        "#### Perform the feature selection\n",
        "\n",
        "\n"
      ],
      "metadata": {
        "id": "BySTR58F6K22"
      }
    },
    {
      "cell_type": "code",
      "source": [
        "selector = SelectKBest(f_classif, k=\"all\")\n",
        "selector.fit(accident_df[predictors], accident_df[\"Accident_Severity\"])"
      ],
      "metadata": {
        "id": "3jD69jiU6TwX",
        "colab": {
          "base_uri": "https://localhost:8080/"
        },
        "outputId": "9db89e04-5624-4fc5-8113-a9d8d884c3b5"
      },
      "execution_count": null,
      "outputs": [
        {
          "output_type": "execute_result",
          "data": {
            "text/plain": [
              "SelectKBest(k='all')"
            ]
          },
          "metadata": {},
          "execution_count": 195
        }
      ]
    },
    {
      "cell_type": "code",
      "source": [
        "# Here we will get the p-values for each feature and then transform from p-values into some scores\n",
        "scores = -np.log10(selector.pvalues_)"
      ],
      "metadata": {
        "id": "DlNG95836ukU"
      },
      "execution_count": null,
      "outputs": []
    },
    {
      "cell_type": "code",
      "source": [
        "# Use plt to plot the scores!  \n",
        "plt.bar(range(len(predictors)), scores)\n",
        "plt.xticks(range(len(predictors)), predictors, rotation='vertical')\n",
        "plt.show()\n"
      ],
      "metadata": {
        "id": "85y78Fvv60v8",
        "colab": {
          "base_uri": "https://localhost:8080/",
          "height": 381
        },
        "outputId": "da4fc393-94fd-4c47-9b8c-3cd8be14cec2"
      },
      "execution_count": null,
      "outputs": [
        {
          "output_type": "display_data",
          "data": {
            "text/plain": [
              "<Figure size 432x288 with 1 Axes>"
            ],
            "image/png": "[encoded data removed]"
          },
          "metadata": {
            "needs_background": "light"
          }
        }
      ]
    },
    {
      "cell_type": "markdown",
      "source": [
        "#### This shows that Speed_limit is the main factor out of the ones that we have looked at. \n",
        "#### Question: are you surprised by this at all?\n"
      ],
      "metadata": {
        "id": "4BIh3ZVm7FKM"
      }
    },
    {
      "cell_type": "code",
      "source": [
        "#Expand the features that you are considering. Which ones at the top X (where X might be 4, 5, or so)?\n",
        "\n",
        "further_predictors = [\"Weather_Conditions\", \"Speed_limit\", \"Road_Surface_Conditions\", \"Light_Conditions\", \"Road_Type\",\n",
        "                      \"Urban_or_Rural_Area\",\"Carriageway_Hazards\", \"Special_Conditions_at_Site\"]\n",
        "\n",
        "accidents_df = clean_acc_df.dropna()\n",
        "accidents_df.reset_index(drop=True)\n",
        "\n",
        "accidents_df = accidents_df.filter(['Weather_Conditions','Speed_limit','Road_Surface_Conditions', 'Light_Conditions',\n",
        "                          'Road_Type','Urban_or_Rural_Area','Carriageway_Hazards','Special_Conditions_at_Site','Accident_Severity'], axis=1)\n",
        "\n",
        "\n",
        "\n",
        "accidents_df01 = accidents_df[(accidents_df['Weather_Conditions']>0) & (accidents_df['Speed_limit']>0) & (accidents_df['Road_Surface_Conditions']>0) & \n",
        "                       (accidents_df['Light_Conditions']>0)& (accidents_df['Road_Type']>0) & (accidents_df['Urban_or_Rural_Area']>0) & (accidents_df['Carriageway_Hazards']>0)\n",
        "                        & (accidents_df['Special_Conditions_at_Site']>0)]\n",
        "\n",
        "accidents_df01.sample(5)"
      ],
      "metadata": {
        "id": "dAJfu_VO7fOU",
        "colab": {
          "base_uri": "https://localhost:8080/",
          "height": 270
        },
        "outputId": "df0de7f1-ddae-4297-b9c7-7a286bf64dd4"
      },
      "execution_count": null,
      "outputs": [
        {
          "output_type": "execute_result",
          "data": {
            "text/plain": [
              "        Weather_Conditions  Speed_limit  Road_Surface_Conditions  \\\n",
              "95233                    1           60                        2   \n",
              "13027                    1           20                        1   \n",
              "111100                   1           60                        1   \n",
              "12573                    1           30                        1   \n",
              "87731                    1           70                        1   \n",
              "\n",
              "        Light_Conditions  Road_Type  Urban_or_Rural_Area  Carriageway_Hazards  \\\n",
              "95233                  1          6                    2                    2   \n",
              "13027                  4          3                    1                    2   \n",
              "111100                 6          6                    2                    2   \n",
              "12573                  1          3                    1                    2   \n",
              "87731                  6          3                    2                    3   \n",
              "\n",
              "        Special_Conditions_at_Site  Accident_Severity  \n",
              "95233                            7                  2  \n",
              "13027                            4                  3  \n",
              "111100                           7                  3  \n",
              "12573                            4                  3  \n",
              "87731                            4                  3  "
            ],
            "text/html": [
              "\n",
              "  <div id=\"df-56e5653f-8b0e-4f4c-9888-edeed094cda5\">\n",
              "    <div class=\"colab-df-container\">\n",
              "      <div>\n",
              "<style scoped>\n",
              "    .dataframe tbody tr th:only-of-type {\n",
              "        vertical-align: middle;\n",
              "    }\n",
              "\n",
              "    .dataframe tbody tr th {\n",
              "        vertical-align: top;\n",
              "    }\n",
              "\n",
              "    .dataframe thead th {\n",
              "        text-align: right;\n",
              "    }\n",
              "</style>\n",
              "<table border=\"1\" class=\"dataframe\">\n",
              "  <thead>\n",
              "    <tr style=\"text-align: right;\">\n",
              "      <th></th>\n",
              "      <th>Weather_Conditions</th>\n",
              "      <th>Speed_limit</th>\n",
              "      <th>Road_Surface_Conditions</th>\n",
              "      <th>Light_Conditions</th>\n",
              "      <th>Road_Type</th>\n",
              "      <th>Urban_or_Rural_Area</th>\n",
              "      <th>Carriageway_Hazards</th>\n",
              "      <th>Special_Conditions_at_Site</th>\n",
              "      <th>Accident_Severity</th>\n",
              "    </tr>\n",
              "  </thead>\n",
              "  <tbody>\n",
              "    <tr>\n",
              "      <th>95233</th>\n",
              "      <td>1</td>\n",
              "      <td>60</td>\n",
              "      <td>2</td>\n",
              "      <td>1</td>\n",
              "      <td>6</td>\n",
              "      <td>2</td>\n",
              "      <td>2</td>\n",
              "      <td>7</td>\n",
              "      <td>2</td>\n",
              "    </tr>\n",
              "    <tr>\n",
              "      <th>13027</th>\n",
              "      <td>1</td>\n",
              "      <td>20</td>\n",
              "      <td>1</td>\n",
              "      <td>4</td>\n",
              "      <td>3</td>\n",
              "      <td>1</td>\n",
              "      <td>2</td>\n",
              "      <td>4</td>\n",
              "      <td>3</td>\n",
              "    </tr>\n",
              "    <tr>\n",
              "      <th>111100</th>\n",
              "      <td>1</td>\n",
              "      <td>60</td>\n",
              "      <td>1</td>\n",
              "      <td>6</td>\n",
              "      <td>6</td>\n",
              "      <td>2</td>\n",
              "      <td>2</td>\n",
              "      <td>7</td>\n",
              "      <td>3</td>\n",
              "    </tr>\n",
              "    <tr>\n",
              "      <th>12573</th>\n",
              "      <td>1</td>\n",
              "      <td>30</td>\n",
              "      <td>1</td>\n",
              "      <td>1</td>\n",
              "      <td>3</td>\n",
              "      <td>1</td>\n",
              "      <td>2</td>\n",
              "      <td>4</td>\n",
              "      <td>3</td>\n",
              "    </tr>\n",
              "    <tr>\n",
              "      <th>87731</th>\n",
              "      <td>1</td>\n",
              "      <td>70</td>\n",
              "      <td>1</td>\n",
              "      <td>6</td>\n",
              "      <td>3</td>\n",
              "      <td>2</td>\n",
              "      <td>3</td>\n",
              "      <td>4</td>\n",
              "      <td>3</td>\n",
              "    </tr>\n",
              "  </tbody>\n",
              "</table>\n",
              "</div>\n",
              "      <button class=\"colab-df-convert\" onclick=\"convertToInteractive('df-56e5653f-8b0e-4f4c-9888-edeed094cda5')\"\n",
              "              title=\"Convert this dataframe to an interactive table.\"\n",
              "              style=\"display:none;\">\n",
              "        \n",
              "  <svg xmlns=\"http://www.w3.org/2000/svg\" height=\"24px\"viewBox=\"0 0 24 24\"\n",
              "       width=\"24px\">\n",
              "    <path d=\"M0 0h24v24H0V0z\" fill=\"none\"/>\n",
              "    <path d=\"M18.56 5.44l.94 2.06.94-2.06 2.06-.94-2.06-.94-.94-2.06-.94 2.06-2.06.94zm-11 1L8.5 8.5l.94-2.06 2.06-.94-2.06-.94L8.5 2.5l-.94 2.06-2.06.94zm10 10l.94 2.06.94-2.06 2.06-.94-2.06-.94-.94-2.06-.94 2.06-2.06.94z\"/><path d=\"M17.41 7.96l-1.37-1.37c-.4-.4-.92-.59-1.43-.59-.52 0-1.04.2-1.43.59L10.3 9.45l-7.72 7.72c-.78.78-.78 2.05 0 2.83L4 21.41c.39.39.9.59 1.41.59.51 0 1.02-.2 1.41-.59l7.78-7.78 2.81-2.81c.8-.78.8-2.07 0-2.86zM5.41 20L4 18.59l7.72-7.72 1.47 1.35L5.41 20z\"/>\n",
              "  </svg>\n",
              "      </button>\n",
              "      \n",
              "  <style>\n",
              "    .colab-df-container {\n",
              "      display:flex;\n",
              "      flex-wrap:wrap;\n",
              "      gap: 12px;\n",
              "    }\n",
              "\n",
              "    .colab-df-convert {\n",
              "      background-color: #E8F0FE;\n",
              "      border: none;\n",
              "      border-radius: 50%;\n",
              "      cursor: pointer;\n",
              "      display: none;\n",
              "      fill: #1967D2;\n",
              "      height: 32px;\n",
              "      padding: 0 0 0 0;\n",
              "      width: 32px;\n",
              "    }\n",
              "\n",
              "    .colab-df-convert:hover {\n",
              "      background-color: #E2EBFA;\n",
              "      box-shadow: 0px 1px 2px rgba(60, 64, 67, 0.3), 0px 1px 3px 1px rgba(60, 64, 67, 0.15);\n",
              "      fill: #174EA6;\n",
              "    }\n",
              "\n",
              "    [theme=dark] .colab-df-convert {\n",
              "      background-color: #3B4455;\n",
              "      fill: #D2E3FC;\n",
              "    }\n",
              "\n",
              "    [theme=dark] .colab-df-convert:hover {\n",
              "      background-color: #434B5C;\n",
              "      box-shadow: 0px 1px 3px 1px rgba(0, 0, 0, 0.15);\n",
              "      filter: drop-shadow(0px 1px 2px rgba(0, 0, 0, 0.3));\n",
              "      fill: #FFFFFF;\n",
              "    }\n",
              "  </style>\n",
              "\n",
              "      <script>\n",
              "        const buttonEl =\n",
              "          document.querySelector('#df-56e5653f-8b0e-4f4c-9888-edeed094cda5 button.colab-df-convert');\n",
              "        buttonEl.style.display =\n",
              "          google.colab.kernel.accessAllowed ? 'block' : 'none';\n",
              "\n",
              "        async function convertToInteractive(key) {\n",
              "          const element = document.querySelector('#df-56e5653f-8b0e-4f4c-9888-edeed094cda5');\n",
              "          const dataTable =\n",
              "            await google.colab.kernel.invokeFunction('convertToInteractive',\n",
              "                                                     [key], {});\n",
              "          if (!dataTable) return;\n",
              "\n",
              "          const docLinkHtml = 'Like what you see? Visit the ' +\n",
              "            '<a target=\"_blank\" href=https://colab.research.google.com/notebooks/data_table.ipynb>data table notebook</a>'\n",
              "            + ' to learn more about interactive tables.';\n",
              "          element.innerHTML = '';\n",
              "          dataTable['output_type'] = 'display_data';\n",
              "          await google.colab.output.renderOutput(dataTable, element);\n",
              "          const docLink = document.createElement('div');\n",
              "          docLink.innerHTML = docLinkHtml;\n",
              "          element.appendChild(docLink);\n",
              "        }\n",
              "      </script>\n",
              "    </div>\n",
              "  </div>\n",
              "  "
            ]
          },
          "metadata": {},
          "execution_count": 198
        }
      ]
    },
    {
      "cell_type": "code",
      "source": [
        "# Perform the feature selection\n",
        "selector = SelectKBest(f_classif, k=\"all\")\n",
        "selector.fit(accidents_df01[further_predictors], accidents_df01[\"Accident_Severity\"])"
      ],
      "metadata": {
        "id": "D_AthhPf8jqq",
        "colab": {
          "base_uri": "https://localhost:8080/"
        },
        "outputId": "3ddef6ec-5875-4768-fdc3-ed5820220e8a"
      },
      "execution_count": null,
      "outputs": [
        {
          "output_type": "execute_result",
          "data": {
            "text/plain": [
              "SelectKBest(k='all')"
            ]
          },
          "metadata": {},
          "execution_count": 199
        }
      ]
    },
    {
      "cell_type": "code",
      "source": [
        "# Here we will get the p-values for each feature and then transform from p-values into some scores\n",
        "scores = -np.log10(selector.pvalues_)"
      ],
      "metadata": {
        "id": "-kJNWNko9ECF"
      },
      "execution_count": null,
      "outputs": []
    },
    {
      "cell_type": "code",
      "source": [
        "# Use plt to plot the scores!  \n",
        "plt.bar(range(len(further_predictors)), scores)\n",
        "plt.xticks(range(len(further_predictors)), further_predictors, rotation='vertical')\n",
        "plt.show()"
      ],
      "metadata": {
        "id": "8V-yDiKo9KXT",
        "colab": {
          "base_uri": "https://localhost:8080/",
          "height": 387
        },
        "outputId": "d2274bc6-7cd0-4035-c795-d8cad53338c9"
      },
      "execution_count": null,
      "outputs": [
        {
          "output_type": "display_data",
          "data": {
            "text/plain": [
              "<Figure size 432x288 with 1 Axes>"
            ],
            "image/png": "[encoded data removed]"
          },
          "metadata": {
            "needs_background": "light"
          }
        }
      ]
    },
    {
      "cell_type": "code",
      "source": [
        "veh_df.columns"
      ],
      "metadata": {
        "colab": {
          "base_uri": "https://localhost:8080/"
        },
        "id": "DbXV_R5r_NSc",
        "outputId": "17417f39-1f07-4889-de8f-1f308049b40f"
      },
      "execution_count": null,
      "outputs": [
        {
          "output_type": "execute_result",
          "data": {
            "text/plain": [
              "Index(['Accident_Index', 'Vehicle_Reference', 'Vehicle_Type',\n",
              "       'Towing_and_Articulation', 'Vehicle_Manoeuvre',\n",
              "       'Vehicle_Location-Restricted_Lane', 'Junction_Location',\n",
              "       'Skidding_and_Overturning', 'Hit_Object_in_Carriageway',\n",
              "       'Vehicle_Leaving_Carriageway', 'Hit_Object_off_Carriageway',\n",
              "       '1st_Point_of_Impact', 'Was_Vehicle_Left_Hand_Drive?',\n",
              "       'Journey_Purpose_of_Driver', 'Sex_of_Driver', 'Age_of_Driver',\n",
              "       'Age_Band_of_Driver', 'Engine_Capacity_(CC)', 'Propulsion_Code',\n",
              "       'Age_of_Vehicle', 'Driver_IMD_Decile', 'Driver_Home_Area_Type',\n",
              "       'Vehicle_IMD_Decile'],\n",
              "      dtype='object')"
            ]
          },
          "metadata": {},
          "execution_count": 202
        }
      ]
    },
    {
      "cell_type": "code",
      "source": [
        "total_combined = pd.merge(acc_df, veh_df, on = ['Accident_Index']) #Combine all\n",
        "total_combined.head(2)"
      ],
      "metadata": {
        "id": "aBBQoySaCLWi",
        "colab": {
          "base_uri": "https://localhost:8080/",
          "height": 205
        },
        "outputId": "73036b19-6a63-4986-9863-4d8825b48bbd"
      },
      "execution_count": null,
      "outputs": [
        {
          "output_type": "execute_result",
          "data": {
            "text/plain": [
              "  Accident_Index  Location_Easting_OSGR  Location_Northing_OSGR  Longitude  \\\n",
              "0  2019010128300               528218.0                180407.0  -0.153842   \n",
              "1  2019010128300               528218.0                180407.0  -0.153842   \n",
              "\n",
              "    Latitude  Police_Force  Accident_Severity  Number_of_Vehicles  \\\n",
              "0  51.508057             1                  3                   2   \n",
              "1  51.508057             1                  3                   2   \n",
              "\n",
              "   Number_of_Casualties        Date  ...  Journey_Purpose_of_Driver  \\\n",
              "0                     3  18/02/2019  ...                          6   \n",
              "1                     3  18/02/2019  ...                          6   \n",
              "\n",
              "  Sex_of_Driver  Age_of_Driver Age_Band_of_Driver  Engine_Capacity_(CC)  \\\n",
              "0             1             58                  9                  1390   \n",
              "1             3             35                  6                  1390   \n",
              "\n",
              "   Propulsion_Code  Age_of_Vehicle  Driver_IMD_Decile  Driver_Home_Area_Type  \\\n",
              "0                1               6                  2                      1   \n",
              "1                1               6                  2                      1   \n",
              "\n",
              "   Vehicle_IMD_Decile  \n",
              "0                   2  \n",
              "1                   2  \n",
              "\n",
              "[2 rows x 57 columns]"
            ],
            "text/html": [
              "\n",
              "  <div id=\"df-45bf8be7-1972-4b8b-9320-1354269d6163\">\n",
              "    <div class=\"colab-df-container\">\n",
              "      <div>\n",
              "<style scoped>\n",
              "    .dataframe tbody tr th:only-of-type {\n",
              "        vertical-align: middle;\n",
              "    }\n",
              "\n",
              "    .dataframe tbody tr th {\n",
              "        vertical-align: top;\n",
              "    }\n",
              "\n",
              "    .dataframe thead th {\n",
              "        text-align: right;\n",
              "    }\n",
              "</style>\n",
              "<table border=\"1\" class=\"dataframe\">\n",
              "  <thead>\n",
              "    <tr style=\"text-align: right;\">\n",
              "      <th></th>\n",
              "      <th>Accident_Index</th>\n",
              "      <th>Location_Easting_OSGR</th>\n",
              "      <th>Location_Northing_OSGR</th>\n",
              "      <th>Longitude</th>\n",
              "      <th>Latitude</th>\n",
              "      <th>Police_Force</th>\n",
              "      <th>Accident_Severity</th>\n",
              "      <th>Number_of_Vehicles</th>\n",
              "      <th>Number_of_Casualties</th>\n",
              "      <th>Date</th>\n",
              "      <th>...</th>\n",
              "      <th>Journey_Purpose_of_Driver</th>\n",
              "      <th>Sex_of_Driver</th>\n",
              "      <th>Age_of_Driver</th>\n",
              "      <th>Age_Band_of_Driver</th>\n",
              "      <th>Engine_Capacity_(CC)</th>\n",
              "      <th>Propulsion_Code</th>\n",
              "      <th>Age_of_Vehicle</th>\n",
              "      <th>Driver_IMD_Decile</th>\n",
              "      <th>Driver_Home_Area_Type</th>\n",
              "      <th>Vehicle_IMD_Decile</th>\n",
              "    </tr>\n",
              "  </thead>\n",
              "  <tbody>\n",
              "    <tr>\n",
              "      <th>0</th>\n",
              "      <td>2019010128300</td>\n",
              "      <td>528218.0</td>\n",
              "      <td>180407.0</td>\n",
              "      <td>-0.153842</td>\n",
              "      <td>51.508057</td>\n",
              "      <td>1</td>\n",
              "      <td>3</td>\n",
              "      <td>2</td>\n",
              "      <td>3</td>\n",
              "      <td>18/02/2019</td>\n",
              "      <td>...</td>\n",
              "      <td>6</td>\n",
              "      <td>1</td>\n",
              "      <td>58</td>\n",
              "      <td>9</td>\n",
              "      <td>1390</td>\n",
              "      <td>1</td>\n",
              "      <td>6</td>\n",
              "      <td>2</td>\n",
              "      <td>1</td>\n",
              "      <td>2</td>\n",
              "    </tr>\n",
              "    <tr>\n",
              "      <th>1</th>\n",
              "      <td>2019010128300</td>\n",
              "      <td>528218.0</td>\n",
              "      <td>180407.0</td>\n",
              "      <td>-0.153842</td>\n",
              "      <td>51.508057</td>\n",
              "      <td>1</td>\n",
              "      <td>3</td>\n",
              "      <td>2</td>\n",
              "      <td>3</td>\n",
              "      <td>18/02/2019</td>\n",
              "      <td>...</td>\n",
              "      <td>6</td>\n",
              "      <td>3</td>\n",
              "      <td>35</td>\n",
              "      <td>6</td>\n",
              "      <td>1390</td>\n",
              "      <td>1</td>\n",
              "      <td>6</td>\n",
              "      <td>2</td>\n",
              "      <td>1</td>\n",
              "      <td>2</td>\n",
              "    </tr>\n",
              "  </tbody>\n",
              "</table>\n",
              "<p>2 rows × 57 columns</p>\n",
              "</div>\n",
              "      <button class=\"colab-df-convert\" onclick=\"convertToInteractive('df-45bf8be7-1972-4b8b-9320-1354269d6163')\"\n",
              "              title=\"Convert this dataframe to an interactive table.\"\n",
              "              style=\"display:none;\">\n",
              "        \n",
              "  <svg xmlns=\"http://www.w3.org/2000/svg\" height=\"24px\"viewBox=\"0 0 24 24\"\n",
              "       width=\"24px\">\n",
              "    <path d=\"M0 0h24v24H0V0z\" fill=\"none\"/>\n",
              "    <path d=\"M18.56 5.44l.94 2.06.94-2.06 2.06-.94-2.06-.94-.94-2.06-.94 2.06-2.06.94zm-11 1L8.5 8.5l.94-2.06 2.06-.94-2.06-.94L8.5 2.5l-.94 2.06-2.06.94zm10 10l.94 2.06.94-2.06 2.06-.94-2.06-.94-.94-2.06-.94 2.06-2.06.94z\"/><path d=\"M17.41 7.96l-1.37-1.37c-.4-.4-.92-.59-1.43-.59-.52 0-1.04.2-1.43.59L10.3 9.45l-7.72 7.72c-.78.78-.78 2.05 0 2.83L4 21.41c.39.39.9.59 1.41.59.51 0 1.02-.2 1.41-.59l7.78-7.78 2.81-2.81c.8-.78.8-2.07 0-2.86zM5.41 20L4 18.59l7.72-7.72 1.47 1.35L5.41 20z\"/>\n",
              "  </svg>\n",
              "      </button>\n",
              "      \n",
              "  <style>\n",
              "    .colab-df-container {\n",
              "      display:flex;\n",
              "      flex-wrap:wrap;\n",
              "      gap: 12px;\n",
              "    }\n",
              "\n",
              "    .colab-df-convert {\n",
              "      background-color: #E8F0FE;\n",
              "      border: none;\n",
              "      border-radius: 50%;\n",
              "      cursor: pointer;\n",
              "      display: none;\n",
              "      fill: #1967D2;\n",
              "      height: 32px;\n",
              "      padding: 0 0 0 0;\n",
              "      width: 32px;\n",
              "    }\n",
              "\n",
              "    .colab-df-convert:hover {\n",
              "      background-color: #E2EBFA;\n",
              "      box-shadow: 0px 1px 2px rgba(60, 64, 67, 0.3), 0px 1px 3px 1px rgba(60, 64, 67, 0.15);\n",
              "      fill: #174EA6;\n",
              "    }\n",
              "\n",
              "    [theme=dark] .colab-df-convert {\n",
              "      background-color: #3B4455;\n",
              "      fill: #D2E3FC;\n",
              "    }\n",
              "\n",
              "    [theme=dark] .colab-df-convert:hover {\n",
              "      background-color: #434B5C;\n",
              "      box-shadow: 0px 1px 3px 1px rgba(0, 0, 0, 0.15);\n",
              "      filter: drop-shadow(0px 1px 2px rgba(0, 0, 0, 0.3));\n",
              "      fill: #FFFFFF;\n",
              "    }\n",
              "  </style>\n",
              "\n",
              "      <script>\n",
              "        const buttonEl =\n",
              "          document.querySelector('#df-45bf8be7-1972-4b8b-9320-1354269d6163 button.colab-df-convert');\n",
              "        buttonEl.style.display =\n",
              "          google.colab.kernel.accessAllowed ? 'block' : 'none';\n",
              "\n",
              "        async function convertToInteractive(key) {\n",
              "          const element = document.querySelector('#df-45bf8be7-1972-4b8b-9320-1354269d6163');\n",
              "          const dataTable =\n",
              "            await google.colab.kernel.invokeFunction('convertToInteractive',\n",
              "                                                     [key], {});\n",
              "          if (!dataTable) return;\n",
              "\n",
              "          const docLinkHtml = 'Like what you see? Visit the ' +\n",
              "            '<a target=\"_blank\" href=https://colab.research.google.com/notebooks/data_table.ipynb>data table notebook</a>'\n",
              "            + ' to learn more about interactive tables.';\n",
              "          element.innerHTML = '';\n",
              "          dataTable['output_type'] = 'display_data';\n",
              "          await google.colab.output.renderOutput(dataTable, element);\n",
              "          const docLink = document.createElement('div');\n",
              "          docLink.innerHTML = docLinkHtml;\n",
              "          element.appendChild(docLink);\n",
              "        }\n",
              "      </script>\n",
              "    </div>\n",
              "  </div>\n",
              "  "
            ]
          },
          "metadata": {},
          "execution_count": 203
        }
      ]
    },
    {
      "cell_type": "code",
      "source": [
        "total_predictors = ['Sex_of_Driver','Age_Band_of_Driver', 'Age_of_Vehicle', 'Vehicle_Type', 'Vehicle_Location-Restricted_Lane', 'Skidding_and_Overturning', \n",
        "                 'Hit_Object_in_Carriageway', 'Vehicle_Leaving_Carriageway', 'Hit_Object_off_Carriageway', '1st_Point_of_Impact', 'Junction_Location',\n",
        "                 'Engine_Capacity_(CC)', 'Vehicle_Leaving_Carriageway', 'Journey_Purpose_of_Driver', 'Propulsion_Code', 'Driver_IMD_Decile', \n",
        "                 'Driver_Home_Area_Type', 'Vehicle_IMD_Decile']"
      ],
      "metadata": {
        "id": "BxdOCJ9T9s0E"
      },
      "execution_count": null,
      "outputs": []
    },
    {
      "cell_type": "code",
      "source": [
        "#to get rid of negative values\n",
        "total_combined_2 = total_combined.dropna()\n",
        "total_combined_2.reset_index(drop=True).sample(3)"
      ],
      "metadata": {
        "id": "FHOKotyD9s38",
        "colab": {
          "base_uri": "https://localhost:8080/",
          "height": 236
        },
        "outputId": "4fb25d47-a907-42d9-a8af-8947aa1db907"
      },
      "execution_count": null,
      "outputs": [
        {
          "output_type": "execute_result",
          "data": {
            "text/plain": [
              "       Accident_Index  Location_Easting_OSGR  Location_Northing_OSGR  \\\n",
              "42735   2019010224323               532711.0                184263.0   \n",
              "176888  2019470903814               514196.0                102815.0   \n",
              "67880   2019100841919               436093.0                563748.0   \n",
              "\n",
              "        Longitude   Latitude  Police_Force  Accident_Severity  \\\n",
              "42735   -0.087686  51.541672             1                  2   \n",
              "176888  -0.380403  50.813629            47                  2   \n",
              "67880   -1.437790  54.967064            10                  3   \n",
              "\n",
              "        Number_of_Vehicles  Number_of_Casualties        Date  ...  \\\n",
              "42735                    2                     1  11/12/2019  ...   \n",
              "176888                   1                     1  28/11/2019  ...   \n",
              "67880                    2                     2  22/05/2019  ...   \n",
              "\n",
              "        Journey_Purpose_of_Driver Sex_of_Driver  Age_of_Driver  \\\n",
              "42735                           2             2             35   \n",
              "176888                          1             1             24   \n",
              "67880                           6             2             32   \n",
              "\n",
              "       Age_Band_of_Driver  Engine_Capacity_(CC)  Propulsion_Code  \\\n",
              "42735                   6                  1390                1   \n",
              "176888                  5                   996                1   \n",
              "67880                   6                  1242                1   \n",
              "\n",
              "        Age_of_Vehicle  Driver_IMD_Decile  Driver_Home_Area_Type  \\\n",
              "42735                6                  3                      1   \n",
              "176888               5                  6                      1   \n",
              "67880               10                  1                      1   \n",
              "\n",
              "        Vehicle_IMD_Decile  \n",
              "42735                    3  \n",
              "176888                   6  \n",
              "67880                    1  \n",
              "\n",
              "[3 rows x 57 columns]"
            ],
            "text/html": [
              "\n",
              "  <div id=\"df-ec37d4c0-504c-4381-b916-261c19baef2c\">\n",
              "    <div class=\"colab-df-container\">\n",
              "      <div>\n",
              "<style scoped>\n",
              "    .dataframe tbody tr th:only-of-type {\n",
              "        vertical-align: middle;\n",
              "    }\n",
              "\n",
              "    .dataframe tbody tr th {\n",
              "        vertical-align: top;\n",
              "    }\n",
              "\n",
              "    .dataframe thead th {\n",
              "        text-align: right;\n",
              "    }\n",
              "</style>\n",
              "<table border=\"1\" class=\"dataframe\">\n",
              "  <thead>\n",
              "    <tr style=\"text-align: right;\">\n",
              "      <th></th>\n",
              "      <th>Accident_Index</th>\n",
              "      <th>Location_Easting_OSGR</th>\n",
              "      <th>Location_Northing_OSGR</th>\n",
              "      <th>Longitude</th>\n",
              "      <th>Latitude</th>\n",
              "      <th>Police_Force</th>\n",
              "      <th>Accident_Severity</th>\n",
              "      <th>Number_of_Vehicles</th>\n",
              "      <th>Number_of_Casualties</th>\n",
              "      <th>Date</th>\n",
              "      <th>...</th>\n",
              "      <th>Journey_Purpose_of_Driver</th>\n",
              "      <th>Sex_of_Driver</th>\n",
              "      <th>Age_of_Driver</th>\n",
              "      <th>Age_Band_of_Driver</th>\n",
              "      <th>Engine_Capacity_(CC)</th>\n",
              "      <th>Propulsion_Code</th>\n",
              "      <th>Age_of_Vehicle</th>\n",
              "      <th>Driver_IMD_Decile</th>\n",
              "      <th>Driver_Home_Area_Type</th>\n",
              "      <th>Vehicle_IMD_Decile</th>\n",
              "    </tr>\n",
              "  </thead>\n",
              "  <tbody>\n",
              "    <tr>\n",
              "      <th>42735</th>\n",
              "      <td>2019010224323</td>\n",
              "      <td>532711.0</td>\n",
              "      <td>184263.0</td>\n",
              "      <td>-0.087686</td>\n",
              "      <td>51.541672</td>\n",
              "      <td>1</td>\n",
              "      <td>2</td>\n",
              "      <td>2</td>\n",
              "      <td>1</td>\n",
              "      <td>11/12/2019</td>\n",
              "      <td>...</td>\n",
              "      <td>2</td>\n",
              "      <td>2</td>\n",
              "      <td>35</td>\n",
              "      <td>6</td>\n",
              "      <td>1390</td>\n",
              "      <td>1</td>\n",
              "      <td>6</td>\n",
              "      <td>3</td>\n",
              "      <td>1</td>\n",
              "      <td>3</td>\n",
              "    </tr>\n",
              "    <tr>\n",
              "      <th>176888</th>\n",
              "      <td>2019470903814</td>\n",
              "      <td>514196.0</td>\n",
              "      <td>102815.0</td>\n",
              "      <td>-0.380403</td>\n",
              "      <td>50.813629</td>\n",
              "      <td>47</td>\n",
              "      <td>2</td>\n",
              "      <td>1</td>\n",
              "      <td>1</td>\n",
              "      <td>28/11/2019</td>\n",
              "      <td>...</td>\n",
              "      <td>1</td>\n",
              "      <td>1</td>\n",
              "      <td>24</td>\n",
              "      <td>5</td>\n",
              "      <td>996</td>\n",
              "      <td>1</td>\n",
              "      <td>5</td>\n",
              "      <td>6</td>\n",
              "      <td>1</td>\n",
              "      <td>6</td>\n",
              "    </tr>\n",
              "    <tr>\n",
              "      <th>67880</th>\n",
              "      <td>2019100841919</td>\n",
              "      <td>436093.0</td>\n",
              "      <td>563748.0</td>\n",
              "      <td>-1.437790</td>\n",
              "      <td>54.967064</td>\n",
              "      <td>10</td>\n",
              "      <td>3</td>\n",
              "      <td>2</td>\n",
              "      <td>2</td>\n",
              "      <td>22/05/2019</td>\n",
              "      <td>...</td>\n",
              "      <td>6</td>\n",
              "      <td>2</td>\n",
              "      <td>32</td>\n",
              "      <td>6</td>\n",
              "      <td>1242</td>\n",
              "      <td>1</td>\n",
              "      <td>10</td>\n",
              "      <td>1</td>\n",
              "      <td>1</td>\n",
              "      <td>1</td>\n",
              "    </tr>\n",
              "  </tbody>\n",
              "</table>\n",
              "<p>3 rows × 57 columns</p>\n",
              "</div>\n",
              "      <button class=\"colab-df-convert\" onclick=\"convertToInteractive('df-ec37d4c0-504c-4381-b916-261c19baef2c')\"\n",
              "              title=\"Convert this dataframe to an interactive table.\"\n",
              "              style=\"display:none;\">\n",
              "        \n",
              "  <svg xmlns=\"http://www.w3.org/2000/svg\" height=\"24px\"viewBox=\"0 0 24 24\"\n",
              "       width=\"24px\">\n",
              "    <path d=\"M0 0h24v24H0V0z\" fill=\"none\"/>\n",
              "    <path d=\"M18.56 5.44l.94 2.06.94-2.06 2.06-.94-2.06-.94-.94-2.06-.94 2.06-2.06.94zm-11 1L8.5 8.5l.94-2.06 2.06-.94-2.06-.94L8.5 2.5l-.94 2.06-2.06.94zm10 10l.94 2.06.94-2.06 2.06-.94-2.06-.94-.94-2.06-.94 2.06-2.06.94z\"/><path d=\"M17.41 7.96l-1.37-1.37c-.4-.4-.92-.59-1.43-.59-.52 0-1.04.2-1.43.59L10.3 9.45l-7.72 7.72c-.78.78-.78 2.05 0 2.83L4 21.41c.39.39.9.59 1.41.59.51 0 1.02-.2 1.41-.59l7.78-7.78 2.81-2.81c.8-.78.8-2.07 0-2.86zM5.41 20L4 18.59l7.72-7.72 1.47 1.35L5.41 20z\"/>\n",
              "  </svg>\n",
              "      </button>\n",
              "      \n",
              "  <style>\n",
              "    .colab-df-container {\n",
              "      display:flex;\n",
              "      flex-wrap:wrap;\n",
              "      gap: 12px;\n",
              "    }\n",
              "\n",
              "    .colab-df-convert {\n",
              "      background-color: #E8F0FE;\n",
              "      border: none;\n",
              "      border-radius: 50%;\n",
              "      cursor: pointer;\n",
              "      display: none;\n",
              "      fill: #1967D2;\n",
              "      height: 32px;\n",
              "      padding: 0 0 0 0;\n",
              "      width: 32px;\n",
              "    }\n",
              "\n",
              "    .colab-df-convert:hover {\n",
              "      background-color: #E2EBFA;\n",
              "      box-shadow: 0px 1px 2px rgba(60, 64, 67, 0.3), 0px 1px 3px 1px rgba(60, 64, 67, 0.15);\n",
              "      fill: #174EA6;\n",
              "    }\n",
              "\n",
              "    [theme=dark] .colab-df-convert {\n",
              "      background-color: #3B4455;\n",
              "      fill: #D2E3FC;\n",
              "    }\n",
              "\n",
              "    [theme=dark] .colab-df-convert:hover {\n",
              "      background-color: #434B5C;\n",
              "      box-shadow: 0px 1px 3px 1px rgba(0, 0, 0, 0.15);\n",
              "      filter: drop-shadow(0px 1px 2px rgba(0, 0, 0, 0.3));\n",
              "      fill: #FFFFFF;\n",
              "    }\n",
              "  </style>\n",
              "\n",
              "      <script>\n",
              "        const buttonEl =\n",
              "          document.querySelector('#df-ec37d4c0-504c-4381-b916-261c19baef2c button.colab-df-convert');\n",
              "        buttonEl.style.display =\n",
              "          google.colab.kernel.accessAllowed ? 'block' : 'none';\n",
              "\n",
              "        async function convertToInteractive(key) {\n",
              "          const element = document.querySelector('#df-ec37d4c0-504c-4381-b916-261c19baef2c');\n",
              "          const dataTable =\n",
              "            await google.colab.kernel.invokeFunction('convertToInteractive',\n",
              "                                                     [key], {});\n",
              "          if (!dataTable) return;\n",
              "\n",
              "          const docLinkHtml = 'Like what you see? Visit the ' +\n",
              "            '<a target=\"_blank\" href=https://colab.research.google.com/notebooks/data_table.ipynb>data table notebook</a>'\n",
              "            + ' to learn more about interactive tables.';\n",
              "          element.innerHTML = '';\n",
              "          dataTable['output_type'] = 'display_data';\n",
              "          await google.colab.output.renderOutput(dataTable, element);\n",
              "          const docLink = document.createElement('div');\n",
              "          docLink.innerHTML = docLinkHtml;\n",
              "          element.appendChild(docLink);\n",
              "        }\n",
              "      </script>\n",
              "    </div>\n",
              "  </div>\n",
              "  "
            ]
          },
          "metadata": {},
          "execution_count": 205
        }
      ]
    },
    {
      "cell_type": "code",
      "source": [
        "total_combined_2= total_combined_2.filter(['Sex_of_Driver','Age_Band_of_Driver', 'Age_of_Vehicle', 'Vehicle_Type', 'Vehicle_Location-Restricted_Lane', 'Skidding_and_Overturning', \n",
        "                                    'Hit_Object_in_Carriageway', 'Vehicle_Leaving_Carriageway', 'Hit_Object_off_Carriageway', '1st_Point_of_Impact', 'Junction_Location', \n",
        "                                    'Engine_Capacity_(CC)', 'Journey_Purpose_of_Driver', 'Propulsion_Code',  'Driver_Home_Area_Type', 'Vehicle_IMD_Decile', 'Driver_IMD_Decile',\n",
        "                                    'Accident_Severity'], axis=1)"
      ],
      "metadata": {
        "id": "-aCDoT1f9s7m"
      },
      "execution_count": null,
      "outputs": []
    },
    {
      "cell_type": "code",
      "source": [
        "total_combined_22 = total_combined_2[(total_combined_2['Sex_of_Driver']>0) & (total_combined_2['Age_Band_of_Driver']>0) & (total_combined_2['Age_of_Vehicle']>0) & \n",
        "                             (total_combined_2['Vehicle_Type']>0) & (total_combined_2['Vehicle_Location-Restricted_Lane']>0) & (total_combined_2['Skidding_and_Overturning']>0) &\n",
        "                             (total_combined_2['Hit_Object_off_Carriageway']>0) & (total_combined_2['Vehicle_Leaving_Carriageway']>0) & (total_combined_2['Hit_Object_in_Carriageway']>0)  &\n",
        "                             (total_combined_2['1st_Point_of_Impact']>0) & (total_combined_2['Junction_Location']>0) & (total_combined_2['Engine_Capacity_(CC)']>0) &\n",
        "                             (total_combined_2['Journey_Purpose_of_Driver']>0) & (total_combined_2['Propulsion_Code']>0) & (total_combined_2['Vehicle_IMD_Decile']>0) &\n",
        "                             (total_combined_2['Driver_IMD_Decile']>0) & (total_combined_2['Driver_Home_Area_Type']>0) ]\n",
        "\n",
        "total_combined_22.head(2)"
      ],
      "metadata": {
        "id": "Dc8tHiUq9s_D",
        "colab": {
          "base_uri": "https://localhost:8080/",
          "height": 193
        },
        "outputId": "b5f27df7-28fb-47b0-a102-3bbf1f01ae16"
      },
      "execution_count": null,
      "outputs": [
        {
          "output_type": "execute_result",
          "data": {
            "text/plain": [
              "      Sex_of_Driver  Age_Band_of_Driver  Age_of_Vehicle  Vehicle_Type  \\\n",
              "790               1                   5               6             9   \n",
              "4103              1                   6               6             9   \n",
              "\n",
              "      Vehicle_Location-Restricted_Lane  Skidding_and_Overturning  \\\n",
              "790                                  9                         1   \n",
              "4103                                 9                         1   \n",
              "\n",
              "      Hit_Object_in_Carriageway  Vehicle_Leaving_Carriageway  \\\n",
              "790                          10                            1   \n",
              "4103                          4                            7   \n",
              "\n",
              "      Hit_Object_off_Carriageway  1st_Point_of_Impact  Junction_Location  \\\n",
              "790                           11                    1                  5   \n",
              "4103                          10                    4                  2   \n",
              "\n",
              "      Engine_Capacity_(CC)  Journey_Purpose_of_Driver  Propulsion_Code  \\\n",
              "790                   1390                          6                1   \n",
              "4103                  1390                          6                1   \n",
              "\n",
              "      Driver_Home_Area_Type  Vehicle_IMD_Decile  Driver_IMD_Decile  \\\n",
              "790                       1                   6                  6   \n",
              "4103                      1                   4                  4   \n",
              "\n",
              "      Accident_Severity  \n",
              "790                   3  \n",
              "4103                  2  "
            ],
            "text/html": [
              "\n",
              "  <div id=\"df-874ee3c7-86be-4455-a9f7-a2d3ba47e9f4\">\n",
              "    <div class=\"colab-df-container\">\n",
              "      <div>\n",
              "<style scoped>\n",
              "    .dataframe tbody tr th:only-of-type {\n",
              "        vertical-align: middle;\n",
              "    }\n",
              "\n",
              "    .dataframe tbody tr th {\n",
              "        vertical-align: top;\n",
              "    }\n",
              "\n",
              "    .dataframe thead th {\n",
              "        text-align: right;\n",
              "    }\n",
              "</style>\n",
              "<table border=\"1\" class=\"dataframe\">\n",
              "  <thead>\n",
              "    <tr style=\"text-align: right;\">\n",
              "      <th></th>\n",
              "      <th>Sex_of_Driver</th>\n",
              "      <th>Age_Band_of_Driver</th>\n",
              "      <th>Age_of_Vehicle</th>\n",
              "      <th>Vehicle_Type</th>\n",
              "      <th>Vehicle_Location-Restricted_Lane</th>\n",
              "      <th>Skidding_and_Overturning</th>\n",
              "      <th>Hit_Object_in_Carriageway</th>\n",
              "      <th>Vehicle_Leaving_Carriageway</th>\n",
              "      <th>Hit_Object_off_Carriageway</th>\n",
              "      <th>1st_Point_of_Impact</th>\n",
              "      <th>Junction_Location</th>\n",
              "      <th>Engine_Capacity_(CC)</th>\n",
              "      <th>Journey_Purpose_of_Driver</th>\n",
              "      <th>Propulsion_Code</th>\n",
              "      <th>Driver_Home_Area_Type</th>\n",
              "      <th>Vehicle_IMD_Decile</th>\n",
              "      <th>Driver_IMD_Decile</th>\n",
              "      <th>Accident_Severity</th>\n",
              "    </tr>\n",
              "  </thead>\n",
              "  <tbody>\n",
              "    <tr>\n",
              "      <th>790</th>\n",
              "      <td>1</td>\n",
              "      <td>5</td>\n",
              "      <td>6</td>\n",
              "      <td>9</td>\n",
              "      <td>9</td>\n",
              "      <td>1</td>\n",
              "      <td>10</td>\n",
              "      <td>1</td>\n",
              "      <td>11</td>\n",
              "      <td>1</td>\n",
              "      <td>5</td>\n",
              "      <td>1390</td>\n",
              "      <td>6</td>\n",
              "      <td>1</td>\n",
              "      <td>1</td>\n",
              "      <td>6</td>\n",
              "      <td>6</td>\n",
              "      <td>3</td>\n",
              "    </tr>\n",
              "    <tr>\n",
              "      <th>4103</th>\n",
              "      <td>1</td>\n",
              "      <td>6</td>\n",
              "      <td>6</td>\n",
              "      <td>9</td>\n",
              "      <td>9</td>\n",
              "      <td>1</td>\n",
              "      <td>4</td>\n",
              "      <td>7</td>\n",
              "      <td>10</td>\n",
              "      <td>4</td>\n",
              "      <td>2</td>\n",
              "      <td>1390</td>\n",
              "      <td>6</td>\n",
              "      <td>1</td>\n",
              "      <td>1</td>\n",
              "      <td>4</td>\n",
              "      <td>4</td>\n",
              "      <td>2</td>\n",
              "    </tr>\n",
              "  </tbody>\n",
              "</table>\n",
              "</div>\n",
              "      <button class=\"colab-df-convert\" onclick=\"convertToInteractive('df-874ee3c7-86be-4455-a9f7-a2d3ba47e9f4')\"\n",
              "              title=\"Convert this dataframe to an interactive table.\"\n",
              "              style=\"display:none;\">\n",
              "        \n",
              "  <svg xmlns=\"http://www.w3.org/2000/svg\" height=\"24px\"viewBox=\"0 0 24 24\"\n",
              "       width=\"24px\">\n",
              "    <path d=\"M0 0h24v24H0V0z\" fill=\"none\"/>\n",
              "    <path d=\"M18.56 5.44l.94 2.06.94-2.06 2.06-.94-2.06-.94-.94-2.06-.94 2.06-2.06.94zm-11 1L8.5 8.5l.94-2.06 2.06-.94-2.06-.94L8.5 2.5l-.94 2.06-2.06.94zm10 10l.94 2.06.94-2.06 2.06-.94-2.06-.94-.94-2.06-.94 2.06-2.06.94z\"/><path d=\"M17.41 7.96l-1.37-1.37c-.4-.4-.92-.59-1.43-.59-.52 0-1.04.2-1.43.59L10.3 9.45l-7.72 7.72c-.78.78-.78 2.05 0 2.83L4 21.41c.39.39.9.59 1.41.59.51 0 1.02-.2 1.41-.59l7.78-7.78 2.81-2.81c.8-.78.8-2.07 0-2.86zM5.41 20L4 18.59l7.72-7.72 1.47 1.35L5.41 20z\"/>\n",
              "  </svg>\n",
              "      </button>\n",
              "      \n",
              "  <style>\n",
              "    .colab-df-container {\n",
              "      display:flex;\n",
              "      flex-wrap:wrap;\n",
              "      gap: 12px;\n",
              "    }\n",
              "\n",
              "    .colab-df-convert {\n",
              "      background-color: #E8F0FE;\n",
              "      border: none;\n",
              "      border-radius: 50%;\n",
              "      cursor: pointer;\n",
              "      display: none;\n",
              "      fill: #1967D2;\n",
              "      height: 32px;\n",
              "      padding: 0 0 0 0;\n",
              "      width: 32px;\n",
              "    }\n",
              "\n",
              "    .colab-df-convert:hover {\n",
              "      background-color: #E2EBFA;\n",
              "      box-shadow: 0px 1px 2px rgba(60, 64, 67, 0.3), 0px 1px 3px 1px rgba(60, 64, 67, 0.15);\n",
              "      fill: #174EA6;\n",
              "    }\n",
              "\n",
              "    [theme=dark] .colab-df-convert {\n",
              "      background-color: #3B4455;\n",
              "      fill: #D2E3FC;\n",
              "    }\n",
              "\n",
              "    [theme=dark] .colab-df-convert:hover {\n",
              "      background-color: #434B5C;\n",
              "      box-shadow: 0px 1px 3px 1px rgba(0, 0, 0, 0.15);\n",
              "      filter: drop-shadow(0px 1px 2px rgba(0, 0, 0, 0.3));\n",
              "      fill: #FFFFFF;\n",
              "    }\n",
              "  </style>\n",
              "\n",
              "      <script>\n",
              "        const buttonEl =\n",
              "          document.querySelector('#df-874ee3c7-86be-4455-a9f7-a2d3ba47e9f4 button.colab-df-convert');\n",
              "        buttonEl.style.display =\n",
              "          google.colab.kernel.accessAllowed ? 'block' : 'none';\n",
              "\n",
              "        async function convertToInteractive(key) {\n",
              "          const element = document.querySelector('#df-874ee3c7-86be-4455-a9f7-a2d3ba47e9f4');\n",
              "          const dataTable =\n",
              "            await google.colab.kernel.invokeFunction('convertToInteractive',\n",
              "                                                     [key], {});\n",
              "          if (!dataTable) return;\n",
              "\n",
              "          const docLinkHtml = 'Like what you see? Visit the ' +\n",
              "            '<a target=\"_blank\" href=https://colab.research.google.com/notebooks/data_table.ipynb>data table notebook</a>'\n",
              "            + ' to learn more about interactive tables.';\n",
              "          element.innerHTML = '';\n",
              "          dataTable['output_type'] = 'display_data';\n",
              "          await google.colab.output.renderOutput(dataTable, element);\n",
              "          const docLink = document.createElement('div');\n",
              "          docLink.innerHTML = docLinkHtml;\n",
              "          element.appendChild(docLink);\n",
              "        }\n",
              "      </script>\n",
              "    </div>\n",
              "  </div>\n",
              "  "
            ]
          },
          "metadata": {},
          "execution_count": 207
        }
      ]
    },
    {
      "cell_type": "code",
      "source": [
        "# Perform the feature selection\n",
        "selector = SelectKBest(f_classif, k=\"all\")\n",
        "selector.fit(total_combined_22[total_predictors], total_combined_22[\"Accident_Severity\"])"
      ],
      "metadata": {
        "id": "-RR-80ZB9tDU",
        "colab": {
          "base_uri": "https://localhost:8080/"
        },
        "outputId": "056b4502-a8a1-4911-e39a-07883b287cbe"
      },
      "execution_count": null,
      "outputs": [
        {
          "output_type": "execute_result",
          "data": {
            "text/plain": [
              "SelectKBest(k='all')"
            ]
          },
          "metadata": {},
          "execution_count": 208
        }
      ]
    },
    {
      "cell_type": "code",
      "source": [
        "# Here we will get the p-values for each feature and then transform from p-values into some scores\n",
        "scores = -np.log10(selector.pvalues_)"
      ],
      "metadata": {
        "id": "G4Jr36j7Pbod"
      },
      "execution_count": null,
      "outputs": []
    },
    {
      "cell_type": "code",
      "source": [
        "# Use plt to plot the scores!  \n",
        "plt.bar(range(len(total_predictors)), scores)\n",
        "plt.xticks(range(len(total_predictors)), total_predictors, rotation='vertical')\n",
        "plt.show()"
      ],
      "metadata": {
        "id": "FrooyfhNPyLl",
        "colab": {
          "base_uri": "https://localhost:8080/",
          "height": 423
        },
        "outputId": "7123a51f-82d9-4e24-f79b-1e4ff215231f"
      },
      "execution_count": null,
      "outputs": [
        {
          "output_type": "display_data",
          "data": {
            "text/plain": [
              "<Figure size 432x288 with 1 Axes>"
            ],
            "image/png": "[encoded data removed]"
          },
          "metadata": {
            "needs_background": "light"
          }
        }
      ]
    },
    {
      "cell_type": "code",
      "source": [
        "total_combined.columns"
      ],
      "metadata": {
        "id": "PEoZRri056dZ",
        "colab": {
          "base_uri": "https://localhost:8080/"
        },
        "outputId": "a8ec9a0b-b324-4d78-fc10-4a0b6732e4ae"
      },
      "execution_count": null,
      "outputs": [
        {
          "output_type": "execute_result",
          "data": {
            "text/plain": [
              "Index(['Accident_Index', 'Location_Easting_OSGR', 'Location_Northing_OSGR',\n",
              "       'Longitude', 'Latitude', 'Police_Force', 'Accident_Severity',\n",
              "       'Number_of_Vehicles', 'Number_of_Casualties', 'Date', 'Day_of_Week',\n",
              "       'Time', 'Local_Authority_(District)', 'Local_Authority_(Highway)',\n",
              "       '1st_Road_Class', '1st_Road_Number', 'Road_Type', 'Speed_limit',\n",
              "       'Junction_Detail', 'Junction_Control', '2nd_Road_Class',\n",
              "       '2nd_Road_Number', 'Pedestrian_Crossing-Human_Control',\n",
              "       'Pedestrian_Crossing-Physical_Facilities', 'Light_Conditions',\n",
              "       'Weather_Conditions', 'Road_Surface_Conditions',\n",
              "       'Special_Conditions_at_Site', 'Carriageway_Hazards',\n",
              "       'Urban_or_Rural_Area', 'Did_Police_Officer_Attend_Scene_of_Accident',\n",
              "       'LSOA_of_Accident_Location', 'daylight', 'geometry', 'radius',\n",
              "       'Vehicle_Reference', 'Vehicle_Type', 'Towing_and_Articulation',\n",
              "       'Vehicle_Manoeuvre', 'Vehicle_Location-Restricted_Lane',\n",
              "       'Junction_Location', 'Skidding_and_Overturning',\n",
              "       'Hit_Object_in_Carriageway', 'Vehicle_Leaving_Carriageway',\n",
              "       'Hit_Object_off_Carriageway', '1st_Point_of_Impact',\n",
              "       'Was_Vehicle_Left_Hand_Drive?', 'Journey_Purpose_of_Driver',\n",
              "       'Sex_of_Driver', 'Age_of_Driver', 'Age_Band_of_Driver',\n",
              "       'Engine_Capacity_(CC)', 'Propulsion_Code', 'Age_of_Vehicle',\n",
              "       'Driver_IMD_Decile', 'Driver_Home_Area_Type', 'Vehicle_IMD_Decile'],\n",
              "      dtype='object')"
            ]
          },
          "metadata": {},
          "execution_count": 211
        }
      ]
    },
    {
      "cell_type": "code",
      "source": [
        "total_combined.info()"
      ],
      "metadata": {
        "id": "S5QqGxWBCrPL",
        "colab": {
          "base_uri": "https://localhost:8080/"
        },
        "outputId": "5d27da00-ba72-434c-c85c-11cfa483478b"
      },
      "execution_count": null,
      "outputs": [
        {
          "output_type": "stream",
          "name": "stdout",
          "text": [
            "<class 'pandas.core.frame.DataFrame'>\n",
            "Int64Index: 216381 entries, 0 to 216380\n",
            "Data columns (total 57 columns):\n",
            " #   Column                                       Non-Null Count   Dtype   \n",
            "---  ------                                       --------------   -----   \n",
            " 0   Accident_Index                               216381 non-null  object  \n",
            " 1   Location_Easting_OSGR                        216381 non-null  float64 \n",
            " 2   Location_Northing_OSGR                       216381 non-null  float64 \n",
            " 3   Longitude                                    216381 non-null  float64 \n",
            " 4   Latitude                                     216381 non-null  float64 \n",
            " 5   Police_Force                                 216381 non-null  int64   \n",
            " 6   Accident_Severity                            216381 non-null  int64   \n",
            " 7   Number_of_Vehicles                           216381 non-null  int64   \n",
            " 8   Number_of_Casualties                         216381 non-null  int64   \n",
            " 9   Date                                         216381 non-null  object  \n",
            " 10  Day_of_Week                                  216381 non-null  int64   \n",
            " 11  Time                                         216381 non-null  object  \n",
            " 12  Local_Authority_(District)                   216381 non-null  int64   \n",
            " 13  Local_Authority_(Highway)                    216381 non-null  object  \n",
            " 14  1st_Road_Class                               216381 non-null  int64   \n",
            " 15  1st_Road_Number                              216381 non-null  int64   \n",
            " 16  Road_Type                                    216381 non-null  int64   \n",
            " 17  Speed_limit                                  216381 non-null  int64   \n",
            " 18  Junction_Detail                              216381 non-null  int64   \n",
            " 19  Junction_Control                             216381 non-null  int64   \n",
            " 20  2nd_Road_Class                               216381 non-null  int64   \n",
            " 21  2nd_Road_Number                              216381 non-null  int64   \n",
            " 22  Pedestrian_Crossing-Human_Control            216381 non-null  int64   \n",
            " 23  Pedestrian_Crossing-Physical_Facilities      216381 non-null  int64   \n",
            " 24  Light_Conditions                             216381 non-null  int64   \n",
            " 25  Weather_Conditions                           216381 non-null  int64   \n",
            " 26  Road_Surface_Conditions                      216381 non-null  int64   \n",
            " 27  Special_Conditions_at_Site                   216381 non-null  int64   \n",
            " 28  Carriageway_Hazards                          216381 non-null  int64   \n",
            " 29  Urban_or_Rural_Area                          216381 non-null  int64   \n",
            " 30  Did_Police_Officer_Attend_Scene_of_Accident  216381 non-null  int64   \n",
            " 31  LSOA_of_Accident_Location                    216381 non-null  object  \n",
            " 32  daylight                                     216381 non-null  object  \n",
            " 33  geometry                                     216381 non-null  geometry\n",
            " 34  radius                                       216381 non-null  bool    \n",
            " 35  Vehicle_Reference                            216381 non-null  int64   \n",
            " 36  Vehicle_Type                                 216381 non-null  int64   \n",
            " 37  Towing_and_Articulation                      216381 non-null  int64   \n",
            " 38  Vehicle_Manoeuvre                            216381 non-null  int64   \n",
            " 39  Vehicle_Location-Restricted_Lane             216381 non-null  int64   \n",
            " 40  Junction_Location                            216381 non-null  int64   \n",
            " 41  Skidding_and_Overturning                     216381 non-null  int64   \n",
            " 42  Hit_Object_in_Carriageway                    216381 non-null  int64   \n",
            " 43  Vehicle_Leaving_Carriageway                  216381 non-null  int64   \n",
            " 44  Hit_Object_off_Carriageway                   216381 non-null  int64   \n",
            " 45  1st_Point_of_Impact                          216381 non-null  int64   \n",
            " 46  Was_Vehicle_Left_Hand_Drive?                 216381 non-null  int64   \n",
            " 47  Journey_Purpose_of_Driver                    216381 non-null  int64   \n",
            " 48  Sex_of_Driver                                216381 non-null  int64   \n",
            " 49  Age_of_Driver                                216381 non-null  int64   \n",
            " 50  Age_Band_of_Driver                           216381 non-null  int64   \n",
            " 51  Engine_Capacity_(CC)                         216381 non-null  int64   \n",
            " 52  Propulsion_Code                              216381 non-null  int64   \n",
            " 53  Age_of_Vehicle                               216381 non-null  int64   \n",
            " 54  Driver_IMD_Decile                            216381 non-null  int64   \n",
            " 55  Driver_Home_Area_Type                        216381 non-null  int64   \n",
            " 56  Vehicle_IMD_Decile                           216381 non-null  int64   \n",
            "dtypes: bool(1), float64(4), geometry(1), int64(45), object(6)\n",
            "memory usage: 94.3+ MB\n"
          ]
        }
      ]
    },
    {
      "cell_type": "code",
      "source": [
        "predictors_ = ['Weather_Conditions','Speed_limit','Road_Surface_Conditions', 'Light_Conditions','Road_Type','Urban_or_Rural_Area','Carriageway_Hazards',\n",
        "                 'Special_Conditions_at_Site', 'Sex_of_Driver','Age_Band_of_Driver', 'Age_of_Vehicle', 'Vehicle_Type', 'Vehicle_Location-Restricted_Lane', \n",
        "                 'Skidding_and_Overturning', 'Hit_Object_in_Carriageway', 'Vehicle_Leaving_Carriageway', 'Hit_Object_off_Carriageway', '1st_Point_of_Impact', \n",
        "                 'Junction_Location', 'Engine_Capacity_(CC)', 'Vehicle_Leaving_Carriageway', 'Journey_Purpose_of_Driver', 'Propulsion_Code', 'Driver_IMD_Decile', \n",
        "                 'Driver_Home_Area_Type', 'Vehicle_IMD_Decile']"
      ],
      "metadata": {
        "id": "8AMZytx-60Vn"
      },
      "execution_count": null,
      "outputs": []
    },
    {
      "cell_type": "code",
      "source": [
        "total_combined\n",
        "total_combined= total_combined.dropna()\n",
        "\n",
        "total_combined.reset_index(drop=True).head(2)"
      ],
      "metadata": {
        "id": "6mxP0sRS6Utz",
        "colab": {
          "base_uri": "https://localhost:8080/",
          "height": 205
        },
        "outputId": "fc788d0e-b925-41ce-f7c2-3905792c6de0"
      },
      "execution_count": null,
      "outputs": [
        {
          "output_type": "execute_result",
          "data": {
            "text/plain": [
              "  Accident_Index  Location_Easting_OSGR  Location_Northing_OSGR  Longitude  \\\n",
              "0  2019010128300               528218.0                180407.0  -0.153842   \n",
              "1  2019010128300               528218.0                180407.0  -0.153842   \n",
              "\n",
              "    Latitude  Police_Force  Accident_Severity  Number_of_Vehicles  \\\n",
              "0  51.508057             1                  3                   2   \n",
              "1  51.508057             1                  3                   2   \n",
              "\n",
              "   Number_of_Casualties        Date  ...  Journey_Purpose_of_Driver  \\\n",
              "0                     3  18/02/2019  ...                          6   \n",
              "1                     3  18/02/2019  ...                          6   \n",
              "\n",
              "  Sex_of_Driver  Age_of_Driver Age_Band_of_Driver  Engine_Capacity_(CC)  \\\n",
              "0             1             58                  9                  1390   \n",
              "1             3             35                  6                  1390   \n",
              "\n",
              "   Propulsion_Code  Age_of_Vehicle  Driver_IMD_Decile  Driver_Home_Area_Type  \\\n",
              "0                1               6                  2                      1   \n",
              "1                1               6                  2                      1   \n",
              "\n",
              "   Vehicle_IMD_Decile  \n",
              "0                   2  \n",
              "1                   2  \n",
              "\n",
              "[2 rows x 57 columns]"
            ],
            "text/html": [
              "\n",
              "  <div id=\"df-e0b21047-c04b-4747-bee5-d7db3a2328b6\">\n",
              "    <div class=\"colab-df-container\">\n",
              "      <div>\n",
              "<style scoped>\n",
              "    .dataframe tbody tr th:only-of-type {\n",
              "        vertical-align: middle;\n",
              "    }\n",
              "\n",
              "    .dataframe tbody tr th {\n",
              "        vertical-align: top;\n",
              "    }\n",
              "\n",
              "    .dataframe thead th {\n",
              "        text-align: right;\n",
              "    }\n",
              "</style>\n",
              "<table border=\"1\" class=\"dataframe\">\n",
              "  <thead>\n",
              "    <tr style=\"text-align: right;\">\n",
              "      <th></th>\n",
              "      <th>Accident_Index</th>\n",
              "      <th>Location_Easting_OSGR</th>\n",
              "      <th>Location_Northing_OSGR</th>\n",
              "      <th>Longitude</th>\n",
              "      <th>Latitude</th>\n",
              "      <th>Police_Force</th>\n",
              "      <th>Accident_Severity</th>\n",
              "      <th>Number_of_Vehicles</th>\n",
              "      <th>Number_of_Casualties</th>\n",
              "      <th>Date</th>\n",
              "      <th>...</th>\n",
              "      <th>Journey_Purpose_of_Driver</th>\n",
              "      <th>Sex_of_Driver</th>\n",
              "      <th>Age_of_Driver</th>\n",
              "      <th>Age_Band_of_Driver</th>\n",
              "      <th>Engine_Capacity_(CC)</th>\n",
              "      <th>Propulsion_Code</th>\n",
              "      <th>Age_of_Vehicle</th>\n",
              "      <th>Driver_IMD_Decile</th>\n",
              "      <th>Driver_Home_Area_Type</th>\n",
              "      <th>Vehicle_IMD_Decile</th>\n",
              "    </tr>\n",
              "  </thead>\n",
              "  <tbody>\n",
              "    <tr>\n",
              "      <th>0</th>\n",
              "      <td>2019010128300</td>\n",
              "      <td>528218.0</td>\n",
              "      <td>180407.0</td>\n",
              "      <td>-0.153842</td>\n",
              "      <td>51.508057</td>\n",
              "      <td>1</td>\n",
              "      <td>3</td>\n",
              "      <td>2</td>\n",
              "      <td>3</td>\n",
              "      <td>18/02/2019</td>\n",
              "      <td>...</td>\n",
              "      <td>6</td>\n",
              "      <td>1</td>\n",
              "      <td>58</td>\n",
              "      <td>9</td>\n",
              "      <td>1390</td>\n",
              "      <td>1</td>\n",
              "      <td>6</td>\n",
              "      <td>2</td>\n",
              "      <td>1</td>\n",
              "      <td>2</td>\n",
              "    </tr>\n",
              "    <tr>\n",
              "      <th>1</th>\n",
              "      <td>2019010128300</td>\n",
              "      <td>528218.0</td>\n",
              "      <td>180407.0</td>\n",
              "      <td>-0.153842</td>\n",
              "      <td>51.508057</td>\n",
              "      <td>1</td>\n",
              "      <td>3</td>\n",
              "      <td>2</td>\n",
              "      <td>3</td>\n",
              "      <td>18/02/2019</td>\n",
              "      <td>...</td>\n",
              "      <td>6</td>\n",
              "      <td>3</td>\n",
              "      <td>35</td>\n",
              "      <td>6</td>\n",
              "      <td>1390</td>\n",
              "      <td>1</td>\n",
              "      <td>6</td>\n",
              "      <td>2</td>\n",
              "      <td>1</td>\n",
              "      <td>2</td>\n",
              "    </tr>\n",
              "  </tbody>\n",
              "</table>\n",
              "<p>2 rows × 57 columns</p>\n",
              "</div>\n",
              "      <button class=\"colab-df-convert\" onclick=\"convertToInteractive('df-e0b21047-c04b-4747-bee5-d7db3a2328b6')\"\n",
              "              title=\"Convert this dataframe to an interactive table.\"\n",
              "              style=\"display:none;\">\n",
              "        \n",
              "  <svg xmlns=\"http://www.w3.org/2000/svg\" height=\"24px\"viewBox=\"0 0 24 24\"\n",
              "       width=\"24px\">\n",
              "    <path d=\"M0 0h24v24H0V0z\" fill=\"none\"/>\n",
              "    <path d=\"M18.56 5.44l.94 2.06.94-2.06 2.06-.94-2.06-.94-.94-2.06-.94 2.06-2.06.94zm-11 1L8.5 8.5l.94-2.06 2.06-.94-2.06-.94L8.5 2.5l-.94 2.06-2.06.94zm10 10l.94 2.06.94-2.06 2.06-.94-2.06-.94-.94-2.06-.94 2.06-2.06.94z\"/><path d=\"M17.41 7.96l-1.37-1.37c-.4-.4-.92-.59-1.43-.59-.52 0-1.04.2-1.43.59L10.3 9.45l-7.72 7.72c-.78.78-.78 2.05 0 2.83L4 21.41c.39.39.9.59 1.41.59.51 0 1.02-.2 1.41-.59l7.78-7.78 2.81-2.81c.8-.78.8-2.07 0-2.86zM5.41 20L4 18.59l7.72-7.72 1.47 1.35L5.41 20z\"/>\n",
              "  </svg>\n",
              "      </button>\n",
              "      \n",
              "  <style>\n",
              "    .colab-df-container {\n",
              "      display:flex;\n",
              "      flex-wrap:wrap;\n",
              "      gap: 12px;\n",
              "    }\n",
              "\n",
              "    .colab-df-convert {\n",
              "      background-color: #E8F0FE;\n",
              "      border: none;\n",
              "      border-radius: 50%;\n",
              "      cursor: pointer;\n",
              "      display: none;\n",
              "      fill: #1967D2;\n",
              "      height: 32px;\n",
              "      padding: 0 0 0 0;\n",
              "      width: 32px;\n",
              "    }\n",
              "\n",
              "    .colab-df-convert:hover {\n",
              "      background-color: #E2EBFA;\n",
              "      box-shadow: 0px 1px 2px rgba(60, 64, 67, 0.3), 0px 1px 3px 1px rgba(60, 64, 67, 0.15);\n",
              "      fill: #174EA6;\n",
              "    }\n",
              "\n",
              "    [theme=dark] .colab-df-convert {\n",
              "      background-color: #3B4455;\n",
              "      fill: #D2E3FC;\n",
              "    }\n",
              "\n",
              "    [theme=dark] .colab-df-convert:hover {\n",
              "      background-color: #434B5C;\n",
              "      box-shadow: 0px 1px 3px 1px rgba(0, 0, 0, 0.15);\n",
              "      filter: drop-shadow(0px 1px 2px rgba(0, 0, 0, 0.3));\n",
              "      fill: #FFFFFF;\n",
              "    }\n",
              "  </style>\n",
              "\n",
              "      <script>\n",
              "        const buttonEl =\n",
              "          document.querySelector('#df-e0b21047-c04b-4747-bee5-d7db3a2328b6 button.colab-df-convert');\n",
              "        buttonEl.style.display =\n",
              "          google.colab.kernel.accessAllowed ? 'block' : 'none';\n",
              "\n",
              "        async function convertToInteractive(key) {\n",
              "          const element = document.querySelector('#df-e0b21047-c04b-4747-bee5-d7db3a2328b6');\n",
              "          const dataTable =\n",
              "            await google.colab.kernel.invokeFunction('convertToInteractive',\n",
              "                                                     [key], {});\n",
              "          if (!dataTable) return;\n",
              "\n",
              "          const docLinkHtml = 'Like what you see? Visit the ' +\n",
              "            '<a target=\"_blank\" href=https://colab.research.google.com/notebooks/data_table.ipynb>data table notebook</a>'\n",
              "            + ' to learn more about interactive tables.';\n",
              "          element.innerHTML = '';\n",
              "          dataTable['output_type'] = 'display_data';\n",
              "          await google.colab.output.renderOutput(dataTable, element);\n",
              "          const docLink = document.createElement('div');\n",
              "          docLink.innerHTML = docLinkHtml;\n",
              "          element.appendChild(docLink);\n",
              "        }\n",
              "      </script>\n",
              "    </div>\n",
              "  </div>\n",
              "  "
            ]
          },
          "metadata": {},
          "execution_count": 214
        }
      ]
    },
    {
      "cell_type": "code",
      "source": [
        "combined_024 = total_combined.filter(['Weather_Conditions','Speed_limit','Road_Surface_Conditions', 'Light_Conditions','Road_Type','Urban_or_Rural_Area',\n",
        "                                    'Carriageway_Hazards', 'Special_Conditions_at_Site', 'Accident_Severity'], axis=1)"
      ],
      "metadata": {
        "id": "m-kN0CdR77xQ"
      },
      "execution_count": null,
      "outputs": []
    },
    {
      "cell_type": "code",
      "source": [
        "combined_0245 = combined_024[(combined_024['Weather_Conditions']>0) & (combined_024['Speed_limit']>0) & (combined_024['Road_Surface_Conditions']>0) & \n",
        "                             (combined_024['Light_Conditions']>0)& (combined_024['Road_Type']>0) & (combined_024['Urban_or_Rural_Area']>0) & \n",
        "                             (combined_024['Carriageway_Hazards']>0) & (combined_024['Special_Conditions_at_Site']>0)]"
      ],
      "metadata": {
        "id": "Jxb5JeG-811u"
      },
      "execution_count": null,
      "outputs": []
    },
    {
      "cell_type": "code",
      "source": [
        "from sklearn.model_selection import train_test_split\n",
        "\n",
        "y_target = combined_0245[\"Accident_Severity\"].values\n",
        "X_features = combined_0245.drop(\"Accident_Severity\", axis=1)\n",
        "\n",
        "X_train, X_validation, y_train, y_validation = train_test_split(X_features, y_target, test_size=.25,random_state=1)"
      ],
      "metadata": {
        "id": "S3ZZcNkkOMK2"
      },
      "execution_count": null,
      "outputs": []
    },
    {
      "cell_type": "code",
      "source": [
        "#Let’s build the model now. \n",
        "\n",
        "from sklearn import tree\n",
        "from sklearn.tree import DecisionTreeClassifier\n",
        "decision_tree = DecisionTreeClassifier(criterion=\"gini\") \n",
        "\n",
        "decision_tree.fit(X_train, y_train) \n",
        " \n",
        "Y_pred = decision_tree.predict(X_validation) "
      ],
      "metadata": {
        "id": "pT25jdqmO-gn"
      },
      "execution_count": null,
      "outputs": []
    },
    {
      "cell_type": "code",
      "source": [
        "#This next line computes the accuracy of the model.\n",
        "acc_decision_tree = round(decision_tree.score(X_train, y_train) * 100, 2)\n",
        "\n",
        "print(acc_decision_tree)"
      ],
      "metadata": {
        "id": "oUedA2471O9j",
        "colab": {
          "base_uri": "https://localhost:8080/"
        },
        "outputId": "4b459242-0369-451c-b505-937fc4a524f1"
      },
      "execution_count": null,
      "outputs": [
        {
          "output_type": "stream",
          "name": "stdout",
          "text": [
            "95.42\n"
          ]
        }
      ]
    },
    {
      "cell_type": "code",
      "source": [
        "decision_tree.predict_proba(X_validation)"
      ],
      "metadata": {
        "id": "PoUUdcyX1irs",
        "colab": {
          "base_uri": "https://localhost:8080/"
        },
        "outputId": "41161dd8-48c4-4f75-f381-e42b72491493"
      },
      "execution_count": null,
      "outputs": [
        {
          "output_type": "execute_result",
          "data": {
            "text/plain": [
              "array([[0.        , 1.        , 0.        ],\n",
              "       [0.        , 0.5       , 0.5       ],\n",
              "       [0.        , 0.        , 1.        ],\n",
              "       [0.        , 0.        , 1.        ],\n",
              "       [0.        , 0.5       , 0.5       ],\n",
              "       [0.        , 0.        , 1.        ],\n",
              "       [0.        , 0.        , 1.        ],\n",
              "       [0.        , 0.        , 1.        ],\n",
              "       [0.        , 0.        , 1.        ],\n",
              "       [0.        , 0.        , 1.        ],\n",
              "       [0.        , 0.5       , 0.5       ],\n",
              "       [0.        , 0.        , 1.        ],\n",
              "       [0.        , 1.        , 0.        ],\n",
              "       [0.        , 0.        , 1.        ],\n",
              "       [0.        , 1.        , 0.        ],\n",
              "       [0.        , 0.        , 1.        ],\n",
              "       [0.        , 1.        , 0.        ],\n",
              "       [0.        , 0.        , 1.        ],\n",
              "       [0.        , 0.        , 1.        ],\n",
              "       [0.        , 0.        , 1.        ],\n",
              "       [0.        , 0.1       , 0.9       ],\n",
              "       [0.        , 0.        , 1.        ],\n",
              "       [0.        , 1.        , 0.        ],\n",
              "       [0.        , 1.        , 0.        ],\n",
              "       [0.        , 0.        , 1.        ],\n",
              "       [0.        , 0.        , 1.        ],\n",
              "       [0.        , 0.        , 1.        ],\n",
              "       [0.        , 0.        , 1.        ],\n",
              "       [0.        , 0.        , 1.        ],\n",
              "       [0.        , 0.        , 1.        ],\n",
              "       [0.        , 0.        , 1.        ],\n",
              "       [0.        , 0.        , 1.        ],\n",
              "       [0.        , 1.        , 0.        ],\n",
              "       [0.        , 0.33333333, 0.66666667],\n",
              "       [0.        , 0.        , 1.        ],\n",
              "       [0.        , 1.        , 0.        ],\n",
              "       [0.        , 0.        , 1.        ],\n",
              "       [0.        , 0.1       , 0.9       ],\n",
              "       [0.        , 0.        , 1.        ],\n",
              "       [0.        , 0.        , 1.        ],\n",
              "       [0.        , 0.        , 1.        ],\n",
              "       [0.        , 0.        , 1.        ],\n",
              "       [0.        , 1.        , 0.        ],\n",
              "       [0.        , 0.        , 1.        ],\n",
              "       [0.        , 0.        , 1.        ],\n",
              "       [0.        , 1.        , 0.        ],\n",
              "       [0.        , 0.        , 1.        ],\n",
              "       [0.        , 0.5       , 0.5       ],\n",
              "       [0.        , 0.        , 1.        ],\n",
              "       [0.        , 0.        , 1.        ],\n",
              "       [0.        , 0.        , 1.        ],\n",
              "       [0.        , 0.        , 1.        ],\n",
              "       [0.        , 1.        , 0.        ],\n",
              "       [0.        , 0.        , 1.        ],\n",
              "       [0.        , 0.        , 1.        ],\n",
              "       [0.        , 0.        , 1.        ],\n",
              "       [0.        , 1.        , 0.        ],\n",
              "       [0.        , 1.        , 0.        ],\n",
              "       [0.        , 0.        , 1.        ],\n",
              "       [0.        , 1.        , 0.        ],\n",
              "       [0.        , 0.        , 1.        ],\n",
              "       [0.        , 1.        , 0.        ],\n",
              "       [0.        , 0.        , 1.        ],\n",
              "       [0.        , 0.        , 1.        ],\n",
              "       [1.        , 0.        , 0.        ],\n",
              "       [0.        , 0.1       , 0.9       ],\n",
              "       [0.        , 0.        , 1.        ],\n",
              "       [0.        , 0.        , 1.        ],\n",
              "       [0.        , 0.        , 1.        ],\n",
              "       [0.        , 0.        , 1.        ],\n",
              "       [0.        , 0.        , 1.        ],\n",
              "       [0.        , 0.        , 1.        ],\n",
              "       [0.        , 1.        , 0.        ],\n",
              "       [0.        , 0.        , 1.        ],\n",
              "       [0.        , 0.        , 1.        ],\n",
              "       [0.        , 0.        , 1.        ],\n",
              "       [0.        , 1.        , 0.        ],\n",
              "       [0.        , 0.        , 1.        ],\n",
              "       [0.        , 0.71428571, 0.28571429],\n",
              "       [0.        , 0.5       , 0.5       ]])"
            ]
          },
          "metadata": {},
          "execution_count": 220
        }
      ]
    },
    {
      "cell_type": "code",
      "source": [
        "from numpy import mean\n",
        "from numpy import std\n",
        "from sklearn.model_selection import cross_val_score\n",
        "from sklearn.model_selection import RepeatedStratifiedKFold\n",
        "from sklearn.linear_model import LogisticRegression\n",
        "from sklearn.neighbors import KNeighborsClassifier\n",
        "from sklearn.tree import DecisionTreeClassifier\n",
        "from sklearn.svm import SVC\n",
        "from sklearn.naive_bayes import GaussianNB\n",
        "from matplotlib import pyplot"
      ],
      "metadata": {
        "id": "_Y1Sgc_T2Zuq"
      },
      "execution_count": null,
      "outputs": []
    },
    {
      "cell_type": "code",
      "source": [
        "features = ['Weather_Conditions', 'Speed_limit', 'Road_Surface_Conditions', 'Light_Conditions', 'Road_Type','Urban_or_Rural_Area', 'Carriageway_Hazards', 'Special_Conditions_at_Site',]\n",
        "target = ['Accident_Severity']"
      ],
      "metadata": {
        "id": "Ps0Fmq0y2keD"
      },
      "execution_count": null,
      "outputs": []
    },
    {
      "cell_type": "code",
      "source": [
        "accidents_data = acc_df\n",
        "accidents_data.reset_index(drop=True).head(3)"
      ],
      "metadata": {
        "id": "u6R5HVvm2lO6",
        "colab": {
          "base_uri": "https://localhost:8080/",
          "height": 341
        },
        "outputId": "d36effe8-da2d-44c9-91b1-6deecee98cfa"
      },
      "execution_count": null,
      "outputs": [
        {
          "output_type": "execute_result",
          "data": {
            "text/plain": [
              "  Accident_Index  Location_Easting_OSGR  Location_Northing_OSGR  Longitude  \\\n",
              "0  2019010128300               528218.0                180407.0  -0.153842   \n",
              "1  2019010152270               530219.0                172463.0  -0.127949   \n",
              "2  2019010155191               530222.0                182543.0  -0.124193   \n",
              "\n",
              "    Latitude  Police_Force  Accident_Severity  Number_of_Vehicles  \\\n",
              "0  51.508057             1                  3                   2   \n",
              "1  51.436208             1                  3                   2   \n",
              "2  51.526795             1                  3                   2   \n",
              "\n",
              "   Number_of_Casualties        Date  ...  Weather_Conditions  \\\n",
              "0                     3  18/02/2019  ...                   1   \n",
              "1                     1  15/01/2019  ...                   1   \n",
              "2                     1  01/01/2019  ...                   1   \n",
              "\n",
              "  Road_Surface_Conditions  Special_Conditions_at_Site Carriageway_Hazards  \\\n",
              "0                       1                           0                   0   \n",
              "1                       1                           0                   0   \n",
              "2                       1                           0                   0   \n",
              "\n",
              "   Urban_or_Rural_Area  Did_Police_Officer_Attend_Scene_of_Accident  \\\n",
              "0                    1                                            3   \n",
              "1                    1                                            3   \n",
              "2                    1                                            1   \n",
              "\n",
              "   LSOA_of_Accident_Location        daylight                   geometry  \\\n",
              "0                  E01004762  Daylight Start  POINT (-0.15384 51.50806)   \n",
              "1                  E01003117   Daylight Stop  POINT (-0.12795 51.43621)   \n",
              "2                  E01000943   Daylight Stop  POINT (-0.12419 51.52679)   \n",
              "\n",
              "   radius  \n",
              "0   False  \n",
              "1   False  \n",
              "2   False  \n",
              "\n",
              "[3 rows x 35 columns]"
            ],
            "text/html": [
              "\n",
              "  <div id=\"df-fd918651-3a74-420b-b3b4-eeb2c299ca90\">\n",
              "    <div class=\"colab-df-container\">\n",
              "      <div>\n",
              "<style scoped>\n",
              "    .dataframe tbody tr th:only-of-type {\n",
              "        vertical-align: middle;\n",
              "    }\n",
              "\n",
              "    .dataframe tbody tr th {\n",
              "        vertical-align: top;\n",
              "    }\n",
              "\n",
              "    .dataframe thead th {\n",
              "        text-align: right;\n",
              "    }\n",
              "</style>\n",
              "<table border=\"1\" class=\"dataframe\">\n",
              "  <thead>\n",
              "    <tr style=\"text-align: right;\">\n",
              "      <th></th>\n",
              "      <th>Accident_Index</th>\n",
              "      <th>Location_Easting_OSGR</th>\n",
              "      <th>Location_Northing_OSGR</th>\n",
              "      <th>Longitude</th>\n",
              "      <th>Latitude</th>\n",
              "      <th>Police_Force</th>\n",
              "      <th>Accident_Severity</th>\n",
              "      <th>Number_of_Vehicles</th>\n",
              "      <th>Number_of_Casualties</th>\n",
              "      <th>Date</th>\n",
              "      <th>...</th>\n",
              "      <th>Weather_Conditions</th>\n",
              "      <th>Road_Surface_Conditions</th>\n",
              "      <th>Special_Conditions_at_Site</th>\n",
              "      <th>Carriageway_Hazards</th>\n",
              "      <th>Urban_or_Rural_Area</th>\n",
              "      <th>Did_Police_Officer_Attend_Scene_of_Accident</th>\n",
              "      <th>LSOA_of_Accident_Location</th>\n",
              "      <th>daylight</th>\n",
              "      <th>geometry</th>\n",
              "      <th>radius</th>\n",
              "    </tr>\n",
              "  </thead>\n",
              "  <tbody>\n",
              "    <tr>\n",
              "      <th>0</th>\n",
              "      <td>2019010128300</td>\n",
              "      <td>528218.0</td>\n",
              "      <td>180407.0</td>\n",
              "      <td>-0.153842</td>\n",
              "      <td>51.508057</td>\n",
              "      <td>1</td>\n",
              "      <td>3</td>\n",
              "      <td>2</td>\n",
              "      <td>3</td>\n",
              "      <td>18/02/2019</td>\n",
              "      <td>...</td>\n",
              "      <td>1</td>\n",
              "      <td>1</td>\n",
              "      <td>0</td>\n",
              "      <td>0</td>\n",
              "      <td>1</td>\n",
              "      <td>3</td>\n",
              "      <td>E01004762</td>\n",
              "      <td>Daylight Start</td>\n",
              "      <td>POINT (-0.15384 51.50806)</td>\n",
              "      <td>False</td>\n",
              "    </tr>\n",
              "    <tr>\n",
              "      <th>1</th>\n",
              "      <td>2019010152270</td>\n",
              "      <td>530219.0</td>\n",
              "      <td>172463.0</td>\n",
              "      <td>-0.127949</td>\n",
              "      <td>51.436208</td>\n",
              "      <td>1</td>\n",
              "      <td>3</td>\n",
              "      <td>2</td>\n",
              "      <td>1</td>\n",
              "      <td>15/01/2019</td>\n",
              "      <td>...</td>\n",
              "      <td>1</td>\n",
              "      <td>1</td>\n",
              "      <td>0</td>\n",
              "      <td>0</td>\n",
              "      <td>1</td>\n",
              "      <td>3</td>\n",
              "      <td>E01003117</td>\n",
              "      <td>Daylight Stop</td>\n",
              "      <td>POINT (-0.12795 51.43621)</td>\n",
              "      <td>False</td>\n",
              "    </tr>\n",
              "    <tr>\n",
              "      <th>2</th>\n",
              "      <td>2019010155191</td>\n",
              "      <td>530222.0</td>\n",
              "      <td>182543.0</td>\n",
              "      <td>-0.124193</td>\n",
              "      <td>51.526795</td>\n",
              "      <td>1</td>\n",
              "      <td>3</td>\n",
              "      <td>2</td>\n",
              "      <td>1</td>\n",
              "      <td>01/01/2019</td>\n",
              "      <td>...</td>\n",
              "      <td>1</td>\n",
              "      <td>1</td>\n",
              "      <td>0</td>\n",
              "      <td>0</td>\n",
              "      <td>1</td>\n",
              "      <td>1</td>\n",
              "      <td>E01000943</td>\n",
              "      <td>Daylight Stop</td>\n",
              "      <td>POINT (-0.12419 51.52679)</td>\n",
              "      <td>False</td>\n",
              "    </tr>\n",
              "  </tbody>\n",
              "</table>\n",
              "<p>3 rows × 35 columns</p>\n",
              "</div>\n",
              "      <button class=\"colab-df-convert\" onclick=\"convertToInteractive('df-fd918651-3a74-420b-b3b4-eeb2c299ca90')\"\n",
              "              title=\"Convert this dataframe to an interactive table.\"\n",
              "              style=\"display:none;\">\n",
              "        \n",
              "  <svg xmlns=\"http://www.w3.org/2000/svg\" height=\"24px\"viewBox=\"0 0 24 24\"\n",
              "       width=\"24px\">\n",
              "    <path d=\"M0 0h24v24H0V0z\" fill=\"none\"/>\n",
              "    <path d=\"M18.56 5.44l.94 2.06.94-2.06 2.06-.94-2.06-.94-.94-2.06-.94 2.06-2.06.94zm-11 1L8.5 8.5l.94-2.06 2.06-.94-2.06-.94L8.5 2.5l-.94 2.06-2.06.94zm10 10l.94 2.06.94-2.06 2.06-.94-2.06-.94-.94-2.06-.94 2.06-2.06.94z\"/><path d=\"M17.41 7.96l-1.37-1.37c-.4-.4-.92-.59-1.43-.59-.52 0-1.04.2-1.43.59L10.3 9.45l-7.72 7.72c-.78.78-.78 2.05 0 2.83L4 21.41c.39.39.9.59 1.41.59.51 0 1.02-.2 1.41-.59l7.78-7.78 2.81-2.81c.8-.78.8-2.07 0-2.86zM5.41 20L4 18.59l7.72-7.72 1.47 1.35L5.41 20z\"/>\n",
              "  </svg>\n",
              "      </button>\n",
              "      \n",
              "  <style>\n",
              "    .colab-df-container {\n",
              "      display:flex;\n",
              "      flex-wrap:wrap;\n",
              "      gap: 12px;\n",
              "    }\n",
              "\n",
              "    .colab-df-convert {\n",
              "      background-color: #E8F0FE;\n",
              "      border: none;\n",
              "      border-radius: 50%;\n",
              "      cursor: pointer;\n",
              "      display: none;\n",
              "      fill: #1967D2;\n",
              "      height: 32px;\n",
              "      padding: 0 0 0 0;\n",
              "      width: 32px;\n",
              "    }\n",
              "\n",
              "    .colab-df-convert:hover {\n",
              "      background-color: #E2EBFA;\n",
              "      box-shadow: 0px 1px 2px rgba(60, 64, 67, 0.3), 0px 1px 3px 1px rgba(60, 64, 67, 0.15);\n",
              "      fill: #174EA6;\n",
              "    }\n",
              "\n",
              "    [theme=dark] .colab-df-convert {\n",
              "      background-color: #3B4455;\n",
              "      fill: #D2E3FC;\n",
              "    }\n",
              "\n",
              "    [theme=dark] .colab-df-convert:hover {\n",
              "      background-color: #434B5C;\n",
              "      box-shadow: 0px 1px 3px 1px rgba(0, 0, 0, 0.15);\n",
              "      filter: drop-shadow(0px 1px 2px rgba(0, 0, 0, 0.3));\n",
              "      fill: #FFFFFF;\n",
              "    }\n",
              "  </style>\n",
              "\n",
              "      <script>\n",
              "        const buttonEl =\n",
              "          document.querySelector('#df-fd918651-3a74-420b-b3b4-eeb2c299ca90 button.colab-df-convert');\n",
              "        buttonEl.style.display =\n",
              "          google.colab.kernel.accessAllowed ? 'block' : 'none';\n",
              "\n",
              "        async function convertToInteractive(key) {\n",
              "          const element = document.querySelector('#df-fd918651-3a74-420b-b3b4-eeb2c299ca90');\n",
              "          const dataTable =\n",
              "            await google.colab.kernel.invokeFunction('convertToInteractive',\n",
              "                                                     [key], {});\n",
              "          if (!dataTable) return;\n",
              "\n",
              "          const docLinkHtml = 'Like what you see? Visit the ' +\n",
              "            '<a target=\"_blank\" href=https://colab.research.google.com/notebooks/data_table.ipynb>data table notebook</a>'\n",
              "            + ' to learn more about interactive tables.';\n",
              "          element.innerHTML = '';\n",
              "          dataTable['output_type'] = 'display_data';\n",
              "          await google.colab.output.renderOutput(dataTable, element);\n",
              "          const docLink = document.createElement('div');\n",
              "          docLink.innerHTML = docLinkHtml;\n",
              "          element.appendChild(docLink);\n",
              "        }\n",
              "      </script>\n",
              "    </div>\n",
              "  </div>\n",
              "  "
            ]
          },
          "metadata": {},
          "execution_count": 223
        }
      ]
    },
    {
      "cell_type": "code",
      "source": [
        "accidents_data01 = accidents_data.filter(['Weather_Conditions','Speed_limit','Road_Surface_Conditions', 'Light_Conditions','Road_Type','Urban_or_Rural_Area',\n",
        "                                    'Carriageway_Hazards', 'Special_Conditions_at_Site', 'Accident_Severity'], axis=1)"
      ],
      "metadata": {
        "id": "Z2BjPZW82lZT"
      },
      "execution_count": null,
      "outputs": []
    },
    {
      "cell_type": "code",
      "source": [
        "accidents_data02 = accidents_data01[(combined_024['Weather_Conditions']>0) & (combined_024['Speed_limit']>0) & (combined_024['Road_Surface_Conditions']>0) & \n",
        "                                    (combined_024['Light_Conditions']>0)& (combined_024['Road_Type']>0) & (combined_024['Urban_or_Rural_Area']>0) & \n",
        "                                    (combined_024['Carriageway_Hazards']>0) & (combined_024['Special_Conditions_at_Site']>0)]"
      ],
      "metadata": {
        "id": "1eIIkHqr3sZL"
      },
      "execution_count": null,
      "outputs": []
    },
    {
      "cell_type": "code",
      "source": [
        "from sklearn.model_selection import train_test_split\n",
        "\n",
        "y_target = accidents_data02[\"Accident_Severity\"].values\n",
        "X_features = accidents_data02.drop(\"Accident_Severity\", axis=1)\n",
        "\n",
        "def get_dataset():\n",
        "    X_train, X_validation, y_train, y_validation = train_test_split(X_features,y_target,test_size=.25,random_state=1)\n",
        "    return X_train, y_train"
      ],
      "metadata": {
        "id": "TaZH_ext4Rsi"
      },
      "execution_count": null,
      "outputs": []
    },
    {
      "cell_type": "code",
      "source": [
        "def get_models():\n",
        "    models = dict()\n",
        "    models['DCTrees'] = DecisionTreeClassifier()\n",
        "    models['KNN'] = KNeighborsClassifier()\n",
        "    models['LR'] = LogisticRegression()\n",
        "    models['SVM'] = SVC()\n",
        "    models['Bayes'] = GaussianNB()\n",
        "    return models"
      ],
      "metadata": {
        "id": "PMSFxRhU745y"
      },
      "execution_count": null,
      "outputs": []
    },
    {
      "cell_type": "code",
      "source": [
        "def evaluate_model(model, X, y):\n",
        "    cv = RepeatedStratifiedKFold(n_splits=10, n_repeats=3, random_state=1)\n",
        "    scores = cross_val_score(model, X, y, scoring='accuracy', cv=cv, n_jobs=-1, error_score='raise')\n",
        "    return scores"
      ],
      "metadata": {
        "id": "UOOVBrGv46Ma"
      },
      "execution_count": null,
      "outputs": []
    },
    {
      "cell_type": "code",
      "source": [
        "#Grab hold of the dataset.\n",
        "X, y = get_dataset()\n",
        "\n",
        "#Grab the models to use.\n",
        "models = get_models()"
      ],
      "metadata": {
        "id": "Ce-YO7OA3scY"
      },
      "execution_count": null,
      "outputs": []
    },
    {
      "cell_type": "code",
      "source": [
        "#Run and Evaluate the models.\n",
        "results, names = list(), list()\n",
        "for name, model in models.items():\n",
        "    scores = evaluate_model(model, X, y)\n",
        "    results.append(scores)\n",
        "    names.append(name)\n",
        "    print('>%s %.3f (%.3f)' % (name, mean(scores), std(scores)))\n",
        "\n",
        "# plot model performance for comparison\n",
        "pyplot.boxplot(results, labels=names, showmeans=True)\n",
        "pyplot.show()"
      ],
      "metadata": {
        "id": "H79ljkuH5Rdj",
        "colab": {
          "base_uri": "https://localhost:8080/",
          "height": 357
        },
        "outputId": "031b8411-22f8-4430-834f-6b198443029c"
      },
      "execution_count": null,
      "outputs": [
        {
          "output_type": "stream",
          "name": "stdout",
          "text": [
            ">DCTrees 0.757 (0.109)\n",
            ">KNN 0.754 (0.067)\n",
            ">LR 0.797 (0.079)\n",
            ">SVM 0.808 (0.031)\n",
            ">Bayes 0.281 (0.098)\n"
          ]
        },
        {
          "output_type": "display_data",
          "data": {
            "text/plain": [
              "<Figure size 432x288 with 1 Axes>"
            ],
            "image/png": "[encoded data removed]"
          },
          "metadata": {
            "needs_background": "light"
          }
        }
      ]
    },
    {
      "cell_type": "code",
      "source": [
        "from sklearn.ensemble import StackingClassifier\n",
        "def get_stacking():\n",
        "    level0 = list()\n",
        "    level0.append(('DCTrees', DecisionTreeClassifier()))\n",
        "    level0.append(('KNN', KNeighborsClassifier()))\n",
        "    level0.append(('LR', LogisticRegression()))\n",
        "    level0.append(('Bayes', GaussianNB()))\n",
        "    level0.append(('SVM', SVC()))\n",
        "    level1 = SVC()\n",
        "    model = StackingClassifier(estimators=level0, final_estimator=level1, cv=5)\n",
        "    return model"
      ],
      "metadata": {
        "id": "KopJ3UQO5RhB"
      },
      "execution_count": null,
      "outputs": []
    },
    {
      "cell_type": "code",
      "source": [
        "\n",
        "# get a list of models to evaluate\n",
        "def get_models():\n",
        "  models = dict()\n",
        "  models['LR'] = LogisticRegression()\n",
        "  models['KNN'] = KNeighborsClassifier()\n",
        "  models['DCTrees'] = DecisionTreeClassifier()\t\n",
        "  models['Bayes'] = GaussianNB()\n",
        "  models['SVM'] = SVC()\n",
        "  models['stacking'] = get_stacking()\n",
        "  return models"
      ],
      "metadata": {
        "id": "ZsG2eQJ982Do"
      },
      "execution_count": null,
      "outputs": []
    },
    {
      "cell_type": "code",
      "source": [
        "#Grab hold of the dataset.\n",
        "X, y = get_dataset()\n",
        "\n",
        "#Grab the models to use.\n",
        "models = get_models()"
      ],
      "metadata": {
        "id": "82Fr71ie6wRa"
      },
      "execution_count": null,
      "outputs": []
    },
    {
      "cell_type": "code",
      "source": [
        "#Run and Evaluate the models.\n",
        "results, names = list(), list()\n",
        "for name, model in models.items():\n",
        "    scores = evaluate_model(model, X, y)\n",
        "    results.append(scores)\n",
        "    names.append(name)\n",
        "    print('>%s %.3f (%.3f)' % (name, mean(scores), std(scores)))"
      ],
      "metadata": {
        "id": "aeIVfqEX7n_d",
        "colab": {
          "base_uri": "https://localhost:8080/"
        },
        "outputId": "84225cce-2ffc-4b84-96b4-83815889dc94"
      },
      "execution_count": null,
      "outputs": [
        {
          "output_type": "stream",
          "name": "stdout",
          "text": [
            ">LR 0.797 (0.079)\n",
            ">KNN 0.754 (0.067)\n",
            ">DCTrees 0.754 (0.104)\n",
            ">Bayes 0.281 (0.098)\n",
            ">SVM 0.808 (0.031)\n",
            ">stacking 0.808 (0.031)\n"
          ]
        }
      ]
    },
    {
      "cell_type": "code",
      "source": [],
      "metadata": {
        "id": "ZMlbJdunTeG7"
      },
      "execution_count": null,
      "outputs": []
    },
    {
      "cell_type": "code",
      "source": [
        "\n"
      ],
      "metadata": {
        "id": "Iq13CMtkIqy4"
      },
      "execution_count": null,
      "outputs": []
    },
    {
      "cell_type": "code",
      "source": [
        "lookup_df = pd.read_csv('/content/drive/MyDrive/Big_data/cas_adjustment_lookup_2019.csv')\n",
        "lookup19_df = lookup_df[lookup_df['accident_index'].str.startswith('2019')]\n",
        "lookup19_df.reset_index(drop=True, inplace=True)\n",
        "lookup19_df.rename(columns={'accident_index' : 'Accident_Index'}, inplace=True)"
      ],
      "metadata": {
        "id": "pKQLp8p5TYZG"
      },
      "execution_count": null,
      "outputs": []
    },
    {
      "cell_type": "code",
      "source": [
        "merge_lookup_df = pd.merge(slight_and_serious_casualties, lookup19_df, how='left',\n",
        "                                        on=['Accident_Index', 'Vehicle_Reference'])"
      ],
      "metadata": {
        "id": "GZl-VCwQYkXW"
      },
      "execution_count": null,
      "outputs": []
    },
    {
      "cell_type": "code",
      "source": [
        "merge_lookup_df.head(2)"
      ],
      "metadata": {
        "colab": {
          "base_uri": "https://localhost:8080/",
          "height": 205
        },
        "id": "BywX2KH1YqaP",
        "outputId": "0c20caf2-e683-4d1f-cb48-94775880bca8"
      },
      "execution_count": null,
      "outputs": [
        {
          "output_type": "execute_result",
          "data": {
            "text/plain": [
              "  Accident_Index  Location_Easting_OSGR  Location_Northing_OSGR  Longitude  \\\n",
              "0  2019010128300               528218.0                180407.0  -0.153842   \n",
              "1  2019010128300               528218.0                180407.0  -0.153842   \n",
              "\n",
              "    Latitude  Police_Force  Accident_Severity  Number_of_Vehicles  \\\n",
              "0  51.508057             1                  3                   2   \n",
              "1  51.508057             1                  3                   2   \n",
              "\n",
              "   Number_of_Casualties        Date  ...  Engine_Capacity_(CC)  \\\n",
              "0                     3  18/02/2019  ...                  1390   \n",
              "1                     3  18/02/2019  ...                  1390   \n",
              "\n",
              "  Propulsion_Code  Age_of_Vehicle Driver_IMD_Decile  Driver_Home_Area_Type  \\\n",
              "0               1               6                 2                      1   \n",
              "1               1               6                 2                      1   \n",
              "\n",
              "   Vehicle_IMD_Decile  Casualty_Reference  Adjusted_Serious  Adjusted_Slight  \\\n",
              "0                   2                 2.0               0.0              1.0   \n",
              "1                   2                 1.0               0.0              1.0   \n",
              "\n",
              "   Injury_Based  \n",
              "0           1.0  \n",
              "1           1.0  \n",
              "\n",
              "[2 rows x 61 columns]"
            ],
            "text/html": [
              "\n",
              "  <div id=\"df-43673f2e-c068-4be5-a55d-88ab6f5192c8\">\n",
              "    <div class=\"colab-df-container\">\n",
              "      <div>\n",
              "<style scoped>\n",
              "    .dataframe tbody tr th:only-of-type {\n",
              "        vertical-align: middle;\n",
              "    }\n",
              "\n",
              "    .dataframe tbody tr th {\n",
              "        vertical-align: top;\n",
              "    }\n",
              "\n",
              "    .dataframe thead th {\n",
              "        text-align: right;\n",
              "    }\n",
              "</style>\n",
              "<table border=\"1\" class=\"dataframe\">\n",
              "  <thead>\n",
              "    <tr style=\"text-align: right;\">\n",
              "      <th></th>\n",
              "      <th>Accident_Index</th>\n",
              "      <th>Location_Easting_OSGR</th>\n",
              "      <th>Location_Northing_OSGR</th>\n",
              "      <th>Longitude</th>\n",
              "      <th>Latitude</th>\n",
              "      <th>Police_Force</th>\n",
              "      <th>Accident_Severity</th>\n",
              "      <th>Number_of_Vehicles</th>\n",
              "      <th>Number_of_Casualties</th>\n",
              "      <th>Date</th>\n",
              "      <th>...</th>\n",
              "      <th>Engine_Capacity_(CC)</th>\n",
              "      <th>Propulsion_Code</th>\n",
              "      <th>Age_of_Vehicle</th>\n",
              "      <th>Driver_IMD_Decile</th>\n",
              "      <th>Driver_Home_Area_Type</th>\n",
              "      <th>Vehicle_IMD_Decile</th>\n",
              "      <th>Casualty_Reference</th>\n",
              "      <th>Adjusted_Serious</th>\n",
              "      <th>Adjusted_Slight</th>\n",
              "      <th>Injury_Based</th>\n",
              "    </tr>\n",
              "  </thead>\n",
              "  <tbody>\n",
              "    <tr>\n",
              "      <th>0</th>\n",
              "      <td>2019010128300</td>\n",
              "      <td>528218.0</td>\n",
              "      <td>180407.0</td>\n",
              "      <td>-0.153842</td>\n",
              "      <td>51.508057</td>\n",
              "      <td>1</td>\n",
              "      <td>3</td>\n",
              "      <td>2</td>\n",
              "      <td>3</td>\n",
              "      <td>18/02/2019</td>\n",
              "      <td>...</td>\n",
              "      <td>1390</td>\n",
              "      <td>1</td>\n",
              "      <td>6</td>\n",
              "      <td>2</td>\n",
              "      <td>1</td>\n",
              "      <td>2</td>\n",
              "      <td>2.0</td>\n",
              "      <td>0.0</td>\n",
              "      <td>1.0</td>\n",
              "      <td>1.0</td>\n",
              "    </tr>\n",
              "    <tr>\n",
              "      <th>1</th>\n",
              "      <td>2019010128300</td>\n",
              "      <td>528218.0</td>\n",
              "      <td>180407.0</td>\n",
              "      <td>-0.153842</td>\n",
              "      <td>51.508057</td>\n",
              "      <td>1</td>\n",
              "      <td>3</td>\n",
              "      <td>2</td>\n",
              "      <td>3</td>\n",
              "      <td>18/02/2019</td>\n",
              "      <td>...</td>\n",
              "      <td>1390</td>\n",
              "      <td>1</td>\n",
              "      <td>6</td>\n",
              "      <td>2</td>\n",
              "      <td>1</td>\n",
              "      <td>2</td>\n",
              "      <td>1.0</td>\n",
              "      <td>0.0</td>\n",
              "      <td>1.0</td>\n",
              "      <td>1.0</td>\n",
              "    </tr>\n",
              "  </tbody>\n",
              "</table>\n",
              "<p>2 rows × 61 columns</p>\n",
              "</div>\n",
              "      <button class=\"colab-df-convert\" onclick=\"convertToInteractive('df-43673f2e-c068-4be5-a55d-88ab6f5192c8')\"\n",
              "              title=\"Convert this dataframe to an interactive table.\"\n",
              "              style=\"display:none;\">\n",
              "        \n",
              "  <svg xmlns=\"http://www.w3.org/2000/svg\" height=\"24px\"viewBox=\"0 0 24 24\"\n",
              "       width=\"24px\">\n",
              "    <path d=\"M0 0h24v24H0V0z\" fill=\"none\"/>\n",
              "    <path d=\"M18.56 5.44l.94 2.06.94-2.06 2.06-.94-2.06-.94-.94-2.06-.94 2.06-2.06.94zm-11 1L8.5 8.5l.94-2.06 2.06-.94-2.06-.94L8.5 2.5l-.94 2.06-2.06.94zm10 10l.94 2.06.94-2.06 2.06-.94-2.06-.94-.94-2.06-.94 2.06-2.06.94z\"/><path d=\"M17.41 7.96l-1.37-1.37c-.4-.4-.92-.59-1.43-.59-.52 0-1.04.2-1.43.59L10.3 9.45l-7.72 7.72c-.78.78-.78 2.05 0 2.83L4 21.41c.39.39.9.59 1.41.59.51 0 1.02-.2 1.41-.59l7.78-7.78 2.81-2.81c.8-.78.8-2.07 0-2.86zM5.41 20L4 18.59l7.72-7.72 1.47 1.35L5.41 20z\"/>\n",
              "  </svg>\n",
              "      </button>\n",
              "      \n",
              "  <style>\n",
              "    .colab-df-container {\n",
              "      display:flex;\n",
              "      flex-wrap:wrap;\n",
              "      gap: 12px;\n",
              "    }\n",
              "\n",
              "    .colab-df-convert {\n",
              "      background-color: #E8F0FE;\n",
              "      border: none;\n",
              "      border-radius: 50%;\n",
              "      cursor: pointer;\n",
              "      display: none;\n",
              "      fill: #1967D2;\n",
              "      height: 32px;\n",
              "      padding: 0 0 0 0;\n",
              "      width: 32px;\n",
              "    }\n",
              "\n",
              "    .colab-df-convert:hover {\n",
              "      background-color: #E2EBFA;\n",
              "      box-shadow: 0px 1px 2px rgba(60, 64, 67, 0.3), 0px 1px 3px 1px rgba(60, 64, 67, 0.15);\n",
              "      fill: #174EA6;\n",
              "    }\n",
              "\n",
              "    [theme=dark] .colab-df-convert {\n",
              "      background-color: #3B4455;\n",
              "      fill: #D2E3FC;\n",
              "    }\n",
              "\n",
              "    [theme=dark] .colab-df-convert:hover {\n",
              "      background-color: #434B5C;\n",
              "      box-shadow: 0px 1px 3px 1px rgba(0, 0, 0, 0.15);\n",
              "      filter: drop-shadow(0px 1px 2px rgba(0, 0, 0, 0.3));\n",
              "      fill: #FFFFFF;\n",
              "    }\n",
              "  </style>\n",
              "\n",
              "      <script>\n",
              "        const buttonEl =\n",
              "          document.querySelector('#df-43673f2e-c068-4be5-a55d-88ab6f5192c8 button.colab-df-convert');\n",
              "        buttonEl.style.display =\n",
              "          google.colab.kernel.accessAllowed ? 'block' : 'none';\n",
              "\n",
              "        async function convertToInteractive(key) {\n",
              "          const element = document.querySelector('#df-43673f2e-c068-4be5-a55d-88ab6f5192c8');\n",
              "          const dataTable =\n",
              "            await google.colab.kernel.invokeFunction('convertToInteractive',\n",
              "                                                     [key], {});\n",
              "          if (!dataTable) return;\n",
              "\n",
              "          const docLinkHtml = 'Like what you see? Visit the ' +\n",
              "            '<a target=\"_blank\" href=https://colab.research.google.com/notebooks/data_table.ipynb>data table notebook</a>'\n",
              "            + ' to learn more about interactive tables.';\n",
              "          element.innerHTML = '';\n",
              "          dataTable['output_type'] = 'display_data';\n",
              "          await google.colab.output.renderOutput(dataTable, element);\n",
              "          const docLink = document.createElement('div');\n",
              "          docLink.innerHTML = docLinkHtml;\n",
              "          element.appendChild(docLink);\n",
              "        }\n",
              "      </script>\n",
              "    </div>\n",
              "  </div>\n",
              "  "
            ]
          },
          "metadata": {},
          "execution_count": 255
        }
      ]
    },
    {
      "cell_type": "code",
      "source": [],
      "metadata": {
        "id": "4K1I5t5dcWg6"
      },
      "execution_count": null,
      "outputs": []
    }
  ]
}